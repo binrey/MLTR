{
 "cells": [
  {
   "cell_type": "code",
   "execution_count": null,
   "metadata": {},
   "outputs": [],
   "source": [
    "import sys\n",
    "import pandas as pd\n",
    "from matplotlib import pyplot as plt\n",
    "from dataclasses import dataclass\n",
    "import numpy as np\n",
    "from typing import Optional, List\n",
    "from backtest_broker import Position, Broker\n",
    "from copy import deepcopy\n",
    "from backtest import BackTestResults\n",
    "from loguru import logger\n",
    "\n",
    "logger.remove()\n",
    "logger.add(sys.stderr, level=\"ERROR\")\n",
    "\n",
    "%load_ext autoreload\n",
    "%autoreload 2"
   ]
  },
  {
   "cell_type": "code",
   "execution_count": null,
   "metadata": {},
   "outputs": [],
   "source": [
    "@dataclass\n",
    "class FeeConfig:\n",
    "    broker: Optional[float] = None\n",
    "    slipage: Optional[float] = None\n",
    "    W: Optional[float] = None\n",
    "    R: Optional[float] = None\n",
    "    base: Optional[float] = None\n",
    "\n",
    "class Comission():\n",
    "    def __init__(self, config:FeeConfig):\n",
    "        self.params = config\n",
    "\n",
    "    def _calc_stock_comission(self, price):\n",
    "        return round(price*self.params.W/self.params.R*self.params.base/100, 2)\n",
    "\n",
    "    def __call__(self, price, is_taker:bool):\n",
    "        com = self.params.broker\n",
    "        if is_taker:\n",
    "            com += self._calc_stock_comission(price) + self.params.slipage\n",
    "        return com\n",
    "    \n",
    "fee_calculator = Comission(FeeConfig(broker=0.7, slipage=1, W=1, R=1, base=0.00462))"
   ]
  },
  {
   "cell_type": "code",
   "execution_count": null,
   "metadata": {},
   "outputs": [],
   "source": [
    "df = pd.read_csv(\"/Users/andrybin/Yandex.Disk.localized/Data/validation/DMA@SR-M15.txt\")\n",
    "# df[\"Volume\"] = df.Type.abs()\n",
    "# df.Type /= df.Volume\n",
    "df.Time = list(map(np.datetime64, pd.to_datetime(df.Time)))\n",
    "df"
   ]
  },
  {
   "cell_type": "code",
   "execution_count": null,
   "metadata": {},
   "outputs": [],
   "source": [
    "# profits, fees = [0], [0]\n",
    "last_type = 0\n",
    "last_pos = None\n",
    "#last_pos = Position(df.Price.iloc[0], df.Time.iloc[0],0,\n",
    "#              #             volume=100000/df.Price.iloc[0]*6, \n",
    "#                #            fee_rate=0.003                                    )\n",
    "positions = []\n",
    "\n",
    "for i in range(0, len(df)):\n",
    "    # cur_prof = last_type*(df.Price.iloc[i]-df.Price.iloc[i-1])\n",
    "    # cur_fee = fee_calculator(df.Price.iloc[i-1], df.SL.iloc[i] > 0)\n",
    "    # print(last_type, cur_prof, df.SL.iloc[i], cur_fee)\n",
    "    last_type = df.Type.iloc[i] + last_type\n",
    "    if last_pos is not None:\n",
    "        last_pos.close(df.Price.iloc[i], df.Time.iloc[i], i)\n",
    "    # profits.append(cur_prof)\n",
    "    # fees.append(cur_fee)\n",
    "    if last_pos is not None:\n",
    "        positions.append(last_pos)\n",
    "    last_pos = None\n",
    "    if last_type != 0:\n",
    "        last_pos = Position(df.Price.iloc[i]*np.sign(last_type), np.datetime64(df.Time.iloc[i]), i, volume=100000/df.Price.iloc[i], fee_rate=0.003)"
   ]
  },
  {
   "cell_type": "code",
   "execution_count": null,
   "metadata": {},
   "outputs": [],
   "source": [
    "br = Broker(None)\n",
    "br.positions = positions\n",
    "\n",
    "bres = BackTestResults(\"2015-01-01\", \"2024-06-01\", 100000)\n",
    "bres.wallet = 100000\n",
    "bres.leverage = 6\n",
    "bres.process_backtest(br)"
   ]
  },
  {
   "cell_type": "code",
   "execution_count": null,
   "metadata": {},
   "outputs": [],
   "source": [
    "bres.APR, bres.final_profit, bres.metrics"
   ]
  },
  {
   "cell_type": "code",
   "execution_count": null,
   "metadata": {},
   "outputs": [],
   "source": [
    "    fig, ax1 = plt.subplots(figsize=(15, 8))\n",
    "    ax2 = ax1.twinx()\n",
    "    ax1.plot(bres.daily_hist.days, bres.daily_hist.profit, linewidth=3, color=\"b\", alpha=0.6)\n",
    "    ax1.plot(bres.deal_hist.dates, bres.deal_hist.profit, linewidth=1, color=\"b\", alpha=0.6)    \n",
    "    ax1.plot(bres.deal_hist.dates, bres.deal_hist.profit_nofees, linewidth=1, color=\"r\", alpha=0.6)\n",
    "    if \"buy_and_hold\" in bres.daily_hist.columns:\n",
    "        ax1.plot(bres.daily_hist.days, bres.daily_hist.buy_and_hold, linewidth=1, alpha=0.6)  \n",
    "    ax1.legend([\"sum. profit\", \"profit from strategy\", \"profit without fees\", \"buy and hold\"])\n",
    "    plt.grid(\"on\")\n",
    "    ax2.plot(bres.daily_hist[\"days\"], bres.daily_hist[\"deposit\"], \"-\", linewidth=3, alpha=0.3)\n",
    "    ax2.legend([\"deposit\"])\n",
    "    \n",
    "    plt.tight_layout()\n",
    "    plt.savefig(\"backtest.png\")\n",
    "    plt.show()"
   ]
  },
  {
   "cell_type": "code",
   "execution_count": null,
   "metadata": {},
   "outputs": [],
   "source": [
    "daily_hist_lkoh = bres.daily_hist"
   ]
  },
  {
   "cell_type": "code",
   "execution_count": null,
   "metadata": {},
   "outputs": [],
   "source": [
    "daily_hist_sr = bres.daily_hist"
   ]
  },
  {
   "cell_type": "code",
   "execution_count": null,
   "metadata": {},
   "outputs": [],
   "source": [
    "plt.plot(daily_hist_lkoh.days, daily_hist_lkoh.profit, linewidth=3, color=\"b\", alpha=0.6)\n",
    "plt.plot(daily_hist_sr.days, daily_hist_sr.profit, linewidth=3, color=\"g\", alpha=0.6)\n",
    "profit_av = (daily_hist_sr.profit+daily_hist_lkoh.profit)/2\n",
    "plt.plot(daily_hist_sr.days, profit_av, linewidth=1, color=\"r\")"
   ]
  },
  {
   "cell_type": "code",
   "execution_count": null,
   "metadata": {},
   "outputs": [],
   "source": [
    "APR_av, maxwait_av = bres.metrics_from_profit(profit_av.values)\n",
    "APR_av, maxwait_av"
   ]
  }
 ],
 "metadata": {
  "kernelspec": {
   "display_name": "base",
   "language": "python",
   "name": "python3"
  },
  "language_info": {
   "codemirror_mode": {
    "name": "ipython",
    "version": 3
   },
   "file_extension": ".py",
   "mimetype": "text/x-python",
   "name": "python",
   "nbconvert_exporter": "python",
   "pygments_lexer": "ipython3",
   "version": "3.10.11"
  }
 },
 "nbformat": 4,
 "nbformat_minor": 2
}
