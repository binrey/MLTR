{
 "cells": [
  {
   "cell_type": "code",
   "execution_count": null,
   "metadata": {},
   "outputs": [],
   "source": [
    "import sys\n",
    "import pandas as pd\n",
    "from matplotlib import pyplot as plt\n",
    "from dataclasses import dataclass\n",
    "import numpy as np\n",
    "from typing import Optional, List\n",
    "from trade.utils import Position\n",
    "from backtesting.backtest import BackTestResults\n",
    "from loguru import logger\n",
    "from common.utils import FeeRate\n",
    "\n",
    "logger.remove()\n",
    "logger.add(sys.stderr, level=\"ERROR\")\n",
    "\n",
    "%load_ext autoreload\n",
    "%autoreload 2"
   ]
  },
  {
   "cell_type": "code",
   "execution_count": null,
   "metadata": {},
   "outputs": [],
   "source": [
    "import os\n",
    "os.environ.update({\"FINDATA\": \"/Users/andrybin/Yandex.Disk.localized/fin_data\"})\n",
    "os.environ.get(\"FINDATA\", \"fin_data\")"
   ]
  },
  {
   "cell_type": "code",
   "execution_count": null,
   "metadata": {},
   "outputs": [],
   "source": [
    "df = pd.read_csv(\"/Users/andrybin/Yandex.Disk.localized/Компьютер MINIMOZG/Files/DMA@LKOH-M15.txt\")\n",
    "# df[\"Volume\"] = df.Type.abs()\n",
    "# df.Type /= df.Volume\n",
    "df.Time = list(map(np.datetime64, pd.to_datetime(df.Time)))\n",
    "df"
   ]
  },
  {
   "cell_type": "code",
   "execution_count": null,
   "metadata": {},
   "outputs": [],
   "source": [
    "from backtesting.backtest_broker import Broker\n",
    "from common.type import Side\n",
    "\n",
    "\n",
    "fee = FeeRate(0.008, 0)\n",
    "wallet = 100000\n",
    "leverage = 3\n",
    "last_type = 0\n",
    "last_pos = None                                 \n",
    "positions = []\n",
    "ticker = df.Symbol.iloc[0]\n",
    "\n",
    "for i in range(0, len(df)):\n",
    "    last_type = df.Type.iloc[i] + last_type\n",
    "    if last_pos is not None:\n",
    "        last_pos.close(df.Price.iloc[i], df.Time.iloc[i], i)\n",
    "    if last_pos is not None:\n",
    "        positions.append(last_pos)\n",
    "    last_pos = None\n",
    "    if last_type != 0:\n",
    "        last_pos = Position(df.Price.iloc[i],\n",
    "                            side=Side.from_int(last_type), \n",
    "                            date=np.datetime64(df.Time.iloc[i]), \n",
    "                            indx=i, \n",
    "                            ticker=ticker,\n",
    "                            volume=wallet/df.Price.iloc[i]*leverage, \n",
    "                            fee_rate=fee)\n",
    "        \n",
    "br = Broker()\n",
    "br.positions = positions\n",
    "\n",
    "bres = BackTestResults(\"2015-01-01\", \"2024-10-10\", wallet)\n",
    "# bres.wallet = 100\n",
    "bres.leverage = leverage\n",
    "bres.process_backtest(br, leverage)"
   ]
  },
  {
   "cell_type": "code",
   "execution_count": null,
   "metadata": {},
   "outputs": [],
   "source": [
    "from data_processing.dataloading import DataParser\n",
    "from easydict import EasyDict\n",
    "from common.type import TimePeriod\n",
    "\n",
    "\n",
    "cfg = EasyDict({\"data_type\": \"metatrader\", \"period\": TimePeriod.M15, \"ticker\": \"LKOH\"})\n",
    "\n",
    "data_pd, data_np = DataParser(cfg).load()\n",
    "bres.compute_buy_and_hold(data_np.Date, data_np.Close, False)"
   ]
  },
  {
   "cell_type": "code",
   "execution_count": null,
   "metadata": {},
   "outputs": [],
   "source": [
    "bres.monthly_hist"
   ]
  },
  {
   "cell_type": "code",
   "execution_count": null,
   "metadata": {},
   "outputs": [],
   "source": [
    "bres.APR, bres.final_profit, bres.metrics, bres.fees"
   ]
  },
  {
   "cell_type": "code",
   "execution_count": null,
   "metadata": {},
   "outputs": [],
   "source": [
    "bres.plot_results()"
   ]
  },
  {
   "cell_type": "code",
   "execution_count": 26,
   "metadata": {},
   "outputs": [],
   "source": [
    "daily_hist_lkoh = bres.daily_hist"
   ]
  },
  {
   "cell_type": "code",
   "execution_count": 27,
   "metadata": {},
   "outputs": [],
   "source": [
    "daily_hist_sr = bres.daily_hist"
   ]
  },
  {
   "cell_type": "code",
   "execution_count": null,
   "metadata": {},
   "outputs": [],
   "source": [
    "plt.plot(daily_hist_lkoh.days, daily_hist_lkoh.profit, linewidth=1, color=\"b\", alpha=0.6)\n",
    "plt.plot(daily_hist_sr.days, daily_hist_sr.profit, linewidth=1, color=\"g\", alpha=0.6)\n",
    "profit_av = (daily_hist_sr.profit+daily_hist_lkoh.profit)/2\n",
    "plt.plot(daily_hist_sr.days, profit_av, linewidth=3, color=\"r\")"
   ]
  },
  {
   "cell_type": "code",
   "execution_count": null,
   "metadata": {},
   "outputs": [],
   "source": [
    "APR_av, maxwait_av = bres.metrics_from_profit(profit_av.values)\n",
    "APR_av, maxwait_av"
   ]
  }
 ],
 "metadata": {
  "kernelspec": {
   "display_name": "base",
   "language": "python",
   "name": "python3"
  },
  "language_info": {
   "codemirror_mode": {
    "name": "ipython",
    "version": 3
   },
   "file_extension": ".py",
   "mimetype": "text/x-python",
   "name": "python",
   "nbconvert_exporter": "python",
   "pygments_lexer": "ipython3",
   "version": "3.10.11"
  }
 },
 "nbformat": 4,
 "nbformat_minor": 2
}
