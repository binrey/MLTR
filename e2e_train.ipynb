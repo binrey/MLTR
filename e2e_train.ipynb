{
 "cells": [
  {
   "cell_type": "code",
   "execution_count": null,
   "metadata": {},
   "outputs": [],
   "source": [
    "import sys\n",
    "import torch\n",
    "import numpy as np\n",
    "import pandas as pd\n",
    "import matplotlib.pyplot as plt\n",
    "from common.utils import PyConfig\n",
    "from ml.e2e_train import autoregress_sequense, batch_sequense\n",
    "from ml.e2e_train import E2ETrain\n",
    "from trade.backtest import launch as backtest_launch\n",
    "from loguru import logger # type: ignore\n",
    "from copy import deepcopy\n",
    "\n",
    "%reload_ext autoreload\n",
    "%autoreload 2\n",
    "\n",
    "logger.remove()\n",
    "logger.add(sys.stderr, format=\"{level} {message}\", colorize=True, level=\"DEBUG\")\n",
    "\n",
    "def save_model(model):\n",
    "    model.eval()\n",
    "    example = torch.rand((1,) + model.inp_shape)\n",
    "    model_jit = torch.jit.trace(model, example)\n",
    "    model_jit.save(\"model.pt\")\n",
    "\n",
    "    # torch.save(model, \"model.pt\")"
   ]
  },
  {
   "cell_type": "code",
   "execution_count": null,
   "metadata": {},
   "outputs": [],
   "source": [
    "cfg = PyConfig(\"configs/maw.py\").get_inference()\n",
    "# cfg.date_start = \"2008.01.01\"\n",
    "# cfg.date_end = \"2018.01.01\""
   ]
  },
  {
   "cell_type": "code",
   "execution_count": null,
   "metadata": {},
   "outputs": [],
   "source": [
    "e2e_train = E2ETrain(cfg)\n",
    "e2e_train.load_data(dataset_root=\"/Users/andrybin/Yandex.Disk.localized/fin_data\", val_size=0.2)"
   ]
  },
  {
   "cell_type": "code",
   "execution_count": null,
   "metadata": {},
   "outputs": [],
   "source": [
    "DEVICE = torch.device(\"cpu\")\n",
    "model = e2e_train.train(num_epochs=1500, \n",
    "                        resume=True,\n",
    "                        device=DEVICE)"
   ]
  },
  {
   "cell_type": "code",
   "execution_count": null,
   "metadata": {},
   "outputs": [],
   "source": [
    "model.eval()\n",
    "p = e2e_train.train_sets[cfg.symbol].price\n",
    "with torch.no_grad():\n",
    "    seq_result = batch_sequense(model, \n",
    "                                p, \n",
    "                                e2e_train.train_sets[cfg.symbol].features, \n",
    "                                cfg.fee_rate, \n",
    "                                device=DEVICE)\n",
    "    output_seq = seq_result.model_ans.cpu().numpy()\n",
    "    result_seq = seq_result.profit_curve().cpu().numpy()\n",
    "    fee_seq = seq_result.fees.cumsum(0).cpu().numpy()\n",
    "hold = e2e_train.compute_hold(p, norm=True)[0]\n",
    "\n",
    "fig, ax1 = plt.subplots(2, 1, height_ratios = [3, 1], figsize=(10, 8))\n",
    "ax1 = plt.subplot(2, 1, 1)\n",
    "ax1.plot(result_seq)\n",
    "# ax1.plot(fee_seq)\n",
    "ax1.plot(hold, linewidth=3)\n",
    "# ax1.plot(e2e_train.p - e2e_train.p[0], linewidth=3)\n",
    "\n",
    "ax1.plot([p.shape[0]*(1-e2e_train.val_size), p.shape[0]*(1-e2e_train.val_size)], \n",
    "         [0, result_seq.max()],\n",
    "         \"--\",\n",
    "         linewidth=3)\n",
    "ax1.grid(\"on\")\n",
    "plt.tight_layout()\n",
    "plt.grid(\"on\")\n",
    "\n",
    "ax2 = ax1.twinx()\n",
    "ax2.bar(list(range(output_seq.shape[0])), height=output_seq, width=1, alpha=0.4)\n",
    "\n",
    "ax1 = plt.subplot(2, 1, 2)\n",
    "ax1.fill(np.hstack([result_seq - hold, np.zeros(1)]))"
   ]
  },
  {
   "cell_type": "code",
   "execution_count": null,
   "metadata": {},
   "outputs": [],
   "source": [
    "DEVICE = torch.device(\"cpu\")\n",
    "\n",
    "cfg = PyConfig(\"zz.py\").test()\n",
    "date_start = datetime.strptime(cfg.date_start, '%Y-%m-%dT%H:%M:%S').strftime('%m/%d/%Y')\n",
    "date_end = datetime.strptime(cfg.date_end, '%Y-%m-%dT%H:%M:%S').strftime('%m/%d/%Y')\n",
    "\n",
    "years = [pd.to_datetime(d).date().strftime('%Y-%m-%dT%H:%M:%S') for d in \n",
    "         pd.date_range(start=date_start, end=date_end, freq=\"Y\")]\n",
    "\n",
    "date_start = cfg.date_start\n",
    "last_prof = 0\n",
    "for year in years[19:-1]:\n",
    "    cfg = PyConfig(\"zz.py\").test()\n",
    "    cfg.date_end = year\n",
    "    e2e_train = E2ETrain(cfg)\n",
    "    e2e_train.load_data()\n",
    "    model = e2e_train.train(num_epochs=200, resume=False, device=DEVICE)\n",
    "    save_model(model)\n",
    "    \n",
    "    cfg = PyConfig(\"zz.py\").test()\n",
    "    cfg.date_start = year\n",
    "    brok_results = backtest_launch(cfg)\n",
    "\n",
    "    plt.plot(brok_results.daily_hist.days, brok_results.daily_hist.profit + last_prof, linewidth=1, color=\"b\", alpha=0.6)\n",
    "    last_prof += brok_results.final_profit\n",
    "    plt.grid(\"on\")\n",
    "    plt.tight_layout()\n",
    "    # legend.append(f\"{cfg.date_start}-{cfg.date_end}\")"
   ]
  },
  {
   "cell_type": "code",
   "execution_count": null,
   "metadata": {},
   "outputs": [],
   "source": [
    "brok_results = backtest(cfg)\n"
   ]
  }
 ],
 "metadata": {
  "kernelspec": {
   "display_name": "base",
   "language": "python",
   "name": "python3"
  },
  "language_info": {
   "codemirror_mode": {
    "name": "ipython",
    "version": 3
   },
   "file_extension": ".py",
   "mimetype": "text/x-python",
   "name": "python",
   "nbconvert_exporter": "python",
   "pygments_lexer": "ipython3",
   "version": "3.10.11"
  }
 },
 "nbformat": 4,
 "nbformat_minor": 2
}
