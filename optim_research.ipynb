{
 "cells": [
  {
   "cell_type": "code",
   "execution_count": null,
   "metadata": {},
   "outputs": [],
   "source": [
    "import pickle\n",
    "from pathlib import Path\n",
    "from easydict import EasyDict\n",
    "import pandas as pd\n",
    "from matplotlib import pyplot as plt\n",
    "\n",
    "pd.set_option('display.max_rows', 500)\n",
    "pd.set_option('display.max_columns', 500)\n",
    "pd.set_option('display.width', 1000)"
   ]
  },
  {
   "cell_type": "code",
   "execution_count": null,
   "metadata": {},
   "outputs": [],
   "source": [
    "cfgs, btests = [], []\n",
    "for p in sorted(Path(\"optimization\").glob(\"*.pickle\")):\n",
    "    cfg, btest = pickle.load(open(p, \"rb\"))\n",
    "    cfgs.append(cfg)\n",
    "    btests.append(btest)\n",
    "    # print(p)\n"
   ]
  },
  {
   "cell_type": "code",
   "execution_count": null,
   "metadata": {},
   "outputs": [],
   "source": [
    "opt_summary = {k:[] for k in cfgs[0].keys()}\n",
    "for k in opt_summary.keys():\n",
    "    for cfg in cfgs:\n",
    "        v = cfg[k]\n",
    "        if type(v) is EasyDict and \"func\" in v.keys():\n",
    "            opt_summary[k].append(str(v.func.name))\n",
    "        else:\n",
    "            opt_summary[k].append(v)\n",
    "            \n",
    "opt_summary[\"btest\"], opt_summary[\"ndeals\"] = [], []\n",
    "for btest in btests:\n",
    "    opt_summary[\"btest\"].append(btest.profits.sum())\n",
    "    opt_summary[\"ndeals\"].append(len(btest.profits))\n",
    "    \n",
    "opt_summary = pd.DataFrame(opt_summary)\n",
    "opt_summary.sort_values(by=[\"btest\"], ascending=False, inplace=True)\n",
    "opt_summary = opt_summary[opt_summary.ticker != \"NVTK\"]\n",
    "# opt_summary.head(10)"
   ]
  },
  {
   "cell_type": "code",
   "execution_count": null,
   "metadata": {},
   "outputs": [],
   "source": [
    "opt_res_ids = [0, 1, 2]\n",
    "tickers2plot = [\"BTCUSDT\", \"ETHUSDT\"]\n",
    "\n",
    "on_one_plot = False\n",
    "plt.figure(figsize=(10, 5*(1 + (1 - on_one_plot)*len(opt_res_ids))))\n",
    "plt.tight_layout()\n",
    "for i, opt_res_id in enumerate(opt_res_ids):\n",
    "    if not on_one_plot:\n",
    "        plt.subplot(len(opt_res_ids), 1, i+1)\n",
    "    legend = []\n",
    "    for ticker2plot in tickers2plot:\n",
    "        btest_temp = opt_summary[opt_summary.ticker == ticker2plot]\n",
    "        test_id = btest_temp.index[opt_res_id]\n",
    "        line = btests[test_id].profits.cumsum()\n",
    "        plt.plot([pos.close_date for pos in btests[test_id].positions], line, linewidth=2)\n",
    "        legend.append(f\"{test_id} {cfgs[test_id].ticker}-{cfgs[test_id].period}: {cfgs[test_id].body_classifier.func.name}, sl={cfgs[test_id].stops_processor.func.name}, sl-rate={cfgs[test_id].trailing_stop_rate} -> {line[-1]:.0f}\")\n",
    "    plt.legend(legend)\n",
    "    plt.grid(\"on\")"
   ]
  },
  {
   "cell_type": "code",
   "execution_count": null,
   "metadata": {},
   "outputs": [],
   "source": [
    "opt_res = {\"param_set\":[], \"ticker\":[], \"btest\":[], \"ndeals\":[], \"test_ids\":[]}\n",
    "for i in range(opt_summary.shape[0]):\n",
    "    exphash, test_ids = \"\", \"\"\n",
    "    for col in opt_summary.columns:\n",
    "        if col not in [\"ticker\", \"btest\", \"ndeals\", \"no_trading_days\"]:\n",
    "            exphash += str(opt_summary[col].iloc[i]) + \" \"\n",
    "    opt_res[\"test_ids\"].append(f\".{opt_summary.index[i]}\")\n",
    "    opt_res[\"param_set\"].append(exphash)\n",
    "    opt_res[\"ticker\"].append(f\".{opt_summary.ticker.iloc[i]}\")\n",
    "    opt_res[\"ndeals\"].append(opt_summary.ndeals.iloc[i])\n",
    "    opt_res[\"btest\"].append(opt_summary.btest.iloc[i])\n",
    "\n",
    "opt_res = pd.DataFrame(opt_res)\n",
    "opt_res = opt_res.groupby(by=\"param_set\").sum()\n",
    "opt_res.sort_values(by=[\"btest\"], ascending=False, inplace=True)\n",
    "# opt_res.head(20)"
   ]
  },
  {
   "cell_type": "code",
   "execution_count": null,
   "metadata": {},
   "outputs": [],
   "source": [
    "plt.figure(figsize=(15, 10))\n",
    "opt_res_id = 0\n",
    "legend = []\n",
    "for test_id in map(int, opt_res.test_ids.iloc[opt_res_id].split(\".\")[1:]):\n",
    "    line = btests[test_id].profits.cumsum()\n",
    "    plt.plot([pos.close_date for pos in btests[test_id].positions], \n",
    "             line, \n",
    "             linewidth=2)\n",
    "    legend.append(f\"{test_id} {cfgs[test_id].ticker}-{cfgs[test_id].period}: {cfgs[test_id].body_classifier.func.name}, sl={cfgs[test_id].stops_processor.func.name}, sl-rate={cfgs[test_id].trailing_stop_rate} -> {line[-1]:.0f}\")\n",
    "plt.legend(legend)\n",
    "plt.grid(\"on\")"
   ]
  },
  {
   "cell_type": "code",
   "execution_count": null,
   "metadata": {},
   "outputs": [],
   "source": [
    "import numpy as np\n",
    "import pandas as pd\n",
    "\n",
    "\n",
    "def calc_metrics(ts):\n",
    "    ymax = ts[0]\n",
    "    twait = 0\n",
    "    twaits = []\n",
    "    h = []\n",
    "    for y in ts:\n",
    "        if y >= ymax:\n",
    "            ymax = y\n",
    "            if twait>0:\n",
    "                #print(t, twait ,ymax)\n",
    "                twaits.append(twait)\n",
    "                twait = 0\n",
    "        else:\n",
    "            twait += 1\n",
    "        h.append(ymax)\n",
    "    max_loss = (np.array(h) - ts).max()\n",
    "    twaits = np.array(twaits) if len(twaits) else np.array([len(ts)])\n",
    "    return np.median(twaits), twaits.max(), max_loss, h\n",
    "\n",
    "def convert_hist(t0, t1, btest):\n",
    "    dates2load = pd.date_range(start=\"/\".join([t0.split(\".\")[i] for i in [1, 2, 0]]), \n",
    "                            end=\"/\".join([t1.split(\".\")[i] for i in [1, 2, 0]]), \n",
    "                            freq=\"D\")\n",
    "    source_dates = [pd.to_datetime(pos.close_date).date() for pos in btest.positions]\n",
    "    target_dates = [pd.to_datetime(d).date() for d in dates2load]\n",
    "    profit = btest.profits.cumsum()\n",
    "    balance = [0]\n",
    "    unbias=False\n",
    "    for d in target_dates:\n",
    "        # Select balance records with same day\n",
    "        day_profs = [balance[-1]] + [b for b, sd in zip(profit, source_dates) if sd == d]\n",
    "        # If there are records for currend day, store latest of them, else fill days with no records with latest sored record\n",
    "        balance.append(day_profs[-1])\n",
    "    res = np.array(balance)\n",
    "    if unbias:\n",
    "        res = res - profit[0]\n",
    "    return res"
   ]
  },
  {
   "cell_type": "code",
   "execution_count": null,
   "metadata": {},
   "outputs": [],
   "source": [
    "t0 = \"2017.01.01\"\n",
    "t1 = \"2024.01.01\"\n",
    "ids = list(map(int, opt_res.test_ids.iloc[opt_res_id].split(\".\")[1:]))\n",
    "ids = [10, 31]\n",
    "test1 = convert_hist(t0, t1, btests[ids[0]])\n",
    "test2 = convert_hist(t0, t1, btests[ids[1]])\n",
    "test_av = (test1+test2)/2\n",
    "tw_mean, tw_max, loss_max, prof_max = calc_metrics(test_av)"
   ]
  },
  {
   "cell_type": "code",
   "execution_count": null,
   "metadata": {},
   "outputs": [],
   "source": [
    "plt.figure(figsize=(15, 7))\n",
    "plt.plot(test1)\n",
    "plt.plot(test2)\n",
    "plt.plot(test2)\n",
    "plt.plot(test_av)\n",
    "plt.plot(prof_max, alpha=0.4)\n",
    "print(test_av[-1], tw_mean, tw_max, loss_max/test_av[-1]*100)"
   ]
  }
 ],
 "metadata": {
  "kernelspec": {
   "display_name": "Python 3.10.11 ('base')",
   "language": "python",
   "name": "python3"
  },
  "language_info": {
   "codemirror_mode": {
    "name": "ipython",
    "version": 3
   },
   "file_extension": ".py",
   "mimetype": "text/x-python",
   "name": "python",
   "nbconvert_exporter": "python",
   "pygments_lexer": "ipython3",
   "version": "3.11.5"
  },
  "orig_nbformat": 4,
  "vscode": {
   "interpreter": {
    "hash": "fee188bb3a88b2f91c21b23bf544ec11647f6207f57c38bc925e29c2adb397fe"
   }
  }
 },
 "nbformat": 4,
 "nbformat_minor": 2
}
