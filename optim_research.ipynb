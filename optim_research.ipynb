{
 "cells": [
  {
   "cell_type": "code",
   "execution_count": null,
   "metadata": {},
   "outputs": [],
   "source": [
    "import pickle\n",
    "from pathlib import Path\n",
    "from easydict import EasyDict\n",
    "import pandas as pd\n",
    "from matplotlib import pyplot as plt\n",
    "\n",
    "pd.set_option('display.max_rows', 500)\n",
    "pd.set_option('display.max_columns', 500)\n",
    "pd.set_option('display.width', 1000)"
   ]
  },
  {
   "cell_type": "code",
   "execution_count": null,
   "metadata": {},
   "outputs": [],
   "source": [
    "cfgs, btests = [], []\n",
    "for p in sorted(Path(\"optimization\").glob(\"*.pickle\")):\n",
    "    cfg, btest = pickle.load(open(p, \"rb\"))\n",
    "    cfgs.append(cfg)\n",
    "    btests.append(btest)\n",
    "    print(p)\n"
   ]
  },
  {
   "cell_type": "code",
   "execution_count": null,
   "metadata": {},
   "outputs": [],
   "source": [
    "opt_summary = {k:[] for k in cfgs[0].keys()}\n",
    "for k in opt_summary.keys():\n",
    "    for cfg in cfgs:\n",
    "        v = cfg[k]\n",
    "        if type(v) is EasyDict and \"func\" in v.keys():\n",
    "            opt_summary[k].append(str(v.func.name))\n",
    "        else:\n",
    "            opt_summary[k].append(v)\n",
    "            \n",
    "opt_summary[\"btest\"], opt_summary[\"ndeals\"] = [], []\n",
    "for btest in btests:\n",
    "    opt_summary[\"btest\"].append(btest.profits.sum())\n",
    "    opt_summary[\"ndeals\"].append(len(btest.profits))\n",
    "    \n",
    "opt_summary = pd.DataFrame(opt_summary)\n",
    "opt_summary.sort_values(by=[\"btest\"], ascending=False, inplace=True)\n",
    "opt_summary = opt_summary[opt_summary.ticker != \"NVTK\"]\n",
    "opt_summary.head(10)"
   ]
  },
  {
   "cell_type": "code",
   "execution_count": null,
   "metadata": {},
   "outputs": [],
   "source": [
    "opt_res = {\"param_set\":[], \"ticker\":[], \"btest\":[], \"ndeals\":[], \"test_ids\":[]}\n",
    "for i in range(opt_summary.shape[0]):\n",
    "    exphash, test_ids = \"\", \"\"\n",
    "    for col in opt_summary.columns:\n",
    "        if col not in [\"ticker\", \"btest\", \"ndeals\"]:\n",
    "            exphash += str(opt_summary[col].iloc[i]) + \" \"\n",
    "    opt_res[\"test_ids\"].append(f\".{opt_summary.index[i]}\")\n",
    "    opt_res[\"param_set\"].append(exphash)\n",
    "    opt_res[\"ticker\"].append(f\".{opt_summary.ticker.iloc[i]}\")\n",
    "    opt_res[\"ndeals\"].append(opt_summary.ndeals.iloc[i])\n",
    "    opt_res[\"btest\"].append(opt_summary.btest.iloc[i])\n",
    "\n",
    "opt_res = pd.DataFrame(opt_res)\n",
    "opt_res = opt_res.groupby(by=\"param_set\").sum()\n",
    "opt_res.sort_values(by=[\"btest\"], ascending=False, inplace=True)\n",
    "opt_res.head(20)"
   ]
  },
  {
   "cell_type": "code",
   "execution_count": null,
   "metadata": {},
   "outputs": [],
   "source": [
    "plt.figure(figsize=(15, 10))\n",
    "opt_res_id = 1\n",
    "legend = []\n",
    "for test_id in map(int, opt_res.test_ids.iloc[opt_res_id].split(\".\")[1:]):\n",
    "    plt.plot([pos.close_date for pos in btests[test_id].positions], \n",
    "             btests[test_id].profits.cumsum(), \n",
    "             linewidth=2)\n",
    "    legend.append(cfgs[test_id].ticker)\n",
    "plt.legend(legend)"
   ]
  },
  {
   "cell_type": "code",
   "execution_count": null,
   "metadata": {},
   "outputs": [],
   "source": [
    "opt_summary_loc = opt_summary[opt_summary.ticker == \"BTCUSD\"]\n",
    "opt_summary_loc.head()"
   ]
  }
 ],
 "metadata": {
  "kernelspec": {
   "display_name": "Python 3.10.11 ('base')",
   "language": "python",
   "name": "python3"
  },
  "language_info": {
   "codemirror_mode": {
    "name": "ipython",
    "version": 3
   },
   "file_extension": ".py",
   "mimetype": "text/x-python",
   "name": "python",
   "nbconvert_exporter": "python",
   "pygments_lexer": "ipython3",
   "version": "3.11.5"
  },
  "orig_nbformat": 4,
  "vscode": {
   "interpreter": {
    "hash": "fee188bb3a88b2f91c21b23bf544ec11647f6207f57c38bc925e29c2adb397fe"
   }
  }
 },
 "nbformat": 4,
 "nbformat_minor": 2
}
