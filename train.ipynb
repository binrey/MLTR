{
 "cells": [
  {
   "cell_type": "code",
   "execution_count": 1,
   "metadata": {},
   "outputs": [
    {
     "name": "stdout",
     "output_type": "stream",
     "text": [
      "optimization/btest000.pickle\n",
      "optimization/btest001.pickle\n",
      "optimization/btest002.pickle\n",
      "optimization/btest003.pickle\n",
      "optimization/btest004.pickle\n",
      "optimization/btest005.pickle\n",
      "optimization/btest006.pickle\n",
      "optimization/btest007.pickle\n",
      "optimization/btest008.pickle\n",
      "optimization/btest009.pickle\n",
      "optimization/btest010.pickle\n",
      "optimization/btest011.pickle\n",
      "optimization/btest012.pickle\n",
      "optimization/btest013.pickle\n",
      "optimization/btest014.pickle\n",
      "optimization/btest015.pickle\n",
      "optimization/btest016.pickle\n",
      "optimization/btest017.pickle\n"
     ]
    }
   ],
   "source": [
    "import pickle\n",
    "from pathlib import Path\n",
    "from easydict import EasyDict\n",
    "import pandas as pd\n",
    "from matplotlib import pyplot as plt\n",
    "from ml import train\n",
    "from dataloading import get_data, build_features\n",
    "\n",
    "%load_ext autoreload\n",
    "%autoreload 2\n",
    "import warnings\n",
    "warnings.filterwarnings('ignore')\n",
    "\n",
    "\n",
    "pd.set_option('display.max_rows', 500)\n",
    "pd.set_option('display.max_columns', 500)\n",
    "pd.set_option('display.width', 1000)\n",
    "\n",
    "cfgs, btests = [], []\n",
    "for p in sorted(Path(\"optimization\").glob(\"*.pickle\")):\n",
    "    cfg, btest = pickle.load(open(p, \"rb\"))\n",
    "    cfgs.append(cfg)\n",
    "    btests.append(btest)\n",
    "    print(p)"
   ]
  },
  {
   "cell_type": "code",
   "execution_count": 2,
   "metadata": {},
   "outputs": [
    {
     "name": "stdout",
     "output_type": "stream",
     "text": [
      "BTCUSD 463\n",
      "ETHUSD 514\n",
      "BTCUSD 327\n",
      "ETHUSD 364\n",
      "BTCUSD 280\n",
      "ETHUSD 333\n",
      "BTCUSD 577\n",
      "ETHUSD 642\n",
      "BTCUSD 442\n",
      "ETHUSD 506\n",
      "BTCUSD 384\n",
      "ETHUSD 446\n",
      "BTCUSD 756\n",
      "ETHUSD 749\n",
      "BTCUSD 634\n",
      "ETHUSD 648\n",
      "BTCUSD 585\n",
      "ETHUSD 575\n",
      "(9189, 1, 9, 32) (9189,)\n",
      "20180522 -> 20231012\n"
     ]
    }
   ],
   "source": [
    "from backtest import DataParser, MovingWindow\n",
    "import numpy as np\n",
    "\n",
    "\n",
    "fsize = 32\n",
    "tfdict = {\"M5\":0, \"M15\":1, \"H1\":2}\n",
    "X, y, poslist = [], [], []\n",
    "for btest in btests:\n",
    "    print(btest.cfg.ticker, end=\" \")\n",
    "    hist_pd, hist = DataParser(btest.cfg).load()\n",
    "    mw = MovingWindow(hist, fsize+2)\n",
    "    print(len(btest.positions))\n",
    "    for pos in btest.positions[2:]:\n",
    "        f, _ = mw(pos.open_indx)\n",
    "        x = build_features(f, \n",
    "                           pos.dir, \n",
    "                           btest.cfg.stops_processor.func.cfg.sl, \n",
    "                           btest.cfg.trailing_stop_rate,\n",
    "                           pos.open_date, \n",
    "                           tfdict[btest.cfg.period])\n",
    "        X.append([x])\n",
    "        y.append(pos.profit)\n",
    "        poslist.append(pos)\n",
    "        \n",
    "X, y = np.array(X, dtype=np.float32), np.array(y, dtype=np.float32)\n",
    "print(X.shape, y.shape)\n",
    "print(f\"{X[0, 0, -2, 0]:8.0f} -> {X[-1, 0, -2, 0]:8.0f}\")"
   ]
  },
  {
   "cell_type": "code",
   "execution_count": 3,
   "metadata": {},
   "outputs": [
    {
     "name": "stdout",
     "output_type": "stream",
     "text": [
      "(6886, 1, 7, 32) (2303, 1, 7, 32) (2303,)\n",
      "1299.4437\n"
     ]
    },
    {
     "data": {
      "image/png": "[encoded data removed]",
      "text/plain": [
       "<Figure size 640x480 with 1 Axes>"
      ]
     },
     "metadata": {},
     "output_type": "display_data"
    }
   ],
   "source": [
    "X_train, X_test, y_train, y_test, profs_test, tf_test = get_data(X, y)\n",
    "print(X_train.shape, X_test.shape, tf_test.shape)\n",
    "plt.imshow(X_train[0][0][:])\n",
    "print(profs_test.sum())"
   ]
  },
  {
   "cell_type": "code",
   "execution_count": 35,
   "metadata": {},
   "outputs": [
    {
     "name": "stdout",
     "output_type": "stream",
     "text": [
      "[001,    27] loss train: 2.9236 | test: 0.1237\n",
      "[002,    27] loss train: 2.7316 | test: 0.1184\n",
      "[003,    27] loss train: 2.6508 | test: 0.1155\n",
      "[004,    27] loss train: 2.5788 | test: 0.1139\n",
      "[005,    27] loss train: 2.5387 | test: 0.1133\n",
      "[006,    27] loss train: 2.5406 | test: 0.1119\n",
      "[007,    27] loss train: 2.4994 | test: 0.1122\n",
      "[008,    27] loss train: 2.4332 | test: 0.1099\n",
      "[009,    27] loss train: 2.4351 | test: 0.1116\n",
      "[010,    27] loss train: 2.3921 | test: 0.1072\n",
      "000 mae_train: 1.15\n",
      "000 profit M5 :   +0.0 ->    +0.0 --\n",
      "000 profit M15:   +0.0 ->    +0.0 --\n",
      "000 profit H1 : +653.2 ->  +832.6 OK\n",
      "000 mae_test: 1.26\n",
      "-------------------------------------------------\n",
      "[         nan          nan 653.18048096]  ->  [         nan          nan 832.64135742]\n",
      "mae_train: 1.15 mae_test: 1.26 ratio: 1.10\n",
      "av. profit boost: 0.2747492947154515\n"
     ]
    },
    {
     "data": {
      "image/png": "[encoded data removed]",
      "text/plain": [
       "<Figure size 2000x300 with 2 Axes>"
      ]
     },
     "metadata": {},
     "output_type": "display_data"
    }
   ],
   "source": [
    "from sklearn.metrics import mean_absolute_error, f1_score\n",
    "import torch\n",
    "device = \"mps\"\n",
    "\n",
    "nitrers = 1\n",
    "test_split_size = 0.25\n",
    "id2tf = {v:k for k, v in tfdict.items()}\n",
    "\n",
    "pprofits, gprofits, metrics = np.zeros((3, nitrers)), np.zeros((3, nitrers)), np.zeros((2, nitrers))\n",
    "for i in range(nitrers):\n",
    "    np.random.seed(i)\n",
    "    X_train, X_test, y_train, y_test, profs_test, tf_test = get_data(X, y, test_split_size)\n",
    "    model = train(X_train, y_train, X_test, y_test, batch_size=256)\n",
    "    model.eval()\n",
    "    \n",
    "    p_train = model(torch.tensor(X_train).float().to(device)).detach().cpu().numpy().squeeze()\n",
    "    p_test = model(torch.tensor(X_test).float().to(device)).detach().cpu().numpy().squeeze()\n",
    "    metrics[0, i] = mean_absolute_error(p_train, y_train)\n",
    "    print(f\"{i:03} mae_train: {metrics[0, i]:4.2f}\")\n",
    "    if test_split_size > 0:\n",
    "        metrics[1, i] = mean_absolute_error(p_test, y_test)\n",
    "        threshold = np.percentile(p_train, 5)\n",
    "        for j in range(3):\n",
    "            ids = tf_test == j\n",
    "            pprofits[j, i] = (profs_test[ids]*(p_test[ids]>threshold)).sum()\n",
    "            gprofits[j, i] = profs_test[ids].sum()\n",
    "            print(f\"{i:03} profit {id2tf[j]:3}:{gprofits[j, i]:+7.1f} -> {pprofits[j, i]:+7.1f} {'OK' if pprofits[j, i] > gprofits[j, i] else '--'}\")\n",
    "        print(f\"{i:03} mae_test: {metrics[1, i]:4.2f}\")\n",
    "        \n",
    "        pprofs_mean = pprofits.mean(axis=1, where=pprofits!=0)\n",
    "        gprofs_mean = gprofits.mean(axis=1, where=gprofits!=0)\n",
    "        f1_mean = metrics.mean(axis=1, where=metrics!=0)\n",
    "        pprofs_mean_tot = np.nanmean(pprofs_mean)\n",
    "        gprofs_mean_tot = np.nanmean(gprofs_mean)\n",
    "        print(\"-------------------------------------------------\")\n",
    "        print(gprofs_mean, \" -> \", pprofs_mean)\n",
    "        print(f\"mae_train: {f1_mean[0]:4.2f} mae_test: {f1_mean[1]:4.2f} ratio: {f1_mean[1]/f1_mean[0]:4.2f}\")\n",
    "        print(f\"av. profit boost: {(pprofs_mean_tot - gprofs_mean_tot)/abs(gprofs_mean_tot)}\")\n",
    "\n",
    "plt.figure(figsize=(20, 3))\n",
    "plt.subplot(1, 2, 1)\n",
    "plt.plot(p_train[:100], \".\")\n",
    "plt.bar(np.arange(100), y_train[:100], width=[1]*100, alpha=0.4)\n",
    "plt.plot([0, 100], [threshold, threshold])\n",
    "if len(p_test):\n",
    "    plt.subplot(1, 2, 2)\n",
    "    plt.plot(p_test[:100], \".\")\n",
    "    plt.bar(np.arange(100), y_test[:100], width=[1]*100, alpha=0.4)\n",
    "    # plt.bar(np.arange(100), profs_test[:100], width=[1]*100, alpha=0.2)\n",
    "    plt.plot([0, 100], [threshold, threshold])\n",
    "torch.save(model.state_dict(), \"model.pth\")"
   ]
  },
  {
   "cell_type": "code",
   "execution_count": 26,
   "metadata": {},
   "outputs": [
    {
     "data": {
      "text/plain": [
       "array([-1.014769 , -1.1845456, -1.0852048, ..., -1.5033214, -1.0727471,\n",
       "       -1.1273975], dtype=float32)"
      ]
     },
     "execution_count": 26,
     "metadata": {},
     "output_type": "execute_result"
    }
   ],
   "source": [
    "p_test[p_test<-1]"
   ]
  },
  {
   "cell_type": "code",
   "execution_count": 36,
   "metadata": {},
   "outputs": [
    {
     "data": {
      "text/plain": [
       "-1.048260122537613"
      ]
     },
     "execution_count": 36,
     "metadata": {},
     "output_type": "execute_result"
    }
   ],
   "source": [
    "threshold"
   ]
  },
  {
   "cell_type": "code",
   "execution_count": 14,
   "metadata": {},
   "outputs": [
    {
     "data": {
      "text/plain": [
       "(-3383.0942, 2097, 2303, 2303)"
      ]
     },
     "execution_count": 14,
     "metadata": {},
     "output_type": "execute_result"
    }
   ],
   "source": [
    "y_test.sum(), (p_test>threshold).sum(), p_test.shape[0], y_test.shape[0]"
   ]
  },
  {
   "cell_type": "code",
   "execution_count": 7,
   "metadata": {},
   "outputs": [
    {
     "ename": "FileNotFoundError",
     "evalue": "data/bitfinex/H1",
     "output_type": "error",
     "traceback": [
      "\u001b[0;31m---------------------------------------------------------------------------\u001b[0m",
      "\u001b[0;31mFileNotFoundError\u001b[0m                         Traceback (most recent call last)",
      "Cell \u001b[0;32mIn[7], line 11\u001b[0m\n\u001b[1;32m      3\u001b[0m ticker \u001b[38;5;241m=\u001b[39m \u001b[38;5;124m\"\u001b[39m\u001b[38;5;124mBTCUSDT\u001b[39m\u001b[38;5;124m\"\u001b[39m\n\u001b[1;32m      4\u001b[0m tf \u001b[38;5;241m=\u001b[39m \u001b[38;5;124m\"\u001b[39m\u001b[38;5;124mH1\u001b[39m\u001b[38;5;124m\"\u001b[39m\n\u001b[1;32m      5\u001b[0m hist_pd, hist \u001b[38;5;241m=\u001b[39m \u001b[43mDataParser\u001b[49m\u001b[43m(\u001b[49m\n\u001b[1;32m      6\u001b[0m \u001b[43m    \u001b[49m\u001b[43mEasyDict\u001b[49m\u001b[43m(\u001b[49m\n\u001b[1;32m      7\u001b[0m \u001b[43m        \u001b[49m\u001b[43mdate_start\u001b[49m\u001b[38;5;241;43m=\u001b[39;49m\u001b[38;5;124;43m\"\u001b[39;49m\u001b[38;5;124;43m2008-01-01\u001b[39;49m\u001b[38;5;124;43m\"\u001b[39;49m\u001b[43m,\u001b[49m\n\u001b[1;32m      8\u001b[0m \u001b[43m        \u001b[49m\u001b[43mperiod\u001b[49m\u001b[38;5;241;43m=\u001b[39;49m\u001b[43mtf\u001b[49m\u001b[43m,\u001b[49m\n\u001b[1;32m      9\u001b[0m \u001b[43m        \u001b[49m\u001b[43mticker\u001b[49m\u001b[38;5;241;43m=\u001b[39;49m\u001b[43mticker\u001b[49m\u001b[43m,\u001b[49m\n\u001b[1;32m     10\u001b[0m \u001b[43m        \u001b[49m\u001b[43mdata_type\u001b[49m\u001b[38;5;241;43m=\u001b[39;49m\u001b[38;5;124;43m\"\u001b[39;49m\u001b[38;5;124;43mbitfinex\u001b[39;49m\u001b[38;5;124;43m\"\u001b[39;49m\n\u001b[0;32m---> 11\u001b[0m \u001b[43m        \u001b[49m\u001b[43m)\u001b[49m\u001b[43m)\u001b[49m\u001b[38;5;241;43m.\u001b[39;49m\u001b[43mload\u001b[49m\u001b[43m(\u001b[49m\u001b[43m)\u001b[49m\n\u001b[1;32m     13\u001b[0m \u001b[38;5;28;01mfor\u001b[39;00m i \u001b[38;5;129;01min\u001b[39;00m ids_test:\n\u001b[1;32m     14\u001b[0m     pos \u001b[38;5;241m=\u001b[39m poslist[i]\n",
      "File \u001b[0;32m~/Dev/MLTR/backtest.py:34\u001b[0m, in \u001b[0;36mDataParser.load\u001b[0;34m(self)\u001b[0m\n\u001b[1;32m     28\u001b[0m     \u001b[39mreturn\u001b[39;00m {\u001b[39m\"\u001b[39m\u001b[39mmetatrader\u001b[39m\u001b[39m\"\u001b[39m: \u001b[39mself\u001b[39m\u001b[39m.\u001b[39mmetatrader,\n\u001b[1;32m     29\u001b[0m             \u001b[39m\"\u001b[39m\u001b[39mFORTS\u001b[39m\u001b[39m\"\u001b[39m: \u001b[39mself\u001b[39m\u001b[39m.\u001b[39mmetatrader,\n\u001b[1;32m     30\u001b[0m             \u001b[39m\"\u001b[39m\u001b[39mbitfinex\u001b[39m\u001b[39m\"\u001b[39m: \u001b[39mself\u001b[39m\u001b[39m.\u001b[39mbitfinex,\n\u001b[1;32m     31\u001b[0m             \u001b[39m\"\u001b[39m\u001b[39myahoo\u001b[39m\u001b[39m\"\u001b[39m: \u001b[39mself\u001b[39m\u001b[39m.\u001b[39myahoo,\n\u001b[1;32m     32\u001b[0m             }\u001b[39m.\u001b[39mget(\u001b[39mself\u001b[39m\u001b[39m.\u001b[39mcfg\u001b[39m.\u001b[39mdata_type, \u001b[39mNone\u001b[39;00m)(flist[\u001b[39m0\u001b[39m])\n\u001b[1;32m     33\u001b[0m \u001b[39melse\u001b[39;00m:\n\u001b[0;32m---> 34\u001b[0m     \u001b[39mraise\u001b[39;00m \u001b[39mFileNotFoundError\u001b[39;00m(p)\n",
      "\u001b[0;31mFileNotFoundError\u001b[0m: data/bitfinex/H1"
     ]
    }
   ],
   "source": [
    "import mplfinance as mpf\n",
    "\n",
    "ticker = \"BTCUSDT\"\n",
    "tf = \"H1\"\n",
    "hist_pd, hist = DataParser(\n",
    "    EasyDict(\n",
    "        date_start=\"2008-01-01\",\n",
    "        period=tf,\n",
    "        ticker=ticker,\n",
    "        data_type=\"bitfinex\"\n",
    "        )).load()\n",
    "\n",
    "for i in ids_test:\n",
    "    pos = poslist[i]\n",
    "    if pos.ticker == ticker:\n",
    "        prediction = model.predict_proba([X[i, :-1]])[0][1]\n",
    "        if prediction < threshold:\n",
    "            print(pos.ticker, pos.open_date, prediction)\n",
    "            d2 = pd.to_datetime(pos.close_date)\n",
    "            d1 = pd.to_datetime(pos.open_date)\n",
    "            d0 = d1 - pd.DateOffset(days=3)\n",
    "            hist2plot = hist_pd.loc[d0:d2]\n",
    "            fig = mpf.plot(hist2plot, \n",
    "                type='candle', \n",
    "                block=False)"
   ]
  },
  {
   "cell_type": "code",
   "execution_count": null,
   "metadata": {},
   "outputs": [
    {
     "data": {
      "text/plain": [
       "array([[0.49287947, 0.50712053]])"
      ]
     },
     "execution_count": 47,
     "metadata": {},
     "output_type": "execute_result"
    }
   ],
   "source": [
    "prediction"
   ]
  }
 ],
 "metadata": {
  "kernelspec": {
   "display_name": "Python 3.10.11 ('base')",
   "language": "python",
   "name": "python3"
  },
  "language_info": {
   "codemirror_mode": {
    "name": "ipython",
    "version": 3
   },
   "file_extension": ".py",
   "mimetype": "text/x-python",
   "name": "python",
   "nbconvert_exporter": "python",
   "pygments_lexer": "ipython3",
   "version": "3.11.5"
  },
  "orig_nbformat": 4,
  "vscode": {
   "interpreter": {
    "hash": "fee188bb3a88b2f91c21b23bf544ec11647f6207f57c38bc925e29c2adb397fe"
   }
  }
 },
 "nbformat": 4,
 "nbformat_minor": 2
}
