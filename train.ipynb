{
 "cells": [
  {
   "cell_type": "code",
   "execution_count": 1,
   "metadata": {},
   "outputs": [
    {
     "name": "stdout",
     "output_type": "stream",
     "text": [
      "optimization/btest000.pickle\n",
      "optimization/btest001.pickle\n",
      "optimization/btest002.pickle\n",
      "optimization/btest003.pickle\n",
      "optimization/btest004.pickle\n",
      "optimization/btest005.pickle\n",
      "optimization/btest006.pickle\n",
      "optimization/btest007.pickle\n",
      "optimization/btest008.pickle\n",
      "optimization/btest009.pickle\n",
      "optimization/btest010.pickle\n",
      "optimization/btest011.pickle\n",
      "optimization/btest012.pickle\n",
      "optimization/btest013.pickle\n",
      "optimization/btest014.pickle\n",
      "optimization/btest015.pickle\n",
      "optimization/btest016.pickle\n",
      "optimization/btest017.pickle\n",
      "optimization/btest018.pickle\n",
      "optimization/btest019.pickle\n",
      "optimization/btest020.pickle\n",
      "optimization/btest021.pickle\n",
      "optimization/btest022.pickle\n",
      "optimization/btest023.pickle\n",
      "optimization/btest024.pickle\n",
      "optimization/btest025.pickle\n",
      "optimization/btest026.pickle\n",
      "optimization/btest027.pickle\n",
      "optimization/btest028.pickle\n",
      "optimization/btest029.pickle\n",
      "optimization/btest030.pickle\n",
      "optimization/btest031.pickle\n"
     ]
    }
   ],
   "source": [
    "import pickle\n",
    "from pathlib import Path\n",
    "from easydict import EasyDict\n",
    "import pandas as pd\n",
    "from matplotlib import pyplot as plt\n",
    "from ml import train\n",
    "from dataloading import get_data, build_features\n",
    "\n",
    "%load_ext autoreload\n",
    "%autoreload 2\n",
    "import warnings\n",
    "warnings.filterwarnings('ignore')\n",
    "\n",
    "\n",
    "pd.set_option('display.max_rows', 500)\n",
    "pd.set_option('display.max_columns', 500)\n",
    "pd.set_option('display.width', 1000)\n",
    "\n",
    "cfgs, btests = [], []\n",
    "for p in sorted(Path(\"optimization\").glob(\"*.pickle\")):\n",
    "    cfg, btest = pickle.load(open(p, \"rb\"))\n",
    "    cfgs.append(cfg)\n",
    "    btests.append(btest)\n",
    "    print(p)"
   ]
  },
  {
   "cell_type": "code",
   "execution_count": 2,
   "metadata": {},
   "outputs": [
    {
     "name": "stdout",
     "output_type": "stream",
     "text": [
      "BTCUSD 314\n",
      "ETHUSD 354\n",
      "BTCUSD 219\n",
      "ETHUSD 295\n",
      "BTCUSD 180\n",
      "ETHUSD 241\n",
      "BTCUSD 151\n",
      "ETHUSD 216\n",
      "BTCUSD 392\n",
      "ETHUSD 433\n",
      "BTCUSD 287\n",
      "ETHUSD 337\n",
      "BTCUSD 254\n",
      "ETHUSD 304\n",
      "BTCUSD 213\n",
      "ETHUSD 268\n",
      "BTCUSD 427\n",
      "ETHUSD 472\n",
      "BTCUSD 347\n",
      "ETHUSD 377\n",
      "BTCUSD 292\n",
      "ETHUSD 346\n",
      "BTCUSD 272\n",
      "ETHUSD 312\n",
      "BTCUSD 453\n",
      "ETHUSD 515\n",
      "BTCUSD 389\n",
      "ETHUSD 418\n",
      "BTCUSD 338\n",
      "ETHUSD 387\n",
      "BTCUSD 314\n",
      "ETHUSD 354\n",
      "(10471, 1, 9, 32) (10471,)\n",
      "20180520 -> 20201230\n"
     ]
    }
   ],
   "source": [
    "from backtest import DataParser, MovingWindow\n",
    "import numpy as np\n",
    "\n",
    "\n",
    "fsize = 32\n",
    "tfdict = {\"M5\":0, \"M15\":1, \"H1\":2}\n",
    "X, y, poslist = [], [], []\n",
    "for btest in btests:\n",
    "    print(btest.cfg.ticker, end=\" \")\n",
    "    hist_pd, hist = DataParser(btest.cfg).load()\n",
    "    mw = MovingWindow(hist, fsize+2)\n",
    "    print(len(btest.positions))\n",
    "    for pos in btest.positions:\n",
    "        f, _ = mw(pos.open_indx)\n",
    "        x = build_features(f, \n",
    "                           pos.dir, \n",
    "                           btest.cfg.stops_processor.func.cfg.sl, \n",
    "                           btest.cfg.trailing_stop_rate,\n",
    "                           pos.open_date, \n",
    "                           tfdict[btest.cfg.period])\n",
    "        X.append([x])\n",
    "        y.append(pos.profit)\n",
    "        poslist.append(pos)\n",
    "        \n",
    "X, y = np.array(X, dtype=np.float32), np.array(y, dtype=np.float32)\n",
    "print(X.shape, y.shape)\n",
    "print(f\"{X[0, 0, -2, 0]:8.0f} -> {X[-1, 0, -2, 0]:8.0f}\")"
   ]
  },
  {
   "cell_type": "code",
   "execution_count": 3,
   "metadata": {},
   "outputs": [
    {
     "ename": "NameError",
     "evalue": "name 'test_split_size' is not defined",
     "output_type": "error",
     "traceback": [
      "\u001b[0;31m---------------------------------------------------------------------------\u001b[0m",
      "\u001b[0;31mNameError\u001b[0m                                 Traceback (most recent call last)",
      "\u001b[1;32m/home/andrybin/Dev/MLTR/train.ipynb Cell 3\u001b[0m line \u001b[0;36m1\n\u001b[0;32m----> <a href='vscode-notebook-cell:/home/andrybin/Dev/MLTR/train.ipynb#X15sZmlsZQ%3D%3D?line=0'>1</a>\u001b[0m X_train, X_test, y_train, y_test, profs_train, profs_test, tf_test \u001b[39m=\u001b[39m get_data(X, y, test_split_size)\n",
      "\u001b[0;31mNameError\u001b[0m: name 'test_split_size' is not defined"
     ]
    }
   ],
   "source": [
    "X_train, X_test, y_train, y_test, profs_train, profs_test, tf_test = get_data(X, y, test_split_size)"
   ]
  },
  {
   "cell_type": "code",
   "execution_count": 110,
   "metadata": {},
   "outputs": [
    {
     "name": "stdout",
     "output_type": "stream",
     "text": [
      "[001,    33] loss train: 74.0411 | test: 1.4087\n",
      "[002,    33] loss train: 73.9652 | test: 1.3609\n",
      "[003,    33] loss train: 73.9971 | test: 1.4373\n",
      "[004,    33] loss train: 73.9670 | test: 1.4277\n",
      "[005,    33] loss train: 73.9989 | test: 1.3603\n",
      "[006,    33] loss train: 73.9163 | test: 1.4859\n",
      "[007,    33] loss train: 73.9831 | test: 1.4084\n",
      "[008,    33] loss train: 73.8134 | test: 1.3986\n",
      "[009,    33] loss train: 73.6923 | test: 1.4860\n",
      "[010,    33] loss train: 73.7954 | test: 1.4079\n",
      "000 f1_train: 0.480 f1_test: 0.408\n",
      "000 profit M5 :   +0.0 ->    +0.0 --\n",
      "000 profit M15:   +0.0 ->    +0.0 --\n",
      "000 profit H1 :+1088.7 -> +1284.5 OK\n",
      "-------------------------------------------------\n",
      "[          nan           nan 1088.65454102]  ->  [          nan           nan 1284.49560547]\n",
      "mae_train: 0.48 mae_test: 0.41 ratio: 0.85\n",
      "av. profit boost: 0.1798927548406875\n",
      "[001,    33] loss train: 73.9862 | test: 1.3403\n",
      "[002,    33] loss train: 74.0788 | test: 1.4318\n",
      "[003,    33] loss train: 73.9426 | test: 1.5225\n",
      "[004,    33] loss train: 73.9115 | test: 1.3966\n",
      "[005,    33] loss train: 73.9396 | test: 1.4870\n",
      "[006,    33] loss train: 74.0105 | test: 1.3507\n",
      "[007,    33] loss train: 74.0262 | test: 1.4746\n",
      "[008,    33] loss train: 73.9884 | test: 1.4853\n",
      "[009,    33] loss train: 73.6893 | test: 1.5745\n",
      "[010,    33] loss train: 73.8793 | test: 1.4506\n",
      "001 f1_train: 0.482 f1_test: 0.406\n",
      "001 profit M5 :   +0.0 ->    +0.0 --\n",
      "001 profit M15:   +0.0 ->    +0.0 --\n",
      "001 profit H1 :+1088.7 -> +1238.1 OK\n",
      "-------------------------------------------------\n",
      "[          nan           nan 1088.65454102]  ->  [          nan           nan 1261.28118896]\n",
      "mae_train: 0.48 mae_test: 0.41 ratio: 0.85\n",
      "av. profit boost: 0.1585688034591509\n",
      "[001,    33] loss train: 74.1846 | test: 1.4364\n",
      "[002,    33] loss train: 74.0222 | test: 1.5020\n",
      "[003,    33] loss train: 74.0800 | test: 1.4262\n",
      "[004,    33] loss train: 73.8635 | test: 1.4351\n",
      "[005,    33] loss train: 73.9242 | test: 1.4633\n",
      "[006,    33] loss train: 73.9192 | test: 1.4537\n",
      "[007,    33] loss train: 73.9027 | test: 1.4821\n",
      "[008,    33] loss train: 73.7211 | test: 1.4532\n",
      "[009,    33] loss train: 73.8947 | test: 1.4149\n",
      "[010,    33] loss train: 73.7978 | test: 1.4910\n",
      "002 f1_train: 0.484 f1_test: 0.411\n",
      "002 profit M5 :   +0.0 ->    +0.0 --\n",
      "002 profit M15:   +0.0 ->    +0.0 --\n",
      "002 profit H1 :+1088.7 ->  +908.5 --\n",
      "-------------------------------------------------\n",
      "[          nan           nan 1088.65454102]  ->  [          nan           nan 1143.68963623]\n",
      "mae_train: 0.48 mae_test: 0.41 ratio: 0.85\n",
      "av. profit boost: 0.05055331433560231\n",
      "[001,    33] loss train: 74.0503 | test: 1.5352\n",
      "[002,    33] loss train: 73.8689 | test: 1.4524\n",
      "[003,    33] loss train: 74.0677 | test: 1.3903\n",
      "[004,    33] loss train: 73.8980 | test: 1.3798\n",
      "[005,    33] loss train: 73.9550 | test: 1.3385\n",
      "[006,    33] loss train: 73.9658 | test: 1.5127\n",
      "[007,    33] loss train: 73.7980 | test: 1.4509\n",
      "[008,    33] loss train: 73.9322 | test: 1.4199\n",
      "[009,    33] loss train: 73.8342 | test: 1.4914\n",
      "[010,    33] loss train: 73.9314 | test: 1.3785\n",
      "003 f1_train: 0.483 f1_test: 0.407\n",
      "003 profit M5 :   +0.0 ->    +0.0 --\n",
      "003 profit M15:   +0.0 ->    +0.0 --\n",
      "003 profit H1 :+1088.7 ->  +812.2 --\n",
      "-------------------------------------------------\n",
      "[          nan           nan 1088.65454102]  ->  [          nan           nan 1060.81416321]\n",
      "mae_train: 0.48 mae_test: 0.41 ratio: 0.85\n",
      "av. profit boost: -0.025573197702959478\n",
      "[001,    33] loss train: 74.0884 | test: 1.5098\n",
      "[002,    33] loss train: 74.0668 | test: 1.5188\n",
      "[003,    33] loss train: 74.0675 | test: 1.4533\n",
      "[004,    33] loss train: 73.8750 | test: 1.4531\n",
      "[005,    33] loss train: 74.0482 | test: 1.3970\n",
      "[006,    33] loss train: 74.0297 | test: 1.4619\n",
      "[007,    33] loss train: 73.9503 | test: 1.3964\n",
      "[008,    33] loss train: 73.8246 | test: 1.3866\n",
      "[009,    33] loss train: 73.9570 | test: 1.4515\n",
      "[010,    33] loss train: 73.8142 | test: 1.4508\n",
      "004 f1_train: 0.478 f1_test: 0.405\n",
      "004 profit M5 :   +0.0 ->    +0.0 --\n",
      "004 profit M15:   +0.0 ->    +0.0 --\n",
      "004 profit H1 :+1088.7 ->  +872.8 --\n",
      "-------------------------------------------------\n",
      "[          nan           nan 1088.65454102]  ->  [          nan           nan 1023.21881104]\n",
      "mae_train: 0.48 mae_test: 0.41 ratio: 0.85\n",
      "av. profit boost: -0.06010697380587106\n",
      "[001,    33] loss train: 74.2715 | test: 1.4722\n",
      "[002,    33] loss train: 74.1631 | test: 1.4266\n",
      "[003,    33] loss train: 74.2373 | test: 1.4806\n",
      "[004,    33] loss train: 74.2033 | test: 1.4622\n",
      "[005,    33] loss train: 74.1021 | test: 1.3802\n",
      "[006,    33] loss train: 74.1411 | test: 1.4162\n",
      "[007,    33] loss train: 73.9366 | test: 1.4523\n",
      "[008,    33] loss train: 74.0487 | test: 1.4064\n",
      "[009,    33] loss train: 73.9297 | test: 1.3605\n",
      "[010,    33] loss train: 74.0109 | test: 1.4334\n",
      "005 f1_train: 0.483 f1_test: 0.422\n",
      "005 profit M5 :   +0.0 ->    +0.0 --\n",
      "005 profit M15:   +0.0 ->    +0.0 --\n",
      "005 profit H1 :+1088.7 -> +1235.5 OK\n",
      "-------------------------------------------------\n",
      "[          nan           nan 1088.65454102]  ->  [          nan           nan 1058.59644572]\n",
      "mae_train: 0.48 mae_test: 0.41 ratio: 0.85\n",
      "av. profit boost: -0.027610315452487027\n",
      "[001,    33] loss train: 74.1992 | test: 1.3703\n",
      "[002,    33] loss train: 74.0426 | test: 1.4985\n",
      "[003,    33] loss train: 74.1005 | test: 1.4067\n",
      "[004,    33] loss train: 74.1657 | test: 1.4159\n",
      "[005,    33] loss train: 74.1323 | test: 1.4067\n",
      "[006,    33] loss train: 74.0386 | test: 1.4531\n",
      "[007,    33] loss train: 73.9704 | test: 1.4905\n",
      "[008,    33] loss train: 74.0544 | test: 1.4812\n",
      "[009,    33] loss train: 74.0026 | test: 1.4438\n",
      "[010,    33] loss train: 73.9643 | test: 1.4436\n",
      "006 f1_train: 0.481 f1_test: 0.417\n",
      "006 profit M5 :   +0.0 ->    +0.0 --\n",
      "006 profit M15:   +0.0 ->    +0.0 --\n",
      "006 profit H1 :+1088.7 -> +1331.5 OK\n",
      "-------------------------------------------------\n",
      "[          nan           nan 1088.65454102]  ->  [          nan           nan 1097.57975551]\n",
      "mae_train: 0.48 mae_test: 0.41 ratio: 0.85\n",
      "av. profit boost: 0.00819838999307447\n",
      "[001,    33] loss train: 74.2384 | test: 1.4169\n",
      "[002,    33] loss train: 74.0547 | test: 1.4262\n",
      "[003,    33] loss train: 74.2337 | test: 1.4540\n",
      "[004,    33] loss train: 74.0969 | test: 1.4912\n",
      "[005,    33] loss train: 74.1141 | test: 1.3989\n",
      "[006,    33] loss train: 74.0344 | test: 1.3615\n",
      "[007,    33] loss train: 73.9517 | test: 1.4174\n",
      "[008,    33] loss train: 73.9265 | test: 1.4455\n",
      "[009,    33] loss train: 74.0299 | test: 1.3888\n",
      "[010,    33] loss train: 73.9911 | test: 1.4264\n",
      "007 f1_train: 0.472 f1_test: 0.407\n",
      "007 profit M5 :   +0.0 ->    +0.0 --\n",
      "007 profit M15:   +0.0 ->    +0.0 --\n",
      "007 profit H1 :+1088.7 -> +1189.4 OK\n",
      "-------------------------------------------------\n",
      "[          nan           nan 1088.65454102]  ->  [          nan           nan 1109.05997467]\n",
      "mae_train: 0.48 mae_test: 0.41 ratio: 0.85\n",
      "av. profit boost: 0.018743717943571492\n",
      "[001,    33] loss train: 73.8165 | test: 1.5765\n",
      "[002,    33] loss train: 73.8477 | test: 1.4686\n",
      "[003,    33] loss train: 73.9959 | test: 1.4188\n",
      "[004,    33] loss train: 73.9384 | test: 1.4590\n",
      "[005,    33] loss train: 73.8593 | test: 1.3074\n",
      "[006,    33] loss train: 73.9056 | test: 1.4590\n",
      "[007,    33] loss train: 73.8944 | test: 1.4690\n",
      "[008,    33] loss train: 73.7486 | test: 1.3569\n",
      "[009,    33] loss train: 73.8122 | test: 1.4688\n",
      "[010,    33] loss train: 73.7774 | test: 1.3869\n",
      "008 f1_train: 0.473 f1_test: 0.401\n",
      "008 profit M5 :   +0.0 ->    +0.0 --\n",
      "008 profit M15:   +0.0 ->    +0.0 --\n",
      "008 profit H1 :+1088.7 -> +1259.4 OK\n",
      "-------------------------------------------------\n",
      "[          nan           nan 1088.65454102]  ->  [          nan           nan 1125.76587592]\n",
      "mae_train: 0.48 mae_test: 0.41 ratio: 0.85\n",
      "av. profit boost: 0.034089174764349264\n",
      "[001,    33] loss train: 74.1033 | test: 1.5062\n",
      "[002,    33] loss train: 74.1277 | test: 1.4105\n",
      "[003,    33] loss train: 74.1019 | test: 1.4328\n",
      "[004,    33] loss train: 73.9300 | test: 1.6048\n",
      "[005,    33] loss train: 73.9258 | test: 1.4183\n",
      "[006,    33] loss train: 73.9101 | test: 1.4393\n",
      "[007,    33] loss train: 73.7216 | test: 1.5156\n",
      "[008,    33] loss train: 73.8613 | test: 1.5460\n",
      "[009,    33] loss train: 73.8895 | test: 1.4121\n",
      "[010,    33] loss train: 73.7410 | test: 1.4755\n",
      "009 f1_train: 0.474 f1_test: 0.406\n",
      "009 profit M5 :   +0.0 ->    +0.0 --\n",
      "009 profit M15:   +0.0 ->    +0.0 --\n",
      "009 profit H1 :+1088.7 -> +1274.4 OK\n",
      "-------------------------------------------------\n",
      "[          nan           nan 1088.65454102]  ->  [          nan           nan 1140.63410034]\n",
      "mae_train: 0.48 mae_test: 0.41 ratio: 0.85\n",
      "av. profit boost: 0.047746605895456345\n"
     ]
    },
    {
     "data": {
      "image/png": "[encoded data removed]",
      "text/plain": [
       "<Figure size 2000x300 with 2 Axes>"
      ]
     },
     "metadata": {},
     "output_type": "display_data"
    }
   ],
   "source": [
    "from sklearn.metrics import f1_score\n",
    "import torch\n",
    "device = \"cuda\"\n",
    "\n",
    "nitrers = 10\n",
    "test_split_size = 0.2\n",
    "calc_test = True\n",
    "id2tf = {v:k for k, v in tfdict.items()}\n",
    "\n",
    "pprofits, gprofits, metrics = np.zeros((3, nitrers)), np.zeros((3, nitrers)), np.zeros((2, nitrers))\n",
    "for i in range(nitrers):\n",
    "    np.random.seed(1)\n",
    "    X_train, X_test, y_train, y_test, profs_train, profs_test, tf_test = get_data(X, y, test_split_size)\n",
    "    model = train(X_train, y_train, X_test, y_test, batch_size=256, device=device, calc_test=calc_test)\n",
    "    model.eval()\n",
    "    p_train = model(torch.tensor(X_train).float().to(device)).detach().cpu().numpy().squeeze()[:, 0]\n",
    "    p_test = model(torch.tensor(X_test).float().to(device)).detach().cpu().numpy().squeeze()[:, 0]\n",
    "    threshold = np.percentile(p_train, 10)\n",
    "    # profsum_best, threshold = -999999, None\n",
    "    # for th in np.arange(0.1, 1, 0.025):\n",
    "    #     profsum = (profs_train*(p_train>th)).sum()\n",
    "    #     if profsum > profsum_best:\n",
    "    #         profsum_best = profsum\n",
    "    #         threshold = th\n",
    "    metrics[0, i] = f1_score(p_train>threshold, y_train[:, 0])\n",
    "    print(f\"{i:03} f1_train: {metrics[0, i]:5.3f}\", end=\" \")\n",
    "    if test_split_size > 0:\n",
    "        metrics[1, i] = f1_score(p_test>threshold, y_test[:, 0])\n",
    "        print(f\"f1_test: {metrics[1, i]:5.3f}\")\n",
    "        \n",
    "        for j in range(3):\n",
    "            ids = tf_test == j\n",
    "            pprofits[j, i] = (profs_test[ids]*(p_test[ids]>threshold)).sum()\n",
    "            gprofits[j, i] = profs_test[ids].sum()\n",
    "            print(f\"{i:03} profit {id2tf[j]:3}:{gprofits[j, i]:+7.1f} -> {pprofits[j, i]:+7.1f} {'OK' if pprofits[j, i] > gprofits[j, i] else '--'}\")\n",
    "        \n",
    "        pprofs_mean = pprofits.mean(axis=1, where=pprofits!=0)\n",
    "        gprofs_mean = gprofits.mean(axis=1, where=gprofits!=0)\n",
    "        f1_mean = metrics.mean(axis=1, where=metrics!=0)\n",
    "        pprofs_mean_tot = np.nanmean(pprofs_mean)\n",
    "        gprofs_mean_tot = np.nanmean(gprofs_mean)\n",
    "        print(\"-------------------------------------------------\")\n",
    "        print(gprofs_mean, \" -> \", pprofs_mean)\n",
    "        print(f\"mae_train: {f1_mean[0]:4.2f} mae_test: {f1_mean[1]:4.2f} ratio: {f1_mean[1]/f1_mean[0]:4.2f}\")\n",
    "        print(f\"av. profit boost: {(pprofs_mean_tot - gprofs_mean_tot)/abs(gprofs_mean_tot)}\")\n",
    "    else:\n",
    "        print()\n",
    "plt.figure(figsize=(20, 3))\n",
    "plt.subplot(1, 2, 1)\n",
    "plt.plot(p_train[:100], \".\")\n",
    "plt.bar(np.arange(100), y_train[:100, 0], width=[1]*100, alpha=0.4)\n",
    "plt.plot([0, 100], [threshold, threshold])\n",
    "if len(p_test):\n",
    "    plt.subplot(1, 2, 2)\n",
    "    plt.plot(p_test[:100], \".\")\n",
    "    plt.bar(np.arange(100), y_test[:100, 0], width=[1]*100, alpha=0.4)\n",
    "    # plt.bar(np.arange(100), profs_test[:100], width=[1]*100, alpha=0.2)\n",
    "    plt.plot([0, 100], [threshold, threshold])\n",
    "    \n",
    "model.set_threshold(threshold)\n",
    "torch.save(model.state_dict(), \"model.pth\")"
   ]
  },
  {
   "cell_type": "code",
   "execution_count": 111,
   "metadata": {},
   "outputs": [
    {
     "data": {
      "text/plain": [
       "(1140.634100341797, 185.3316024865092)"
      ]
     },
     "execution_count": 111,
     "metadata": {},
     "output_type": "execute_result"
    }
   ],
   "source": [
    "pprofits[2].mean(), pprofits[2].std()"
   ]
  },
  {
   "cell_type": "code",
   "execution_count": null,
   "metadata": {},
   "outputs": [
    {
     "data": {
      "text/plain": [
       "tensor([0.4279, 0.4574, 0.4094,  ..., 0.4670, 0.4131, 0.4660], device='cuda:0',\n",
       "       grad_fn=<SqueezeBackward0>)"
      ]
     },
     "execution_count": 50,
     "metadata": {},
     "output_type": "execute_result"
    }
   ],
   "source": [
    "import torch\n",
    "from ml import Net\n",
    "device = \"cuda\"\n",
    "model = Net(7, 32)\n",
    "model.load_state_dict(torch.load(\"model.pth\"))\n",
    "model.eval()\n",
    "# model.set_threshold(-6)\n",
    "model.to(device)\n",
    "# X_train, X_test, y_train, y_test, profs_test, tf_test = get_data(X, y, test_split=1)\n",
    "p_test = model(torch.tensor(X_test).float().to(device)).squeeze()\n",
    "# profs_test.sum(), (profs_test*p_test).sum()\n",
    "p_test"
   ]
  },
  {
   "cell_type": "code",
   "execution_count": null,
   "metadata": {},
   "outputs": [
    {
     "data": {
      "text/plain": [
       "('threshold',\n",
       " Parameter containing:\n",
       " tensor([0.3232]))"
      ]
     },
     "execution_count": 75,
     "metadata": {},
     "output_type": "execute_result"
    }
   ],
   "source": [
    "list(model.named_parameters())[0]"
   ]
  },
  {
   "cell_type": "code",
   "execution_count": null,
   "metadata": {},
   "outputs": [
    {
     "data": {
      "text/plain": [
       "[<matplotlib.lines.Line2D at 0x7fbd21942610>]"
      ]
     },
     "execution_count": 28,
     "metadata": {},
     "output_type": "execute_result"
    },
    {
     "data": {
      "image/png": "[encoded data removed]",
      "text/plain": [
       "<Figure size 640x480 with 1 Axes>"
      ]
     },
     "metadata": {},
     "output_type": "display_data"
    }
   ],
   "source": [
    "plt.plot(model(torch.tensor(X_test).float().to(device)).squeeze().detach().cpu().numpy())"
   ]
  },
  {
   "cell_type": "code",
   "execution_count": null,
   "metadata": {},
   "outputs": [],
   "source": []
  },
  {
   "cell_type": "code",
   "execution_count": null,
   "metadata": {},
   "outputs": [
    {
     "data": {
      "text/plain": [
       "0.22376672327518463"
      ]
     },
     "execution_count": 9,
     "metadata": {},
     "output_type": "execute_result"
    }
   ],
   "source": [
    "threshold"
   ]
  },
  {
   "cell_type": "code",
   "execution_count": null,
   "metadata": {},
   "outputs": [
    {
     "data": {
      "text/plain": [
       "(776, 1876, 2091, 2091)"
      ]
     },
     "execution_count": 10,
     "metadata": {},
     "output_type": "execute_result"
    }
   ],
   "source": [
    "y_test.sum(), (p_test>threshold).sum(), p_test.shape[0], y_test.shape[0]"
   ]
  },
  {
   "cell_type": "code",
   "execution_count": null,
   "metadata": {},
   "outputs": [
    {
     "ename": "FileNotFoundError",
     "evalue": "data/bitfinex/H1",
     "output_type": "error",
     "traceback": [
      "\u001b[0;31m---------------------------------------------------------------------------\u001b[0m",
      "\u001b[0;31mFileNotFoundError\u001b[0m                         Traceback (most recent call last)",
      "\u001b[1;32m/home/andrybin/Dev/MLTR/train.ipynb Cell 12\u001b[0m line \u001b[0;36m1\n\u001b[1;32m      <a href='vscode-notebook-cell:/home/andrybin/Dev/MLTR/train.ipynb#X10sZmlsZQ%3D%3D?line=2'>3</a>\u001b[0m ticker \u001b[39m=\u001b[39m \u001b[39m\"\u001b[39m\u001b[39mBTCUSDT\u001b[39m\u001b[39m\"\u001b[39m\n\u001b[1;32m      <a href='vscode-notebook-cell:/home/andrybin/Dev/MLTR/train.ipynb#X10sZmlsZQ%3D%3D?line=3'>4</a>\u001b[0m tf \u001b[39m=\u001b[39m \u001b[39m\"\u001b[39m\u001b[39mH1\u001b[39m\u001b[39m\"\u001b[39m\n\u001b[1;32m      <a href='vscode-notebook-cell:/home/andrybin/Dev/MLTR/train.ipynb#X10sZmlsZQ%3D%3D?line=4'>5</a>\u001b[0m hist_pd, hist \u001b[39m=\u001b[39m DataParser(\n\u001b[1;32m      <a href='vscode-notebook-cell:/home/andrybin/Dev/MLTR/train.ipynb#X10sZmlsZQ%3D%3D?line=5'>6</a>\u001b[0m     EasyDict(\n\u001b[1;32m      <a href='vscode-notebook-cell:/home/andrybin/Dev/MLTR/train.ipynb#X10sZmlsZQ%3D%3D?line=6'>7</a>\u001b[0m         date_start\u001b[39m=\u001b[39;49m\u001b[39m\"\u001b[39;49m\u001b[39m2008-01-01\u001b[39;49m\u001b[39m\"\u001b[39;49m,\n\u001b[1;32m      <a href='vscode-notebook-cell:/home/andrybin/Dev/MLTR/train.ipynb#X10sZmlsZQ%3D%3D?line=7'>8</a>\u001b[0m         period\u001b[39m=\u001b[39;49mtf,\n\u001b[1;32m      <a href='vscode-notebook-cell:/home/andrybin/Dev/MLTR/train.ipynb#X10sZmlsZQ%3D%3D?line=8'>9</a>\u001b[0m         ticker\u001b[39m=\u001b[39;49mticker,\n\u001b[1;32m     <a href='vscode-notebook-cell:/home/andrybin/Dev/MLTR/train.ipynb#X10sZmlsZQ%3D%3D?line=9'>10</a>\u001b[0m         data_type\u001b[39m=\u001b[39;49m\u001b[39m\"\u001b[39;49m\u001b[39mbitfinex\u001b[39;49m\u001b[39m\"\u001b[39;49m\n\u001b[0;32m---> <a href='vscode-notebook-cell:/home/andrybin/Dev/MLTR/train.ipynb#X10sZmlsZQ%3D%3D?line=10'>11</a>\u001b[0m         ))\u001b[39m.\u001b[39;49mload()\n\u001b[1;32m     <a href='vscode-notebook-cell:/home/andrybin/Dev/MLTR/train.ipynb#X10sZmlsZQ%3D%3D?line=12'>13</a>\u001b[0m \u001b[39mfor\u001b[39;00m i \u001b[39min\u001b[39;00m ids_test:\n\u001b[1;32m     <a href='vscode-notebook-cell:/home/andrybin/Dev/MLTR/train.ipynb#X10sZmlsZQ%3D%3D?line=13'>14</a>\u001b[0m     pos \u001b[39m=\u001b[39m poslist[i]\n",
      "File \u001b[0;32m~/Dev/MLTR/backtest.py:34\u001b[0m, in \u001b[0;36mDataParser.load\u001b[0;34m(self)\u001b[0m\n\u001b[1;32m     28\u001b[0m     \u001b[39mreturn\u001b[39;00m {\u001b[39m\"\u001b[39m\u001b[39mmetatrader\u001b[39m\u001b[39m\"\u001b[39m: \u001b[39mself\u001b[39m\u001b[39m.\u001b[39mmetatrader,\n\u001b[1;32m     29\u001b[0m             \u001b[39m\"\u001b[39m\u001b[39mFORTS\u001b[39m\u001b[39m\"\u001b[39m: \u001b[39mself\u001b[39m\u001b[39m.\u001b[39mmetatrader,\n\u001b[1;32m     30\u001b[0m             \u001b[39m\"\u001b[39m\u001b[39mbitfinex\u001b[39m\u001b[39m\"\u001b[39m: \u001b[39mself\u001b[39m\u001b[39m.\u001b[39mbitfinex,\n\u001b[1;32m     31\u001b[0m             \u001b[39m\"\u001b[39m\u001b[39myahoo\u001b[39m\u001b[39m\"\u001b[39m: \u001b[39mself\u001b[39m\u001b[39m.\u001b[39myahoo,\n\u001b[1;32m     32\u001b[0m             }\u001b[39m.\u001b[39mget(\u001b[39mself\u001b[39m\u001b[39m.\u001b[39mcfg\u001b[39m.\u001b[39mdata_type, \u001b[39mNone\u001b[39;00m)(flist[\u001b[39m0\u001b[39m])\n\u001b[1;32m     33\u001b[0m \u001b[39melse\u001b[39;00m:\n\u001b[0;32m---> 34\u001b[0m     \u001b[39mraise\u001b[39;00m \u001b[39mFileNotFoundError\u001b[39;00m(p)\n",
      "\u001b[0;31mFileNotFoundError\u001b[0m: data/bitfinex/H1"
     ]
    }
   ],
   "source": [
    "import mplfinance as mpf\n",
    "\n",
    "ticker = \"BTCUSDT\"\n",
    "tf = \"H1\"\n",
    "hist_pd, hist = DataParser(\n",
    "    EasyDict(\n",
    "        date_start=\"2008-01-01\",\n",
    "        period=tf,\n",
    "        ticker=ticker,\n",
    "        data_type=\"bitfinex\"\n",
    "        )).load()\n",
    "\n",
    "for i in ids_test:\n",
    "    pos = poslist[i]\n",
    "    if pos.ticker == ticker:\n",
    "        prediction = model.predict_proba([X[i, :-1]])[0][1]\n",
    "        if prediction < threshold:\n",
    "            print(pos.ticker, pos.open_date, prediction)\n",
    "            d2 = pd.to_datetime(pos.close_date)\n",
    "            d1 = pd.to_datetime(pos.open_date)\n",
    "            d0 = d1 - pd.DateOffset(days=3)\n",
    "            hist2plot = hist_pd.loc[d0:d2]\n",
    "            fig = mpf.plot(hist2plot, \n",
    "                type='candle', \n",
    "                block=False)"
   ]
  },
  {
   "cell_type": "code",
   "execution_count": null,
   "metadata": {},
   "outputs": [
    {
     "data": {
      "text/plain": [
       "array([[0.49287947, 0.50712053]])"
      ]
     },
     "execution_count": 47,
     "metadata": {},
     "output_type": "execute_result"
    }
   ],
   "source": [
    "prediction"
   ]
  }
 ],
 "metadata": {
  "kernelspec": {
   "display_name": "Python 3.10.11 ('base')",
   "language": "python",
   "name": "python3"
  },
  "language_info": {
   "codemirror_mode": {
    "name": "ipython",
    "version": 3
   },
   "file_extension": ".py",
   "mimetype": "text/x-python",
   "name": "python",
   "nbconvert_exporter": "python",
   "pygments_lexer": "ipython3",
   "version": "3.11.5"
  },
  "orig_nbformat": 4,
  "vscode": {
   "interpreter": {
    "hash": "fee188bb3a88b2f91c21b23bf544ec11647f6207f57c38bc925e29c2adb397fe"
   }
  }
 },
 "nbformat": 4,
 "nbformat_minor": 2
}
