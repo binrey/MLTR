{
 "cells": [
  {
   "cell_type": "code",
   "execution_count": null,
   "metadata": {},
   "outputs": [],
   "source": [
    "import pickle\n",
    "import torch\n",
    "from pathlib import Path\n",
    "from easydict import EasyDict\n",
    "import pandas as pd\n",
    "from matplotlib import pyplot as plt\n",
    "from ml import train\n",
    "from dataloading import get_data, build_features, DataParser, MovingWindow\n",
    "from tabulate import tabulate\n",
    "from IPython.display import clear_output\n",
    "import numpy as np\n",
    "from sklearn.metrics import roc_auc_score, f1_score\n",
    "import mplfinance as mpf\n",
    "from sklearn.metrics import classification_report\n",
    "\n",
    "\n",
    "%load_ext autoreload\n",
    "%autoreload 2\n",
    "import warnings\n",
    "warnings.filterwarnings('ignore')\n",
    "\n",
    "\n",
    "pd.set_option('display.max_rows', 500)\n",
    "pd.set_option('display.max_columns', 500)\n",
    "pd.set_option('display.width', 1000)"
   ]
  },
  {
   "cell_type": "code",
   "execution_count": null,
   "metadata": {},
   "outputs": [],
   "source": [
    "from utils import Position, Broker\n",
    "from experts import PyConfig\n",
    "\n",
    "\n",
    "cfg = PyConfig().test()\n",
    "X, y = [], []\n",
    "fsize=128\n",
    "\n",
    "def load(folder):\n",
    "    hist_pd, hist = DataParser(cfg).load()\n",
    "    mw = MovingWindow(hist, fsize) \n",
    "    for fname in Path(folder).rglob(\"*.xlsx\"):\n",
    "        df = pd.read_excel(fname).iloc[0]\n",
    "        dates = [str(d.date()) for d in hist_pd.Date]\n",
    "        f, _ = mw(dates.index(df.Date))\n",
    "        dir = 1# if \"max\" in str(fname) else -1\n",
    "        x = build_features(f, dir , None, None, None, None)\n",
    "        X.append([x])\n",
    "        lab_id = [1, 0] if \"true\" in str(fname) else [0, 1]\n",
    "        y.append(lab_id)\n",
    "\n",
    "load(\"data/andrey_data/\")\n",
    "X, y = np.array(X, dtype=np.float32), np.array(y, dtype=np.float32)\n",
    "# rand_ids = np.random.shuffle(np.arange(y.shape[0]))\n",
    "# np.random.seed(0)\n",
    "# np.random.shuffle(X)\n",
    "# np.random.shuffle(y)\n",
    "print(X.shape, y.shape)"
   ]
  },
  {
   "cell_type": "code",
   "execution_count": null,
   "metadata": {},
   "outputs": [],
   "source": [
    "test_half_size = int(0.2*y.shape[0]/2)\n",
    "ids = np.arange(y.shape[0])\n",
    "true_ids = ids[y[:, 0] == 1]\n",
    "false_ids = ids[y[:, 0] == 0]\n",
    "\n",
    "test_ids = np.hstack([true_ids[:test_half_size], false_ids[:test_half_size]])\n",
    "train_ids = np.hstack([true_ids[test_half_size:], false_ids[test_half_size:]])\n",
    "X_train, X_test, y_train, y_test = X[train_ids], X[test_ids], y[train_ids], y[test_ids]\n",
    "print(X_train.shape, X_test.shape)"
   ]
  },
  {
   "cell_type": "code",
   "execution_count": null,
   "metadata": {},
   "outputs": [],
   "source": [
    "plt.subplots(figsize=(15, 15))\n",
    "np.random.shuffle(true_ids)\n",
    "lab, nrow = 0, 0\n",
    "for i in range(20):\n",
    "    plt.subplot(10, 2, i+1)\n",
    "    lab = 1 if lab == 0 else 0\n",
    "    sample_id = true_ids[nrow] if lab == 1 else false_ids[nrow]\n",
    "    plt.plot(X[sample_id, 0, 2])\n",
    "    plt.plot(X[sample_id, 0, 3])\n",
    "    plt.axis(\"off\")\n",
    "    plt.tight_layout()\n",
    "    if i%2 == 0:\n",
    "        nrow += 1\n",
    "    # print(i, nrow, lab)"
   ]
  },
  {
   "cell_type": "code",
   "execution_count": null,
   "metadata": {},
   "outputs": [],
   "source": [
    "hist2plot = pd.DataFrame(X_train[0, 0, 0, :])\n",
    "fig = mpf.plot(hist2plot, \n",
    "            type='candle', \n",
    "            block=False,\n",
    "            # alines=dict(alines=lines2plot, colors=colors, linewidths=widths),\n",
    "            # savefig=save_path / f\"fig-{pos.open_date}.png\"\n",
    "            )"
   ]
  },
  {
   "cell_type": "code",
   "execution_count": null,
   "metadata": {},
   "outputs": [],
   "source": [
    "device = \"mps\"\n",
    "\n",
    "calc_test = True\n",
    "\n",
    "for i in range(1):\n",
    "    X_train = torch.tensor(X_train).float().to(device)\n",
    "    X_test = torch.tensor(X_test).float().to(device)\n",
    "    model, loss_hist = train(X_train, y_train, X_test, y_test, batch_size=128, epochs=800, device=device, calc_test=calc_test)\n",
    "    model.eval()\n",
    "    p_test = model.predict(X_test)\n",
    "    p_train = model.predict(X_train)\n",
    "        \n",
    "plt.figure(figsize=(20, 6))\n",
    "plt.subplot(2, 2, 1)\n",
    "plt.plot(p_train[:100], \".\")\n",
    "plt.bar(np.arange(p_train[:100].shape[0]), y_train[:100].argmax(1), width=[1]*p_train[:100].shape[0], alpha=0.4)\n",
    "if len(p_test):\n",
    "    plt.subplot(2, 2, 2)\n",
    "    plt.plot(p_test[:100], \".\")\n",
    "    plt.bar(np.arange(p_test[:100].shape[0]), y_test[:100].argmax(1), width=[1]*p_test[:100].shape[0], alpha=0.4)\n",
    "plt.figure(figsize=(20, 6))\n",
    "plt.plot(loss_hist)\n",
    "plt.legend([\"train\", \"test\"])\n",
    "# torch.save(model.state_dict(), \"model.pth\")"
   ]
  },
  {
   "cell_type": "code",
   "execution_count": null,
   "metadata": {},
   "outputs": [],
   "source": [
    "print(classification_report(y_test.argmax(1), p_test, target_names=[\"correct\", \"wrong\"]))"
   ]
  },
  {
   "cell_type": "code",
   "execution_count": null,
   "metadata": {},
   "outputs": [],
   "source": [
    "print(classification_report([1,1,1], [0,1,0], target_names=[\"correct\", \"wrong\"]))"
   ]
  },
  {
   "cell_type": "code",
   "execution_count": null,
   "metadata": {},
   "outputs": [],
   "source": [
    "import sys\n",
    "from experts import ExpertFormation, PyConfig\n",
    "from backtest import backtest\n",
    "from pathlib import Path\n",
    "from dataloading import get_data, collect_train_data\n",
    "import numpy as np\n",
    "from loguru import logger\n",
    "from tqdm import tqdm\n",
    "import torch\n",
    "from ml import train\n",
    "import matplotlib.pyplot as plt\n",
    "logger.remove()\n",
    "logger.add(sys.stderr, level=\"INFO\")\n",
    "\n",
    "\n",
    "\n",
    "test_split_size = 0.2\n",
    "device = \"mps\"\n",
    "cfg = PyConfig().test()\n",
    "cfg.run_model_device = device\n",
    "\n",
    "for _ in range(5):\n",
    "    legend, last_prof = [], 0\n",
    "    for i in range(int(1/test_split_size)):\n",
    "        X_train, X_test, y_train, y_test, profs_train, profs_test, tf_test, test_dates = get_data(X, y, 1, test_split_size, i, i+1)\n",
    "        X_train = torch.tensor(X_train).float().to(device)\n",
    "        model, hist = train(X_train, y_train, None, None, batch_size=1024, epochs=10, device=device, calc_test=False)\n",
    "        model.eval()\n",
    "        # X_train = X_train.float().to(device)\n",
    "        # p_train = model(X_train).detach().cpu().numpy().squeeze()[:, 0]    \n",
    "        # profsum_best, threshold = -999999, np.percentile(p_train, 10)\n",
    "        # for th in np.arange(0., 0.9, 0.025):\n",
    "        #     profsum = f1_score(y_train[:, 0], p_train>th)\n",
    "        #     if profsum > profsum_best:\n",
    "        #         profsum_best = profsum\n",
    "        #         threshold = th\n",
    "        # model.set_threshold(threshold)\n",
    "        torch.save(model.state_dict(), \"model.pth\")\n",
    "        cfg.date_start=f\"{test_dates[0][:4]}-{test_dates[0][4:6]}-{test_dates[0][6:]}\"\n",
    "        cfg.date_end=f\"{test_dates[1][:4]}-{test_dates[1][4:6]}-{test_dates[1][6:]}\"\n",
    "        brok_results = backtest(cfg)\n",
    "        cumsum = brok_results.profits.cumsum()\n",
    "        print(brok_results.profits.sum())\n",
    "        plt.plot([pos.close_date for pos in brok_results.positions], cumsum + last_prof)\n",
    "        last_prof += cumsum[-1]\n",
    "        plt.grid(\"on\")\n",
    "        plt.tight_layout()\n",
    "        legend.append(f\"{test_dates[0]}-{test_dates[1]}\")\n",
    "\n",
    "cfg.run_model_device = None\n",
    "cfg.date_start=\"2004-01-01\"\n",
    "cfg.date_end=\"2024-01-01\"\n",
    "brok_results = backtest(cfg)\n",
    "print(brok_results.profits.sum())\n",
    "plt.plot([pos.close_date for pos in brok_results.positions], brok_results.profits.cumsum(), linewidth=3, alpha=0.6)\n",
    "legend.append(\"baseline\")\n",
    "# plt.legend(legend)\n",
    "plt.savefig(\"backtest.png\")\n",
    "# plt.show()"
   ]
  },
  {
   "cell_type": "code",
   "execution_count": null,
   "metadata": {},
   "outputs": [],
   "source": [
    "import torch\n",
    "from ml import Net\n",
    "device = \"cuda\"\n",
    "model = Net(7, 64)\n",
    "model.load_state_dict(torch.load(\"model.pth\"))\n",
    "model.eval()\n",
    "model.to(device)"
   ]
  },
  {
   "cell_type": "code",
   "execution_count": null,
   "metadata": {},
   "outputs": [],
   "source": [
    "p = model.forward_thresholded(X_test)[:, 0]\n",
    "w_profs_test = calc_weights(p_test[0], threshold)\n",
    "pprofs_test = (profs_test*w_profs_test).sum(0)\n",
    "pprofs_test, profs_test.sum()"
   ]
  },
  {
   "cell_type": "code",
   "execution_count": null,
   "metadata": {},
   "outputs": [],
   "source": [
    "pprofs_sum1 = np.nansum(pprofits, 1)\n",
    "gprofs_sum1 = np.nansum(gprofits, 1)\n",
    "pprofs_sum1, gprofs_sum1, (pprofs_sum1-gprofs_sum1)/abs(gprofs_sum1)"
   ]
  },
  {
   "cell_type": "code",
   "execution_count": null,
   "metadata": {},
   "outputs": [],
   "source": [
    "plt.plot(np.array(table)[:, 3], \".-\")"
   ]
  },
  {
   "cell_type": "code",
   "execution_count": null,
   "metadata": {},
   "outputs": [],
   "source": [
    "p_train.mean(), threshold"
   ]
  },
  {
   "cell_type": "code",
   "execution_count": null,
   "metadata": {},
   "outputs": [],
   "source": [
    "import torch\n",
    "from ml import Net\n",
    "device = \"cuda\"\n",
    "model = Net(7, 32)\n",
    "model.load_state_dict(torch.load(\"model.pth\"))\n",
    "model.eval()\n",
    "# model.set_threshold(-6)\n",
    "model.to(device)\n",
    "X_train, X_test, y_train, y_test, profs_train, profs_test, tf_test = get_data(X, y, test_split=1)\n",
    "p_test = model(torch.tensor(X_test).float().to(device)).squeeze()\n",
    "# profs_test.sum(), (profs_test*p_test).sum()\n",
    "p_test"
   ]
  },
  {
   "cell_type": "code",
   "execution_count": null,
   "metadata": {},
   "outputs": [],
   "source": [
    "X_train.shape"
   ]
  },
  {
   "cell_type": "code",
   "execution_count": null,
   "metadata": {},
   "outputs": [],
   "source": [
    "list(model.named_parameters())[0]"
   ]
  },
  {
   "cell_type": "code",
   "execution_count": null,
   "metadata": {},
   "outputs": [],
   "source": [
    "plt.plot(model(torch.tensor(X_test).float().to(device)).squeeze().detach().cpu().numpy())"
   ]
  },
  {
   "cell_type": "code",
   "execution_count": null,
   "metadata": {},
   "outputs": [],
   "source": []
  },
  {
   "cell_type": "code",
   "execution_count": null,
   "metadata": {},
   "outputs": [],
   "source": [
    "threshold"
   ]
  },
  {
   "cell_type": "code",
   "execution_count": null,
   "metadata": {},
   "outputs": [],
   "source": [
    "y_test.sum(), (p_test>threshold).sum(), p_test.shape[0], y_test.shape[0]"
   ]
  },
  {
   "cell_type": "code",
   "execution_count": null,
   "metadata": {},
   "outputs": [],
   "source": [
    "import mplfinance as mpf\n",
    "\n",
    "ticker = \"BTCUSDT\"\n",
    "tf = \"H1\"\n",
    "hist_pd, hist = DataParser(\n",
    "    EasyDict(\n",
    "        date_start=\"2008-01-01\",\n",
    "        period=tf,\n",
    "        ticker=ticker,\n",
    "        data_type=\"bitfinex\"\n",
    "        )).load()\n",
    "\n",
    "for i in ids_test:\n",
    "    pos = poslist[i]\n",
    "    if pos.ticker == ticker:\n",
    "        prediction = model.predict_proba([X[i, :-1]])[0][1]\n",
    "        if prediction < threshold:\n",
    "            print(pos.ticker, pos.open_date, prediction)\n",
    "            d2 = pd.to_datetime(pos.close_date)\n",
    "            d1 = pd.to_datetime(pos.open_date)\n",
    "            d0 = d1 - pd.DateOffset(days=3)\n",
    "            hist2plot = hist_pd.loc[d0:d2]\n",
    "            fig = mpf.plot(hist2plot, \n",
    "                type='candle', \n",
    "                block=False)"
   ]
  },
  {
   "cell_type": "code",
   "execution_count": null,
   "metadata": {},
   "outputs": [],
   "source": [
    "prediction"
   ]
  }
 ],
 "metadata": {
  "kernelspec": {
   "display_name": "Python 3.10.11 ('base')",
   "language": "python",
   "name": "python3"
  },
  "language_info": {
   "codemirror_mode": {
    "name": "ipython",
    "version": 3
   },
   "file_extension": ".py",
   "mimetype": "text/x-python",
   "name": "python",
   "nbconvert_exporter": "python",
   "pygments_lexer": "ipython3",
   "version": "3.10.11"
  },
  "orig_nbformat": 4,
  "vscode": {
   "interpreter": {
    "hash": "fee188bb3a88b2f91c21b23bf544ec11647f6207f57c38bc925e29c2adb397fe"
   }
  }
 },
 "nbformat": 4,
 "nbformat_minor": 2
}
