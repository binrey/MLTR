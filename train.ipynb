{
 "cells": [
  {
   "cell_type": "code",
   "execution_count": 1,
   "metadata": {},
   "outputs": [
    {
     "name": "stdout",
     "output_type": "stream",
     "text": [
      "optimization/btest000.pickle\n",
      "optimization/btest001.pickle\n",
      "optimization/btest002.pickle\n",
      "optimization/btest003.pickle\n",
      "optimization/btest004.pickle\n",
      "optimization/btest005.pickle\n",
      "optimization/btest006.pickle\n",
      "optimization/btest007.pickle\n",
      "optimization/btest008.pickle\n",
      "optimization/btest009.pickle\n",
      "optimization/btest010.pickle\n",
      "optimization/btest011.pickle\n",
      "optimization/btest012.pickle\n",
      "optimization/btest013.pickle\n",
      "optimization/btest014.pickle\n",
      "optimization/btest015.pickle\n",
      "optimization/btest016.pickle\n",
      "optimization/btest017.pickle\n"
     ]
    }
   ],
   "source": [
    "import pickle\n",
    "from pathlib import Path\n",
    "from easydict import EasyDict\n",
    "import pandas as pd\n",
    "from matplotlib import pyplot as plt\n",
    "\n",
    "pd.set_option('display.max_rows', 500)\n",
    "pd.set_option('display.max_columns', 500)\n",
    "pd.set_option('display.width', 1000)\n",
    "\n",
    "cfgs, btests = [], []\n",
    "for p in sorted(Path(\"optimization\").glob(\"*.pickle\")):\n",
    "    cfg, btest = pickle.load(open(p, \"rb\"))\n",
    "    cfgs.append(cfg)\n",
    "    btests.append(btest)\n",
    "    print(p)"
   ]
  },
  {
   "cell_type": "code",
   "execution_count": 2,
   "metadata": {},
   "outputs": [],
   "source": [
    "def get_data(test_split=0.25):\n",
    "    ids = np.arange(X.shape[0])\n",
    "    # np.random.shuffle(ids)\n",
    "    test_size = int(X.shape[0]*test_split)\n",
    "    ids_test, odates_testset, odates = [], set(), X[:, 0, -2, 0]\n",
    "    while len(ids_test) < test_size:\n",
    "        ix = np.random.randint(0, X.shape[0])\n",
    "        d = odates[ix]\n",
    "        if d not in odates_testset:\n",
    "            ii = ids[odates == d]\n",
    "            ids_test += ii.tolist()\n",
    "            odates_testset.add(d)\n",
    "    ids_train = [ix for ix in ids if ix not in ids_test]   \n",
    "    np.random.shuffle(ids_train) \n",
    "    np.random.shuffle(ids_test) \n",
    "        \n",
    "    # ids_test, ids_train = ids[:test_size], ids[test_size:]\n",
    "    X_train, X_test, y_train, y_test, profs_test = X[ids_train], X[ids_test], y[ids_train], y[ids_test], y[ids_test]\n",
    "    tf_test = X_test[:, 0, -1, 0]\n",
    "    X_train = X_train[:, :, :-2, :]\n",
    "    X_test = X_test[:, :, :-2, :]\n",
    "    \n",
    "    y_train = np.clip(y_train, -5, 0)\n",
    "    y_test = np.clip(y_test, -5, 0)\n",
    "    \n",
    "    return X_train, X_test, y_train, y_test, profs_test, tf_test"
   ]
  },
  {
   "cell_type": "code",
   "execution_count": 3,
   "metadata": {},
   "outputs": [
    {
     "name": "stdout",
     "output_type": "stream",
     "text": [
      "BTCUSD 497\n",
      "ETHUSD 607\n",
      "BTCUSD 355\n",
      "ETHUSD 433\n",
      "BTCUSD 297\n",
      "ETHUSD 359\n",
      "BTCUSD 649\n",
      "ETHUSD 740\n",
      "BTCUSD 479\n",
      "ETHUSD 568\n",
      "BTCUSD 424\n",
      "ETHUSD 501\n",
      "BTCUSD 843\n",
      "ETHUSD 903\n",
      "BTCUSD 697\n",
      "ETHUSD 757\n",
      "BTCUSD 629\n",
      "ETHUSD 677\n",
      "(10379, 1, 8, 16) (10379,)\n"
     ]
    }
   ],
   "source": [
    "from backtest import DataParser, MovingWindow\n",
    "import numpy as np\n",
    "import lightgbm as lgb\n",
    "from lightgbm import log_evaluation\n",
    "from sklearn.metrics import mean_absolute_error, mean_squared_error, f1_score\n",
    "from sklearn.model_selection import train_test_split\n",
    "from sklearn.preprocessing import StandardScaler\n",
    "from indicators import ZigZag\n",
    "\n",
    "\n",
    "def lgb_f1_score(y_hat, data):\n",
    "    y_true = data.get_label()\n",
    "    y_hat = np.round(y_hat) # scikits f1 doesn't like probabilities\n",
    "    return 'f1', f1_score(y_true, y_hat), False\n",
    "\n",
    "fsize = 16\n",
    "tfdict = {\"M5\":0, \"M15\":1, \"H1\":2}\n",
    "zz = ZigZag()\n",
    "X, y, poslist = [], [], []\n",
    "for btest in btests:\n",
    "    print(btest.cfg.ticker, end=\" \")\n",
    "    hist_pd, hist = DataParser(btest.cfg).load()\n",
    "    mw = MovingWindow(hist, fsize+2)\n",
    "    print(len(btest.positions))\n",
    "    for pos in btest.positions[2:]:\n",
    "        f, _ = mw(pos.open_indx)\n",
    "        fo = f.Open[:-2]/f.Open[-2]\n",
    "        fc = f.Close[:-2]/f.Open[:-2]\n",
    "        fh = f.High[:-2]/f.Open[:-2]\n",
    "        fl = f.Low[:-2]/f.Open[:-2]\n",
    "        fv = f.Volume[:-2]/f.Volume[:-2].mean()\n",
    "        odate = pd.to_datetime(pos.open_date)\n",
    "        odate = odate.year*10000 + odate.month*100 + odate.day\n",
    "        if pos.dir > 0:\n",
    "            x = np.vstack([fc, fo, fl, fh])\n",
    "        else:\n",
    "            x = np.vstack([2-fc, 2-fo, 2-fl, 2-fh])\n",
    "        x = x*100 - 100\n",
    "        # print(x.flatten())\n",
    "        x = np.vstack([x, np.ones(x.shape[1])*btest.cfg.stops_processor.func.cfg.sl/6+1])\n",
    "        x = np.vstack([x, np.ones(x.shape[1])*btest.cfg.trailing_stop_rate/0.04+1])\n",
    "        x = np.vstack([x, np.ones(x.shape[1])*odate])\n",
    "        x = np.vstack([x, np.ones(x.shape[1])*tfdict[btest.cfg.period]])\n",
    "        X.append([x])\n",
    "        y.append(pos.profit)\n",
    "        poslist.append(pos)\n",
    "        \n",
    "X, y = np.array(X, dtype=np.float32), np.array(y, dtype=np.float32)\n",
    "print(X.shape, y.shape)"
   ]
  },
  {
   "cell_type": "code",
   "execution_count": 4,
   "metadata": {},
   "outputs": [
    {
     "name": "stdout",
     "output_type": "stream",
     "text": [
      "(7778, 1, 6, 16) (2601, 1, 6, 16) (2601,)\n"
     ]
    }
   ],
   "source": [
    "np.random.seed(2)\n",
    "X_train, X_test, y_train, y_test, profs_test, tf_test = get_data()\n",
    "print(X_train.shape, X_test.shape, tf_test.shape)"
   ]
  },
  {
   "cell_type": "code",
   "execution_count": 5,
   "metadata": {},
   "outputs": [
    {
     "data": {
      "text/plain": [
       "<matplotlib.image.AxesImage at 0x1292338e0>"
      ]
     },
     "execution_count": 5,
     "metadata": {},
     "output_type": "execute_result"
    },
    {
     "data": {
      "image/png": "[encoded data removed]",
      "text/plain": [
       "<Figure size 640x480 with 1 Axes>"
      ]
     },
     "metadata": {},
     "output_type": "display_data"
    }
   ],
   "source": [
    "plt.imshow(X_train[0][0][:], cmap=\"gray\")\n"
   ]
  },
  {
   "cell_type": "code",
   "execution_count": 6,
   "metadata": {},
   "outputs": [
    {
     "data": {
      "text/plain": [
       "<matplotlib.image.AxesImage at 0x14f3a3a90>"
      ]
     },
     "execution_count": 6,
     "metadata": {},
     "output_type": "execute_result"
    },
    {
     "data": {
      "image/png": "[encoded data removed]",
      "text/plain": [
       "<Figure size 640x480 with 1 Axes>"
      ]
     },
     "metadata": {},
     "output_type": "display_data"
    }
   ],
   "source": [
    "import torch\n",
    "from torchvision.io import read_image\n",
    "\n",
    "class CustomImageDataset(torch.utils.data.Dataset):\n",
    "    def __init__(self, X, y):\n",
    "        self.img_labels = y\n",
    "        self.imgs = X\n",
    "\n",
    "    def __len__(self):\n",
    "        return len(self.img_labels)\n",
    "\n",
    "    def __getitem__(self, idx):\n",
    "        image = self.imgs[idx]\n",
    "        label = self.img_labels[idx]\n",
    "        return image, label\n",
    "   \n",
    "dl_train = CustomImageDataset(X_train, y_train)\n",
    "plt.imshow(dl_train[-1][0][0])"
   ]
  },
  {
   "cell_type": "code",
   "execution_count": 7,
   "metadata": {},
   "outputs": [
    {
     "name": "stdout",
     "output_type": "stream",
     "text": [
      "torch.Size([128, 1, 6, 16]) torch.Size([128])\n"
     ]
    }
   ],
   "source": [
    "batch_size = 128\n",
    "trainloader = torch.utils.data.DataLoader(dl_train, batch_size=batch_size, shuffle=True)\n",
    "\n",
    "dataiter = iter(trainloader)\n",
    "images, labels = next(dataiter)\n",
    "print(images.shape, labels.shape)"
   ]
  },
  {
   "cell_type": "code",
   "execution_count": 20,
   "metadata": {},
   "outputs": [],
   "source": [
    "import timm\n",
    "import torch.optim as optim\n",
    "import torch.nn as nn\n",
    "# model = timm.create_model('resnet18', in_chans=1, num_classes=1).float().to(\"mps\")\n",
    "\n",
    "import torch.nn as nn\n",
    "import torch.nn.functional as F\n",
    "from torchsummary import summary\n",
    "\n",
    "class Net(nn.Module):\n",
    "    def __init__(self):\n",
    "        super().__init__()\n",
    "        self.conv1 = nn.Conv2d(1, 8, (6, 4), padding=\"same\")\n",
    "        self.conv2 = nn.Conv2d(8, 16, (6, 4), padding=\"same\")\n",
    "        self.conv3 = nn.Conv2d(16, 32, (6, 4), padding=\"valid\")\n",
    "        \n",
    "        self.pool = nn.MaxPool2d((1, 2), (1, 2))\n",
    "        self.fc1 = nn.Linear(16 * 5 * 5, 120)\n",
    "        self.fc2 = nn.Linear(120, 84)\n",
    "        self.fc3 = nn.Linear(32, 1)\n",
    "        self.bn1 = nn.BatchNorm2d(4)\n",
    "        self.bn2 = nn.BatchNorm2d(8)\n",
    "\n",
    "    def forward(self, x):\n",
    "        x = self.pool(F.relu((self.conv1(x))))\n",
    "        x = self.pool(F.relu((self.conv2(x))))\n",
    "        x = F.relu((self.conv3(x)))\n",
    "        # x = self.pool(F.relu(self.conv2(x)))\n",
    "        x = torch.flatten(x, 1) # flatten all dimensions except batch\n",
    "        # x = F.relu(self.fc1(x))\n",
    "        # x = F.relu(self.fc2(x))\n",
    "        x = self.fc3(x)\n",
    "        return x\n",
    "model = Net().to(\"mps\")\n",
    "# print(summary(model, (1, 6, 16)))\n",
    "criterion = nn.MSELoss()\n",
    "optimizer = optim.SGD(model.parameters(), lr=0.0001)"
   ]
  },
  {
   "cell_type": "code",
   "execution_count": 21,
   "metadata": {},
   "outputs": [
    {
     "name": "stdout",
     "output_type": "stream",
     "text": [
      "[001,    61] loss: 4.574\n",
      "[002,    61] loss: 4.321\n",
      "[003,    61] loss: 4.100\n",
      "[004,    61] loss: 3.888\n",
      "[005,    61] loss: 3.679\n",
      "[006,    61] loss: 3.455\n",
      "[007,    61] loss: 3.209\n",
      "[008,    61] loss: 2.953\n",
      "[009,    61] loss: 2.694\n",
      "[010,    61] loss: 2.453\n",
      "[011,    61] loss: 2.243\n",
      "[012,    61] loss: 2.086\n",
      "[013,    61] loss: 1.977\n",
      "[014,    61] loss: 1.914\n",
      "[015,    61] loss: 1.882\n",
      "[016,    61] loss: 1.869\n",
      "[017,    61] loss: 1.860\n",
      "[018,    61] loss: 1.858\n",
      "[019,    61] loss: 1.856\n",
      "[020,    61] loss: 1.859\n",
      "[021,    61] loss: 1.856\n",
      "[022,    61] loss: 1.854\n",
      "[023,    61] loss: 1.854\n",
      "[024,    61] loss: 1.853\n",
      "[025,    61] loss: 1.853\n",
      "[026,    61] loss: 1.852\n",
      "[027,    61] loss: 1.853\n",
      "[028,    61] loss: 1.853\n",
      "[029,    61] loss: 1.852\n",
      "[030,    61] loss: 1.851\n",
      "[031,    61] loss: 1.851\n",
      "[032,    61] loss: 1.852\n",
      "[033,    61] loss: 1.851\n",
      "[034,    61] loss: 1.850\n",
      "[035,    61] loss: 1.850\n",
      "[036,    61] loss: 1.850\n",
      "[037,    61] loss: 1.850\n",
      "[038,    61] loss: 1.848\n",
      "[039,    61] loss: 1.848\n",
      "[040,    61] loss: 1.848\n",
      "[041,    61] loss: 1.850\n",
      "[042,    61] loss: 1.846\n",
      "[043,    61] loss: 1.848\n",
      "[044,    61] loss: 1.848\n",
      "[045,    61] loss: 1.845\n",
      "[046,    61] loss: 1.845\n",
      "[047,    61] loss: 1.845\n",
      "[048,    61] loss: 1.845\n",
      "[049,    61] loss: 1.844\n",
      "[050,    61] loss: 1.844\n",
      "[051,    61] loss: 1.843\n",
      "[052,    61] loss: 1.846\n",
      "[053,    61] loss: 1.844\n",
      "[054,    61] loss: 1.843\n",
      "[055,    61] loss: 1.842\n",
      "[056,    61] loss: 1.841\n",
      "[057,    61] loss: 1.842\n",
      "[058,    61] loss: 1.842\n",
      "[059,    61] loss: 1.840\n",
      "[060,    61] loss: 1.842\n",
      "[061,    61] loss: 1.842\n",
      "[062,    61] loss: 1.841\n",
      "[063,    61] loss: 1.841\n",
      "[064,    61] loss: 1.840\n",
      "[065,    61] loss: 1.843\n",
      "[066,    61] loss: 1.839\n",
      "[067,    61] loss: 1.839\n",
      "[068,    61] loss: 1.840\n",
      "[069,    61] loss: 1.838\n",
      "[070,    61] loss: 1.836\n",
      "[071,    61] loss: 1.838\n",
      "[072,    61] loss: 1.836\n",
      "[073,    61] loss: 1.836\n",
      "[074,    61] loss: 1.836\n",
      "[075,    61] loss: 1.837\n",
      "[076,    61] loss: 1.835\n",
      "[077,    61] loss: 1.835\n",
      "[078,    61] loss: 1.837\n",
      "[079,    61] loss: 1.834\n",
      "[080,    61] loss: 1.833\n",
      "[081,    61] loss: 1.832\n",
      "[082,    61] loss: 1.833\n",
      "[083,    61] loss: 1.832\n",
      "[084,    61] loss: 1.832\n",
      "[085,    61] loss: 1.830\n",
      "[086,    61] loss: 1.833\n",
      "[087,    61] loss: 1.832\n",
      "[088,    61] loss: 1.831\n",
      "[089,    61] loss: 1.833\n",
      "[090,    61] loss: 1.831\n",
      "[091,    61] loss: 1.831\n",
      "[092,    61] loss: 1.829\n",
      "[093,    61] loss: 1.830\n",
      "[094,    61] loss: 1.830\n",
      "[095,    61] loss: 1.829\n",
      "[096,    61] loss: 1.829\n",
      "[097,    61] loss: 1.828\n",
      "[098,    61] loss: 1.826\n",
      "[099,    61] loss: 1.826\n",
      "[100,    61] loss: 1.826\n"
     ]
    }
   ],
   "source": [
    "for epoch in range(100):  # loop over the dataset multiple times\n",
    "    running_loss = 0.0\n",
    "    for i, data in enumerate(trainloader, 0):\n",
    "        # get the inputs; data is a list of [inputs, labels]\n",
    "        inputs, labels = data\n",
    "\n",
    "        # zero the parameter gradients\n",
    "        optimizer.zero_grad()\n",
    "\n",
    "        # forward + backward + optimize\n",
    "        outputs = model(inputs.float().to(\"mps\"))\n",
    "        loss = criterion(outputs[:, 0], labels.float().to(\"mps\"))\n",
    "        loss.backward()\n",
    "        optimizer.step()\n",
    "\n",
    "        # print statistics\n",
    "        running_loss += loss.item()\n",
    "    print(f'[{epoch + 1:03d}, {i + 1:5d}] loss: {running_loss / (i + 1):.3f}')\n",
    "    running_loss = 0.0"
   ]
  },
  {
   "cell_type": "code",
   "execution_count": 26,
   "metadata": {},
   "outputs": [
    {
     "name": "stdout",
     "output_type": "stream",
     "text": [
      "7778 2601\n",
      "000 profit M5 :   +0.0 ->    +0.0 --\n",
      "000 profit M15:   +0.0 ->    +0.0 --\n",
      "000 profit H1 :+1604.0 -> +1712.4 OK\n",
      "000 mae_train: 1.12 mae_test: 1.09\n",
      "[   0.            0.         1603.98852539]  ->  [   0.            0.         1712.40258789]\n",
      "[      nan       nan 0.0675903]\n",
      "mae_train: 1.12 mae_test: 1.09 ratio: 0.97\n",
      "av. profit boost: 0.06759029805004219\n"
     ]
    },
    {
     "name": "stderr",
     "output_type": "stream",
     "text": [
      "/var/folders/kw/hd5pllps0vs0ln9s5xlr768w0000gn/T/ipykernel_34064/2172086205.py:32: RuntimeWarning: invalid value encountered in divide\n",
      "  print((pprofs_mean - gprofs_mean)/abs(gprofs_mean))\n"
     ]
    },
    {
     "data": {
      "text/plain": [
       "[<matplotlib.lines.Line2D at 0x168326350>]"
      ]
     },
     "execution_count": 26,
     "metadata": {},
     "output_type": "execute_result"
    },
    {
     "data": {
      "image/png": "[encoded data removed]",
      "text/plain": [
       "<Figure size 2000x300 with 2 Axes>"
      ]
     },
     "metadata": {},
     "output_type": "display_data"
    }
   ],
   "source": [
    "nitrers = 1\n",
    "id2tf = {v:k for k, v in tfdict.items()}\n",
    "\n",
    "pprofits, gprofits, metrics = np.zeros((3, nitrers)), np.zeros((3, nitrers)), np.zeros((2, nitrers))\n",
    "for i in range(nitrers):\n",
    "    # X_train, X_test, y_train, y_test, profs_test, tf_test = get_data()\n",
    "    \n",
    "    print(X_train.shape[0], X_test.shape[0])\n",
    "\n",
    "    threshold = -1.5\n",
    "    if len(X_train):\n",
    "        # p_train = model.predict(X_train)\n",
    "        p_train = model(torch.tensor(X_train).float().to(\"mps\")).detach().cpu().numpy().squeeze()\n",
    "        # threshold = np.percentile(p_train, 10)\n",
    "        metrics[0, i] = mean_absolute_error(p_train, y_train)\n",
    "    # p_test = model.predict(X_test)\n",
    "    p_test = model(torch.tensor(X_test).float().to(\"mps\")).detach().cpu().numpy().squeeze()\n",
    "    metrics[1, i] = mean_absolute_error(p_test, y_test)\n",
    "\n",
    "    for j in range(3):\n",
    "        ids = tf_test == j\n",
    "        pprofits[j, i] = (profs_test[ids]*(p_test[ids]>threshold)).sum()\n",
    "        gprofits[j, i] = profs_test[ids].sum()\n",
    "        print(f\"{i:03} profit {id2tf[j]:3}:{gprofits[j, i]:+7.1f} -> {pprofits[j, i]:+7.1f} {'OK' if pprofits[j, i] > gprofits[j, i] else '--'}\")\n",
    "    print(f\"{i:03} mae_train: {metrics[0, i]:4.2f} mae_test: {metrics[1, i]:4.2f}\")\n",
    "    \n",
    "pprofs_mean = pprofits.mean(1)\n",
    "gprofs_mean = gprofits.mean(1)\n",
    "f1_mean = metrics.mean(1)\n",
    "\n",
    "print(gprofs_mean, \" -> \", pprofs_mean)\n",
    "print((pprofs_mean - gprofs_mean)/abs(gprofs_mean))\n",
    "print(f\"mae_train: {f1_mean[0]:4.2f} mae_test: {f1_mean[1]:4.2f} ratio: {f1_mean[1]/f1_mean[0]:4.2f}\")\n",
    "print(f\"av. profit boost: {(pprofs_mean[pprofs_mean!=0].mean() - gprofs_mean[gprofs_mean!=0].mean())/abs(gprofs_mean[gprofs_mean!=0].mean())}\")\n",
    "\n",
    "plt.figure(figsize=(20, 3))\n",
    "plt.subplot(1, 2, 1)\n",
    "plt.plot(p_train[:100], \".\")\n",
    "plt.bar(np.arange(100), y_train[:100], width=[1]*100, alpha=0.4)\n",
    "plt.plot([0, 100], [threshold, threshold])\n",
    "plt.subplot(1, 2, 2)\n",
    "plt.plot(p_test[:100], \".\")\n",
    "plt.bar(np.arange(100), y_test[:100], width=[1]*100, alpha=0.4)\n",
    "# plt.bar(np.arange(100), profs_test[:100], width=[1]*100, alpha=0.2)\n",
    "plt.plot([0, 100], [threshold, threshold])"
   ]
  },
  {
   "cell_type": "code",
   "execution_count": 25,
   "metadata": {},
   "outputs": [
    {
     "data": {
      "text/plain": [
       "[<matplotlib.lines.Line2D at 0x2ec09e200>]"
      ]
     },
     "execution_count": 25,
     "metadata": {},
     "output_type": "execute_result"
    },
    {
     "data": {
      "image/png": "[encoded data removed]",
      "text/plain": [
       "<Figure size 640x480 with 1 Axes>"
      ]
     },
     "metadata": {},
     "output_type": "display_data"
    }
   ],
   "source": [
    "plt.plot(p_test)"
   ]
  },
  {
   "cell_type": "code",
   "execution_count": 14,
   "metadata": {},
   "outputs": [
    {
     "name": "stdout",
     "output_type": "stream",
     "text": [
      "000 profit M5 :   +0.0 ->    +0.0 --\n",
      "000 profit M15:   +0.0 ->    +0.0 --\n",
      "000 profit H1 : +140.0 ->   +13.0 --\n",
      "[  0.   0. 140.]  ->  [ 0.  0. 13.]\n",
      "[        nan         nan -0.90714286]\n",
      "av. profit boost: -0.9071428571428571\n"
     ]
    },
    {
     "name": "stderr",
     "output_type": "stream",
     "text": [
      "/var/folders/kw/hd5pllps0vs0ln9s5xlr768w0000gn/T/ipykernel_33232/3962858593.py:12: RuntimeWarning: invalid value encountered in divide\n",
      "  print((pprofs_mean - gprofs_mean)/abs(gprofs_mean))\n"
     ]
    },
    {
     "data": {
      "text/plain": [
       "[<matplotlib.lines.Line2D at 0x169e3c610>]"
      ]
     },
     "execution_count": 14,
     "metadata": {},
     "output_type": "execute_result"
    },
    {
     "data": {
      "image/png": "[encoded data removed]",
      "text/plain": [
       "<Figure size 2000x300 with 2 Axes>"
      ]
     },
     "metadata": {},
     "output_type": "display_data"
    }
   ],
   "source": [
    "threshold = 0.4\n",
    "for j in range(3):\n",
    "    ids = tf_test == j\n",
    "    pprofits[j, i] = (profs_test[ids]*(p_test[ids]>threshold)).sum()\n",
    "    gprofits[j, i] = profs_test[ids].sum()\n",
    "    print(f\"{i:03} profit {id2tf[j]:3}:{gprofits[j, i]:+7.1f} -> {pprofits[j, i]:+7.1f} {'OK' if pprofits[j, i] > gprofits[j, i] else '--'}\")\n",
    "    \n",
    "pprofs_mean = pprofits.mean(1)\n",
    "gprofs_mean = gprofits.mean(1)\n",
    "\n",
    "print(gprofs_mean, \" -> \", pprofs_mean)\n",
    "print((pprofs_mean - gprofs_mean)/abs(gprofs_mean))\n",
    "print(f\"av. profit boost: {(pprofits.mean() - gprofits.mean())/gprofits.mean()}\")\n",
    "\n",
    "plt.figure(figsize=(20, 3))\n",
    "plt.subplot(1, 2, 1)\n",
    "plt.plot(p_train[:100], \".\")\n",
    "plt.bar(np.arange(100), y_train[:100], width=[1]*100, alpha=0.4)\n",
    "plt.plot([0, 100], [threshold, threshold])\n",
    "plt.subplot(1, 2, 2)\n",
    "plt.plot(p_test[:100], \".\")\n",
    "plt.bar(np.arange(100), y_test[:100], width=[1]*100, alpha=0.4)\n",
    "plt.plot([0, 100], [threshold, threshold])"
   ]
  },
  {
   "cell_type": "code",
   "execution_count": 15,
   "metadata": {},
   "outputs": [
    {
     "ename": "TypeError",
     "evalue": "unhashable type: 'numpy.ndarray'",
     "output_type": "error",
     "traceback": [
      "\u001b[0;31m---------------------------------------------------------------------------\u001b[0m",
      "\u001b[0;31mTypeError\u001b[0m                                 Traceback (most recent call last)",
      "Cell \u001b[0;32mIn[15], line 1\u001b[0m\n\u001b[0;32m----> 1\u001b[0m \u001b[38;5;28;43mset\u001b[39;49m\u001b[43m(\u001b[49m\u001b[43mX_train\u001b[49m\u001b[43m[\u001b[49m\u001b[43m:\u001b[49m\u001b[43m,\u001b[49m\u001b[43m \u001b[49m\u001b[38;5;241;43m-\u001b[39;49m\u001b[38;5;241;43m1\u001b[39;49m\u001b[43m]\u001b[49m\u001b[38;5;241;43m.\u001b[39;49m\u001b[43mastype\u001b[49m\u001b[43m(\u001b[49m\u001b[38;5;28;43mint\u001b[39;49m\u001b[43m)\u001b[49m\u001b[43m)\u001b[49m\u001b[38;5;241m.\u001b[39mintersection(\u001b[38;5;28mset\u001b[39m(X_test[:, \u001b[38;5;241m-\u001b[39m\u001b[38;5;241m1\u001b[39m]\u001b[38;5;241m.\u001b[39mastype(\u001b[38;5;28mint\u001b[39m)))\n",
      "\u001b[0;31mTypeError\u001b[0m: unhashable type: 'numpy.ndarray'"
     ]
    }
   ],
   "source": [
    "set(X_train[:, -1].astype(int)).intersection(set(X_test[:, -1].astype(int)))"
   ]
  },
  {
   "cell_type": "code",
   "execution_count": null,
   "metadata": {},
   "outputs": [
    {
     "name": "stdout",
     "output_type": "stream",
     "text": [
      "0.0074 0.0004 0.0014 0.0009 0.0022 0.0258 0.0007 0.0042 0.0000 0.0000 0.0006 0.0051 0.0244 0.0123 0.0029 0.0005 0.0009 0.0000 0.0019 0.0038 0.0001 0.0000 0.0027 0.0003 0.0008 0.0059 0.0047 0.0146 0.0227 0.0058 0.0061 0.0192 0.0102 0.0252 0.0218 0.1189 0.0129 0.0390 0.0000 0.0092 0.0094 0.1496 0.0610 0.0001 0.0300 0.0015 0.0039 0.0096 0.0095 0.0869 0.0426 0.0008 0.0080 0.0287 0.0008 0.0006 0.0173 0.0058 0.0686 0.0197 0.0011 0.0028 0.0016 0.0018 0.0010 0.0024 0.0009 0.0016 0.0014 0.0017 0.0011 0.0079 0.0011 0.0000 0.0024 0.0010 0.0000\n"
     ]
    }
   ],
   "source": [
    "print(\" \".join(map(\"{:6.4f}\".format, model.feature_importances_)))"
   ]
  },
  {
   "cell_type": "code",
   "execution_count": null,
   "metadata": {},
   "outputs": [
    {
     "data": {
      "text/plain": [
       "(1112, 3653, 3682, 3682)"
      ]
     },
     "execution_count": 391,
     "metadata": {},
     "output_type": "execute_result"
    }
   ],
   "source": [
    "y_test.sum(), (p_test>threshold).sum(), p_test.shape[0], y_test.shape[0]"
   ]
  },
  {
   "cell_type": "code",
   "execution_count": null,
   "metadata": {},
   "outputs": [],
   "source": [
    "import mplfinance as mpf\n",
    "\n",
    "ticker = \"GAZP\"\n",
    "tf = \"H1\"\n",
    "hist_pd, hist = DataParser(\n",
    "    EasyDict(\n",
    "        date_start=\"2008-01-01\",\n",
    "        period=tf,\n",
    "        ticker=ticker,\n",
    "        data_type=\"metatrader\"\n",
    "        )).load()\n",
    "\n",
    "for i in ids_test:\n",
    "    pos = poslist[i]\n",
    "    if pos.ticker == ticker:\n",
    "        prediction = model.predict_proba([X[i, :-1]])[0][1]\n",
    "        if prediction < threshold:\n",
    "            print(pos.ticker, pos.open_date, prediction)\n",
    "            d2 = pd.to_datetime(pos.close_date)\n",
    "            d1 = pd.to_datetime(pos.open_date)\n",
    "            d0 = d1 - pd.DateOffset(days=3)\n",
    "            hist2plot = hist_pd.loc[d0:d2]\n",
    "            fig = mpf.plot(hist2plot, \n",
    "                type='candle', \n",
    "                block=False)"
   ]
  },
  {
   "cell_type": "code",
   "execution_count": null,
   "metadata": {},
   "outputs": [
    {
     "data": {
      "text/plain": [
       "array([[0.49287947, 0.50712053]])"
      ]
     },
     "execution_count": 47,
     "metadata": {},
     "output_type": "execute_result"
    }
   ],
   "source": [
    "prediction"
   ]
  }
 ],
 "metadata": {
  "kernelspec": {
   "display_name": "Python 3.10.11 ('base')",
   "language": "python",
   "name": "python3"
  },
  "language_info": {
   "codemirror_mode": {
    "name": "ipython",
    "version": 3
   },
   "file_extension": ".py",
   "mimetype": "text/x-python",
   "name": "python",
   "nbconvert_exporter": "python",
   "pygments_lexer": "ipython3",
   "version": "3.11.5"
  },
  "orig_nbformat": 4,
  "vscode": {
   "interpreter": {
    "hash": "fee188bb3a88b2f91c21b23bf544ec11647f6207f57c38bc925e29c2adb397fe"
   }
  }
 },
 "nbformat": 4,
 "nbformat_minor": 2
}
