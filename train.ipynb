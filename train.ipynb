{
 "cells": [
  {
   "cell_type": "code",
   "execution_count": 47,
   "metadata": {},
   "outputs": [
    {
     "name": "stdout",
     "output_type": "stream",
     "text": [
      "optimization/btest000.pickle\n",
      "optimization/btest001.pickle\n",
      "optimization/btest002.pickle\n",
      "optimization/btest003.pickle\n",
      "optimization/btest004.pickle\n",
      "optimization/btest005.pickle\n",
      "optimization/btest006.pickle\n",
      "optimization/btest007.pickle\n",
      "optimization/btest008.pickle\n",
      "optimization/btest009.pickle\n",
      "optimization/btest010.pickle\n",
      "optimization/btest011.pickle\n",
      "optimization/btest012.pickle\n",
      "optimization/btest013.pickle\n",
      "optimization/btest014.pickle\n",
      "optimization/btest015.pickle\n",
      "optimization/btest016.pickle\n",
      "optimization/btest017.pickle\n"
     ]
    }
   ],
   "source": [
    "import pickle\n",
    "from pathlib import Path\n",
    "from easydict import EasyDict\n",
    "import pandas as pd\n",
    "from matplotlib import pyplot as plt\n",
    "\n",
    "pd.set_option('display.max_rows', 500)\n",
    "pd.set_option('display.max_columns', 500)\n",
    "pd.set_option('display.width', 1000)\n",
    "\n",
    "cfgs, btests = [], []\n",
    "for p in sorted(Path(\"optimization\").glob(\"*.pickle\")):\n",
    "    cfg, btest = pickle.load(open(p, \"rb\"))\n",
    "    cfgs.append(cfg)\n",
    "    btests.append(btest)\n",
    "    print(p)"
   ]
  },
  {
   "cell_type": "code",
   "execution_count": 75,
   "metadata": {},
   "outputs": [
    {
     "name": "stdout",
     "output_type": "stream",
     "text": [
      "BTCUSD 497\n",
      "ETHUSD 607\n",
      "BTCUSD 355\n",
      "ETHUSD 433\n",
      "BTCUSD 297\n",
      "ETHUSD 359\n",
      "BTCUSD 649\n",
      "ETHUSD 740\n",
      "BTCUSD 479\n",
      "ETHUSD 568\n",
      "BTCUSD 424\n",
      "ETHUSD 501\n",
      "BTCUSD 843\n",
      "ETHUSD 903\n",
      "BTCUSD 697\n",
      "ETHUSD 757\n",
      "BTCUSD 629\n",
      "ETHUSD 677\n",
      "(5044, 79) (5353, 79) (10397, 79) (5044,) (5353,) (10397,)\n"
     ]
    }
   ],
   "source": [
    "from backtest import DataParser, MovingWindow\n",
    "import numpy as np\n",
    "import lightgbm as lgb\n",
    "from lightgbm import log_evaluation\n",
    "from sklearn.metrics import mean_absolute_error, f1_score\n",
    "from sklearn.model_selection import train_test_split\n",
    "from sklearn.preprocessing import StandardScaler\n",
    "from sklearn.ensemble import RandomForestClassifier, RandomForestRegressor\n",
    "from indicators import ZigZag\n",
    "\n",
    "\n",
    "def lgb_f1_score(y_hat, data):\n",
    "    y_true = data.get_label()\n",
    "    y_hat = np.round(y_hat) # scikits f1 doesn't like probabilities\n",
    "    return 'f1', f1_score(y_true, y_hat), False\n",
    "\n",
    "fsize = 15\n",
    "tfdict = {\"M5\":0, \"M15\":1, \"H1\":2}\n",
    "zz = ZigZag()\n",
    "Xl, Xs, yl, ys, odates, poslist, targets = [], [], [], [], [], [], []\n",
    "for btest in btests:\n",
    "    print(btest.cfg.ticker, end=\" \")\n",
    "    hist_pd, hist = DataParser(btest.cfg).load()\n",
    "    mw = MovingWindow(hist, fsize+2)\n",
    "    print(len(btest.positions))\n",
    "    for pos in btest.positions[1:]:\n",
    "        f, _ = mw(pos.open_indx)\n",
    "        fo = f.Open[:-2]/f.Open[-2]\n",
    "        fc = f.Close[:-2]/f.Open[:-2]\n",
    "        fh = f.High[:-2]/f.Open[:-2]\n",
    "        fl = f.Low[:-2]/f.Open[:-2]\n",
    "        fv = f.Volume[:-2]/f.Volume[:-2].mean()\n",
    "        odate = pd.to_datetime(pos.open_date)\n",
    "        odate = odate.year*10000 + odate.month*100 + odate.day\n",
    "        if pos.dir == 1:\n",
    "            Xl.append(np.hstack([fc, fo, fl, fh, fv, btest.cfg.stops_processor.func.cfg.sl, btest.cfg.trailing_stop_rate, odate, tfdict[btest.cfg.period]]))\n",
    "            yl.append(pos.profit)\n",
    "        else:\n",
    "            Xs.append(np.hstack([2-fc, 2-fo, 2-fl, 2-fh, fv, btest.cfg.stops_processor.func.cfg.sl, btest.cfg.trailing_stop_rate, odate, tfdict[btest.cfg.period]])) \n",
    "            ys.append(pos.profit) \n",
    "        poslist.append(pos)\n",
    "        targets.append(pos.dir*(hist.Close[pos.open_indx:pos.open_indx+fsize].mean() - hist.Open[pos.open_indx])/hist.Open[pos.open_indx]*100)\n",
    "        \n",
    "Xs, Xl = np.array(Xs), np.array(Xl)\n",
    "ys, yl = np.array(ys), np.array(yl)\n",
    "odates = np.array(odates)\n",
    "targets = np.clip(np.array(targets), -99, 99)\n",
    "\n",
    "\n",
    "# ids2add = np.random.choice(np.arange(Xs.shape[0]), size=Xl.shape[0] - Xs.shape[0])\n",
    "# Xs = np.vstack([Xs, Xs[ids2add]])\n",
    "# ys = np.hstack([ys, ys[ids2add]])\n",
    "X = np.vstack([Xs, Xl])\n",
    "y = np.hstack([ys, yl])\n",
    "print(Xs.shape, Xl.shape, X.shape, ys.shape, yl.shape, y.shape)"
   ]
  },
  {
   "cell_type": "code",
   "execution_count": 27,
   "metadata": {},
   "outputs": [
    {
     "name": "stdout",
     "output_type": "stream",
     "text": [
      "0.9960 0.9998 0.9973 1.0050 0.9752 1.0088 1.0131 0.9992 1.0012 0.9916 1.0083 1.0177 1.0211 0.9916 1.0121 0.9601 0.9559 0.9558 0.9529 0.9582 0.9323 0.9416 0.9555 0.9546 0.9559 0.9472 0.9559 0.9745 0.9961 0.9877 1.0037 1.0075 1.0001 1.0062 1.0001 1.0109 1.0138 1.0024 1.0056 1.0011 1.0094 1.0256 1.0249 1.0023 1.0194 0.9960 0.9996 0.9944 0.9999 0.9752 0.9917 1.0000 0.9972 1.0000 0.9914 0.9998 1.0000 0.9999 0.9914 1.0000 2.0000 0.0100 20181119.0000 2.0000\n"
     ]
    }
   ],
   "source": [
    "print(\" \".join(map(\"{:6.4f}\".format, X[1000])))"
   ]
  },
  {
   "cell_type": "code",
   "execution_count": 4,
   "metadata": {},
   "outputs": [
    {
     "name": "stdout",
     "output_type": "stream",
     "text": [
      "-0.7513 1.8025 -0.2653 -1.8339 0.5343 -0.0876 2.7392 0.5846 -1.8473 -0.6409\n"
     ]
    }
   ],
   "source": [
    "print(\" \".join(map(\"{:6.4f}\".format, targets[:10])))"
   ]
  },
  {
   "cell_type": "code",
   "execution_count": 5,
   "metadata": {},
   "outputs": [
    {
     "name": "stdout",
     "output_type": "stream",
     "text": [
      "10.7489 -1.9495 11.7240 0.3391 -3.1188 -2.8162 5.3477 -3.8664 8.6496 -0.8199\n"
     ]
    }
   ],
   "source": [
    "print(\" \".join(map(\"{:6.4f}\".format, y[:10])))"
   ]
  },
  {
   "cell_type": "code",
   "execution_count": 77,
   "metadata": {},
   "outputs": [
    {
     "name": "stdout",
     "output_type": "stream",
     "text": [
      "7790 2607\n",
      "000 profit M5 :   +0.0 ->    +0.0 --\n",
      "000 profit M15:   +0.0 ->    +0.0 --\n",
      "000 profit H1 :+1418.5 -> +1740.9 OK\n",
      "000 mae_train: 3.37 mae_test: 3.67\n",
      "7795 2602\n",
      "001 profit M5 :   +0.0 ->    +0.0 --\n",
      "001 profit M15:   +0.0 ->    +0.0 --\n",
      "001 profit H1 : +841.1 ->  +595.1 --\n",
      "001 mae_train: 3.40 mae_test: 3.73\n",
      "7790 2607\n",
      "002 profit M5 :   +0.0 ->    +0.0 --\n",
      "002 profit M15:   +0.0 ->    +0.0 --\n",
      "002 profit H1 :+2241.2 -> +2614.6 OK\n",
      "002 mae_train: 3.29 mae_test: 3.90\n",
      "7794 2603\n",
      "003 profit M5 :   +0.0 ->    +0.0 --\n",
      "003 profit M15:   +0.0 ->    +0.0 --\n",
      "003 profit H1 :+1610.4 -> +2037.2 OK\n",
      "003 mae_train: 3.38 mae_test: 3.85\n",
      "7798 2599\n",
      "004 profit M5 :   +0.0 ->    +0.0 --\n",
      "004 profit M15:   +0.0 ->    +0.0 --\n",
      "004 profit H1 : +937.5 -> +1191.6 OK\n",
      "004 mae_train: 3.48 mae_test: 3.47\n",
      "7796 2601\n",
      "005 profit M5 :   +0.0 ->    +0.0 --\n",
      "005 profit M15:   +0.0 ->    +0.0 --\n",
      "005 profit H1 : -260.8 ->  +108.6 OK\n",
      "005 mae_train: 3.59 mae_test: 3.42\n",
      "7794 2603\n",
      "006 profit M5 :   +0.0 ->    +0.0 --\n",
      "006 profit M15:   +0.0 ->    +0.0 --\n",
      "006 profit H1 :+1768.9 -> +2126.3 OK\n",
      "006 mae_train: 3.40 mae_test: 3.57\n",
      "7772 2625\n",
      "007 profit M5 :   +0.0 ->    +0.0 --\n",
      "007 profit M15:   +0.0 ->    +0.0 --\n",
      "007 profit H1 :+1107.7 -> +1536.7 OK\n",
      "007 mae_train: 3.41 mae_test: 3.64\n",
      "7798 2599\n",
      "008 profit M5 :   +0.0 ->    +0.0 --\n",
      "008 profit M15:   +0.0 ->    +0.0 --\n",
      "008 profit H1 : +811.1 -> +1172.2 OK\n",
      "008 mae_train: 3.48 mae_test: 3.54\n",
      "7796 2601\n",
      "009 profit M5 :   +0.0 ->    +0.0 --\n",
      "009 profit M15:   +0.0 ->    +0.0 --\n",
      "009 profit H1 : +966.1 ->  +843.9 --\n",
      "009 mae_train: 3.42 mae_test: 3.69\n",
      "[   0.            0.         1144.15217319]  ->  [   0.            0.         1396.71746932]\n",
      "[      nan       nan 0.2207445]\n",
      "mae_train: 3.42 mae_test: 3.65 ration: 1.07\n",
      "av. profit boost: 0.22074449714738797\n"
     ]
    },
    {
     "name": "stderr",
     "output_type": "stream",
     "text": [
      "/tmp/ipykernel_67517/2836750767.py:84: RuntimeWarning: invalid value encountered in divide\n",
      "  print((pprofs_mean - gprofs_mean)/abs(gprofs_mean))\n"
     ]
    },
    {
     "data": {
      "text/plain": [
       "[<matplotlib.lines.Line2D at 0x7fb6158b0610>]"
      ]
     },
     "execution_count": 77,
     "metadata": {},
     "output_type": "execute_result"
    },
    {
     "data": {
      "image/png": "[encoded data removed]",
      "text/plain": [
       "<Figure size 2000x300 with 2 Axes>"
      ]
     },
     "metadata": {},
     "output_type": "display_data"
    }
   ],
   "source": [
    "nitrers = 10\n",
    "test_split = 0.25\n",
    "id2tf = {v:k for k, v in tfdict.items()}\n",
    "\n",
    "pprofits, gprofits, metrics = np.zeros((3, nitrers)), np.zeros((3, nitrers)), np.zeros((2, nitrers))\n",
    "for i in range(nitrers):\n",
    "    ids = np.arange(X.shape[0])\n",
    "    # np.random.shuffle(ids)\n",
    "    test_size = int(X.shape[0]*test_split)\n",
    "    ids_test, odates_testset, odates = [], set(), X[:, -2]\n",
    "    while len(ids_test) < test_size:\n",
    "        ix = np.random.randint(0, X.shape[0])\n",
    "        d = odates[ix]\n",
    "        if d not in odates_testset:\n",
    "            ii = ids[odates == d]\n",
    "            ids_test += ii.tolist()\n",
    "            odates_testset.add(d)\n",
    "    ids_train = [ix for ix in ids if ix not in ids_test]   \n",
    "    np.random.shuffle(ids_train) \n",
    "    np.random.shuffle(ids_test) \n",
    "        \n",
    "    # ids_test, ids_train = ids[:test_size], ids[test_size:]\n",
    "    X_train, X_test, y_train, y_test, profs_test = X[ids_train], X[ids_test], y[ids_train], y[ids_test], y[ids_test]\n",
    "    tf_test = X_test[:, -1]\n",
    "    X_train = X_train[:, :-2]\n",
    "    X_test = X_test[:, :-2]\n",
    "\n",
    "    # profs_test = y_test\n",
    "    # profs_train = y_train\n",
    "    # y_train = (y_train > 0).astype(int)\n",
    "    # y_test = (y_test > 0).astype(int)\n",
    "\n",
    "    # scaler = StandardScaler() \n",
    "    # scaler.fit(X_train) \n",
    "    # X_train = scaler.transform(X_train) \n",
    "    # X_test = scaler.transform(X_test) \n",
    "    \n",
    "    # for _ in range(2):\n",
    "    #     y_add = y_train + (np.random.random(y_train.shape)-0.5)*0.1\n",
    "    #     X_train = np.vstack([X_train, X_train])\n",
    "    #     y_train = np.hstack([y_train, y_add])\n",
    "    \n",
    "    print(X_train.shape[0], X_test.shape[0])\n",
    "    # evals_result = {}\n",
    "    # model = lgb.train(params=dict(objective=\"binary\", \n",
    "    #                             # metric=\"auc\",\n",
    "    #                             # num_leaves=2, \n",
    "    #                             max_depth=3,\n",
    "    #                             verbose=-1), \n",
    "    #                   train_set=lgb.Dataset(X_train, label=y_train),\n",
    "    #                   valid_sets=[lgb.Dataset(X_test, label=y_test)],\n",
    "    #                   num_boost_round=500,\n",
    "    #                   feval=lgb_f1_score,\n",
    "    #                   # evals_result=evals_result,\n",
    "    #                   # verbose_eval=False,\n",
    "    #                   callbacks=[log_evaluation(-1)]\n",
    "    #                   )\n",
    "    # lgb.plot_metric(evals_result, metric='f1')\n",
    "\n",
    "    model = RandomForestRegressor(max_depth=3, n_estimators=300, min_samples_leaf=30, n_jobs=-1)\n",
    "    model.fit(X_train, y_train)\n",
    "    threshold = -0.1\n",
    "    if len(X_train):\n",
    "        # p_train = model.predict(X_train)\n",
    "        p_train = model.predict(X_train)\n",
    "        # threshold = np.percentile(p_train, 10)\n",
    "        metrics[0, i] = mean_absolute_error(p_train, y_train)\n",
    "    # p_test = model.predict(X_test)\n",
    "    p_test = model.predict(X_test)\n",
    "    metrics[1, i] = mean_absolute_error(p_test, y_test)\n",
    "\n",
    "    for j in range(3):\n",
    "        ids = tf_test == j\n",
    "        pprofits[j, i] = (profs_test[ids]*(p_test[ids]>threshold)).sum()\n",
    "        gprofits[j, i] = profs_test[ids].sum()\n",
    "        print(f\"{i:03} profit {id2tf[j]:3}:{gprofits[j, i]:+7.1f} -> {pprofits[j, i]:+7.1f} {'OK' if pprofits[j, i] > gprofits[j, i] else '--'}\")\n",
    "    print(f\"{i:03} mae_train: {metrics[0, i]:4.2f} mae_test: {metrics[1, i]:4.2f}\")\n",
    "    \n",
    "pprofs_mean = pprofits.mean(1)\n",
    "gprofs_mean = gprofits.mean(1)\n",
    "f1_mean = metrics.mean(1)\n",
    "\n",
    "print(gprofs_mean, \" -> \", pprofs_mean)\n",
    "print((pprofs_mean - gprofs_mean)/abs(gprofs_mean))\n",
    "print(f\"mae_train: {f1_mean[0]:4.2f} mae_test: {f1_mean[1]:4.2f} ration: {f1_mean[1]/f1_mean[0]:4.2f}\")\n",
    "print(f\"av. profit boost: {(pprofits.mean() - gprofits.mean())/gprofits.mean()}\")\n",
    "\n",
    "plt.figure(figsize=(20, 3))\n",
    "plt.subplot(1, 2, 1)\n",
    "plt.plot(p_train[:100], \".\")\n",
    "plt.bar(np.arange(100), y_train[:100], width=[1]*100, alpha=0.4)\n",
    "plt.plot([0, 100], [threshold, threshold])\n",
    "plt.subplot(1, 2, 2)\n",
    "plt.plot(p_test[:100], \".\")\n",
    "plt.bar(np.arange(100), y_test[:100], width=[1]*100, alpha=0.4)\n",
    "plt.plot([0, 100], [threshold, threshold])"
   ]
  },
  {
   "cell_type": "code",
   "execution_count": 42,
   "metadata": {},
   "outputs": [
    {
     "name": "stdout",
     "output_type": "stream",
     "text": [
      "009 profit M5 :   +0.0 ->    +0.0 --\n",
      "009 profit M15:   +0.0 ->    +0.0 --\n",
      "009 profit H1 : +894.3 ->  +934.4 OK\n",
      "[   0.            0.         1690.30214464]  ->  [   0.            0.         1832.42073071]\n",
      "[       nan        nan 0.08407881]\n",
      "av. profit boost: 0.08407880598315795\n"
     ]
    },
    {
     "name": "stderr",
     "output_type": "stream",
     "text": [
      "/tmp/ipykernel_67517/1576227013.py:12: RuntimeWarning: invalid value encountered in divide\n",
      "  print((pprofs_mean - gprofs_mean)/abs(gprofs_mean))\n"
     ]
    },
    {
     "data": {
      "text/plain": [
       "[<matplotlib.lines.Line2D at 0x7fb69cbf80d0>]"
      ]
     },
     "execution_count": 42,
     "metadata": {},
     "output_type": "execute_result"
    },
    {
     "data": {
      "image/png": "[encoded data removed]",
      "text/plain": [
       "<Figure size 2000x300 with 2 Axes>"
      ]
     },
     "metadata": {},
     "output_type": "display_data"
    }
   ],
   "source": [
    "threshold = -0.2\n",
    "for j in range(3):\n",
    "    ids = tf_test == j\n",
    "    pprofits[j, i] = (profs_test[ids]*(p_test[ids]>threshold)).sum()\n",
    "    gprofits[j, i] = profs_test[ids].sum()\n",
    "    print(f\"{i:03} profit {id2tf[j]:3}:{gprofits[j, i]:+7.1f} -> {pprofits[j, i]:+7.1f} {'OK' if pprofits[j, i] > gprofits[j, i] else '--'}\")\n",
    "    \n",
    "pprofs_mean = pprofits.mean(1)\n",
    "gprofs_mean = gprofits.mean(1)\n",
    "\n",
    "print(gprofs_mean, \" -> \", pprofs_mean)\n",
    "print((pprofs_mean - gprofs_mean)/abs(gprofs_mean))\n",
    "print(f\"av. profit boost: {(pprofits.mean() - gprofits.mean())/gprofits.mean()}\")\n",
    "\n",
    "plt.figure(figsize=(20, 3))\n",
    "plt.subplot(1, 2, 1)\n",
    "plt.plot(p_train[:100], \".\")\n",
    "plt.bar(np.arange(100), y_train[:100], width=[1]*100, alpha=0.4)\n",
    "plt.plot([0, 100], [threshold, threshold])\n",
    "plt.subplot(1, 2, 2)\n",
    "plt.plot(p_test[:100], \".\")\n",
    "plt.bar(np.arange(100), y_test[:100], width=[1]*100, alpha=0.4)\n",
    "plt.plot([0, 100], [threshold, threshold])"
   ]
  },
  {
   "cell_type": "code",
   "execution_count": 33,
   "metadata": {},
   "outputs": [
    {
     "data": {
      "text/plain": [
       "{1, 2, 4}"
      ]
     },
     "execution_count": 33,
     "metadata": {},
     "output_type": "execute_result"
    }
   ],
   "source": [
    "set(X_train[:, -1].astype(int)).intersection(set(X_test[:, -1].astype(int)))"
   ]
  },
  {
   "cell_type": "code",
   "execution_count": 43,
   "metadata": {},
   "outputs": [
    {
     "name": "stdout",
     "output_type": "stream",
     "text": [
      "0.0074 0.0004 0.0014 0.0009 0.0022 0.0258 0.0007 0.0042 0.0000 0.0000 0.0006 0.0051 0.0244 0.0123 0.0029 0.0005 0.0009 0.0000 0.0019 0.0038 0.0001 0.0000 0.0027 0.0003 0.0008 0.0059 0.0047 0.0146 0.0227 0.0058 0.0061 0.0192 0.0102 0.0252 0.0218 0.1189 0.0129 0.0390 0.0000 0.0092 0.0094 0.1496 0.0610 0.0001 0.0300 0.0015 0.0039 0.0096 0.0095 0.0869 0.0426 0.0008 0.0080 0.0287 0.0008 0.0006 0.0173 0.0058 0.0686 0.0197 0.0011 0.0028 0.0016 0.0018 0.0010 0.0024 0.0009 0.0016 0.0014 0.0017 0.0011 0.0079 0.0011 0.0000 0.0024 0.0010 0.0000\n"
     ]
    }
   ],
   "source": [
    "print(\" \".join(map(\"{:6.4f}\".format, model.feature_importances_)))"
   ]
  },
  {
   "cell_type": "code",
   "execution_count": 391,
   "metadata": {},
   "outputs": [
    {
     "data": {
      "text/plain": [
       "(1112, 3653, 3682, 3682)"
      ]
     },
     "execution_count": 391,
     "metadata": {},
     "output_type": "execute_result"
    }
   ],
   "source": [
    "y_test.sum(), (p_test>threshold).sum(), p_test.shape[0], y_test.shape[0]"
   ]
  },
  {
   "cell_type": "code",
   "execution_count": null,
   "metadata": {},
   "outputs": [],
   "source": [
    "import mplfinance as mpf\n",
    "\n",
    "ticker = \"GAZP\"\n",
    "tf = \"H1\"\n",
    "hist_pd, hist = DataParser(\n",
    "    EasyDict(\n",
    "        date_start=\"2008-01-01\",\n",
    "        period=tf,\n",
    "        ticker=ticker,\n",
    "        data_type=\"metatrader\"\n",
    "        )).load()\n",
    "\n",
    "for i in ids_test:\n",
    "    pos = poslist[i]\n",
    "    if pos.ticker == ticker:\n",
    "        prediction = model.predict_proba([X[i, :-1]])[0][1]\n",
    "        if prediction < threshold:\n",
    "            print(pos.ticker, pos.open_date, prediction)\n",
    "            d2 = pd.to_datetime(pos.close_date)\n",
    "            d1 = pd.to_datetime(pos.open_date)\n",
    "            d0 = d1 - pd.DateOffset(days=3)\n",
    "            hist2plot = hist_pd.loc[d0:d2]\n",
    "            fig = mpf.plot(hist2plot, \n",
    "                type='candle', \n",
    "                block=False)"
   ]
  },
  {
   "cell_type": "code",
   "execution_count": 47,
   "metadata": {},
   "outputs": [
    {
     "data": {
      "text/plain": [
       "array([[0.49287947, 0.50712053]])"
      ]
     },
     "execution_count": 47,
     "metadata": {},
     "output_type": "execute_result"
    }
   ],
   "source": [
    "prediction"
   ]
  }
 ],
 "metadata": {
  "kernelspec": {
   "display_name": "Python 3.10.11 ('base')",
   "language": "python",
   "name": "python3"
  },
  "language_info": {
   "codemirror_mode": {
    "name": "ipython",
    "version": 3
   },
   "file_extension": ".py",
   "mimetype": "text/x-python",
   "name": "python",
   "nbconvert_exporter": "python",
   "pygments_lexer": "ipython3",
   "version": "3.11.5"
  },
  "orig_nbformat": 4,
  "vscode": {
   "interpreter": {
    "hash": "fee188bb3a88b2f91c21b23bf544ec11647f6207f57c38bc925e29c2adb397fe"
   }
  }
 },
 "nbformat": 4,
 "nbformat_minor": 2
}
