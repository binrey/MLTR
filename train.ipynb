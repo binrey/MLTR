{
 "cells": [
  {
   "cell_type": "code",
   "execution_count": 1,
   "metadata": {},
   "outputs": [
    {
     "name": "stdout",
     "output_type": "stream",
     "text": [
      "32\n"
     ]
    }
   ],
   "source": [
    "import pickle\n",
    "from pathlib import Path\n",
    "from easydict import EasyDict\n",
    "import pandas as pd\n",
    "from matplotlib import pyplot as plt\n",
    "from ml import train\n",
    "from dataloading import get_data, build_features\n",
    "from tabulate import tabulate\n",
    "from IPython.display import clear_output\n",
    "\n",
    "%load_ext autoreload\n",
    "%autoreload 2\n",
    "import warnings\n",
    "warnings.filterwarnings('ignore')\n",
    "\n",
    "\n",
    "pd.set_option('display.max_rows', 500)\n",
    "pd.set_option('display.max_columns', 500)\n",
    "pd.set_option('display.width', 1000)\n",
    "\n",
    "cfgs, btests = [], []\n",
    "for p in sorted(Path(\"optimization\").glob(\"*.pickle\")):\n",
    "    cfg, btest = pickle.load(open(p, \"rb\"))\n",
    "    cfgs.append(cfg)\n",
    "    btests.append(btest)\n",
    "print(len(btests))"
   ]
  },
  {
   "cell_type": "code",
   "execution_count": 2,
   "metadata": {},
   "outputs": [
    {
     "name": "stdout",
     "output_type": "stream",
     "text": [
      "(10343, 1, 9, 64) (10343,)\n",
      "20180600 -> 20201230\n"
     ]
    }
   ],
   "source": [
    "from backtest import DataParser, MovingWindow\n",
    "import numpy as np\n",
    "\n",
    "\n",
    "fsize = 64\n",
    "tfdict = {\"M5\":0, \"M15\":1, \"H1\":2}\n",
    "X, y, poslist = [], [], []\n",
    "for btest in btests:\n",
    "    # print(btest.cfg.ticker, end=\" \")\n",
    "    hist_pd, hist = DataParser(btest.cfg).load()\n",
    "    mw = MovingWindow(hist, fsize+2)\n",
    "    # print(len(btest.positions))\n",
    "    for pos in btest.positions[4:]:\n",
    "        f, _ = mw(pos.open_indx)\n",
    "        x = build_features(f, \n",
    "                           pos.dir, \n",
    "                           btest.cfg.stops_processor.func.cfg.sl, \n",
    "                           btest.cfg.trailing_stop_rate,\n",
    "                           pos.open_date, \n",
    "                           tfdict[btest.cfg.period])\n",
    "        X.append([x])\n",
    "        y.append(pos.profit)\n",
    "        poslist.append(pos)\n",
    "        \n",
    "X, y = np.array(X, dtype=np.float32), np.array(y, dtype=np.float32)\n",
    "print(X.shape, y.shape)\n",
    "print(f\"{X[0, 0, -2, 0]:8.0f} -> {X[-1, 0, -2, 0]:8.0f}\")"
   ]
  },
  {
   "cell_type": "code",
   "execution_count": 46,
   "metadata": {},
   "outputs": [],
   "source": [
    "def smooth_bin_labels(y, dp=0.3):\n",
    "    y = y.astype(float)\n",
    "    d = np.random.uniform(0, dp, sum(y[:, 0]==0))\n",
    "    y[y[:, 0]==0, 0] = d\n",
    "    y[y[:, 1]==1, 1] = 1-d\n",
    "    return y\n",
    "\n",
    "def smooth_prob_labels(y, dp=0.1):\n",
    "    y = y.astype(float)\n",
    "    d = np.random.uniform(-dp, dp, sum(y[:, 0]==0))\n",
    "    y += dp\n",
    "    return y\n",
    "\n",
    "def stohastic_prediction(input_tensor):\n",
    "    pmeans, pstds, ymeans = np.zeros((3, input_tensor.shape[0]))\n",
    "    for i, x in enumerate(input_tensor):\n",
    "        p = model(torch.stack([x]*100)).detach().cpu().numpy()[:, 0]\n",
    "        pmeans[i] = p.mean()\n",
    "        pstds[i] = p.std()\n",
    "    return pmeans, pstds\n",
    "\n",
    "def calc_weights(predicts, th):\n",
    "    p = (predicts > th).astype(np.float32)\n",
    "    return p\n",
    "    #return np.clip((predicts+th)**30, 0, 1)"
   ]
  },
  {
   "cell_type": "code",
   "execution_count": 48,
   "metadata": {},
   "outputs": [
    {
     "name": "stdout",
     "output_type": "stream",
     "text": [
      "  iter       prof      gprof       pboost    pboost mean    pboost median    pboost std    model_fails, %    threshold\n",
      "------  ---------  ---------  -----------  -------------  ---------------  ------------  ----------------  -----------\n",
      "     0   593.932    559.263      6.19898         6.19898          6.19898         0              100             0.45\n",
      "     1   160.876     20.3442   690.771         348.485          348.485         342.286          100             0.5\n",
      "     2   217.196    158.798     36.7747        244.581           36.7747        315.75           100             0.425\n",
      "     3   151.963     80.0856    89.7505        205.874           63.2626        281.547          100             0.45\n",
      "     4   492.236    398.974     23.3755        169.374           36.7747        262.19           100             0.475\n",
      "     5   377.842    273.526     38.1374        147.501           37.4561        244.292          100             0.425\n",
      "     6   641.207    699.951     -8.39253       125.231           36.7747        232.656           85.7143        0.45\n",
      "     7   766.973    562.913     36.2508        114.108           36.5128        219.61            87.5           0.425\n",
      "     8   339.296    262.755     29.1304        104.666           36.2508        208.766           88.8889        0.45\n",
      "     9   379.651    331.752     14.4383         95.6435          32.6906        199.894           90             0.35\n",
      "    10   543.747    565.663     -3.87427        86.5964          29.1304        192.727           81.8182        0.475\n",
      "    11   294.048    144.389    103.65           88.0175          32.6906        184.582           83.3333        0.425\n",
      "    12   390.069    308.267     26.5363         83.2882          29.1304        178.096           84.6154        0.5\n",
      "    13   804.807    785.604      2.44426        77.5136          27.8333        172.876           85.7143        0.4\n",
      "    14   632.113    493.923     27.978          74.2112          27.978         167.47            86.6667        0.475\n",
      "    15    50.8061    88.2983   -42.4609         66.9192          27.2571        164.593           81.25          0.45\n",
      "    16   470.355    338.2       39.0759         65.2814          27.978         159.813           82.3529        0.475\n",
      "    17   395.59     373.817      5.82443        61.9782          27.2571        155.907           83.3333        0.425\n",
      "    18   160.381     11.639   1277.96          125.977           27.978         311.052           84.2105        0.45\n",
      "    19   571.631    488.995     16.8991        120.523           27.2571        304.107           85             0.425\n",
      "    20   741.572    616.124     20.3608        115.754           26.5363        297.544           85.7143        0.45\n",
      "    21   230.129    171.663     34.0587        112.04            27.2571        291.2             86.3636        0.475\n",
      "    22   221.766    192.728     15.0672        107.824           26.5363        285.485           86.9565        0.4\n",
      "    23   596.042    515.228     15.685         103.985           24.9559        280.08            87.5           0.425\n",
      "    24   337.153    260.336     29.5068        101.006           26.5363        274.809           88             0.475\n",
      "    25   632.729    646.024     -2.05796        97.0419          24.9559        270.201           84.6154        0.475\n",
      "    26  1066.84    1047.53       1.84294        93.516           23.3755        265.758           85.1852        0.4\n",
      "    27   238.674    189.523     25.9338         91.1024          24.6546        261.271           85.7143        0.475\n",
      "    28   668.052    505.574     32.1373         89.0691          25.9338        256.952           86.2069        0.5\n",
      "    29   599.541    459.973     30.3428         87.1116          26.235         252.853           86.6667        0.475\n",
      "    30   557.83     427.756     30.4085         85.2824          26.5363        248.943           87.0968        0.45\n",
      "    31   326.719    236.405     38.2033         83.8112          27.2571        245.159           87.5           0.45\n",
      "    32   948.865    833.854     13.7926         81.6894          26.5363        241.714           87.8788        0.45\n",
      "    33   322.067    332.634     -3.17705        79.1934          26.235         238.565           85.2941        0.425\n",
      "    34   255.799    190.675     34.1542         77.9065          26.5363        235.251           85.7143        0.45\n",
      "    35   600.767    549.368      9.35588        76.0023          26.235         232.234           86.1111        0.425\n",
      "    36   507.719    426.004     19.1818         74.4666          25.9338        229.26            86.4865        0.475\n",
      "    37   214.505    148.469     44.4783         73.6775          26.235         226.274           86.8421        0.5\n",
      "    38   468.817    354.668     32.185          72.6136          26.5363        223.451           87.1795        0.475\n",
      "    39   181.461     29.7597   509.753          83.5421          27.2571        230.954           87.5           0.475\n",
      "    40    87.471     74.7186    17.0673         81.9207          26.5363        228.35            87.8049        0.45\n",
      "    41   220.344     95.9018   129.76           83.0598          27.2571        225.733           88.0952        0.425\n",
      "    42   111.406     45.6466   144.061          84.4784          27.978         223.283           88.3721        0.475\n",
      "    43   369.088    350.774      5.22081        82.6771          27.2571        221.047           88.6364        0.45\n",
      "    44   627.825    729.542    -13.9426         80.53            26.5363        219.04            86.6667        0.475\n",
      "    45   164.871     49.1105   235.714          83.9036          27.2571        217.825           86.9565        0.45\n",
      "    46    86.6166    14.2563   507.568          92.9177          27.978         224               87.234         0.475\n",
      "    47   826.65     721.787     14.5283         91.2846          27.2571        221.937           87.5           0.45\n",
      "    48   459.675    461.19      -0.328527       89.4149          26.5363        220.042           85.7143        0.5\n",
      "    49    41.7777   -52.9739   178.865          91.2039          27.2571        218.19            86             0.425\n",
      "    50   243.828     86.8439   180.766          92.96            27.978         216.397           86.2745        0.475\n",
      "    51   245.066    189.289     29.4662         91.739           28.5542        214.484           86.5385        0.425\n",
      "    52   357.454    235.25      51.9466         90.9882          29.1304        212.519           86.7925        0.425\n",
      "    53   878.632    772.81      13.6932         89.5568          28.5542        210.8             87.037         0.5\n",
      "    54   631.941    606.166      4.25206        88.0058          27.978         209.186           87.2727        0.425\n",
      "    55  -152.993   -259.08      40.9478         87.1655          28.5542        207.403           87.5           0.4\n",
      "    56   419.867    347.312     20.8905         86.0028          27.978         205.76            87.7193        0.45\n",
      "    57   785.806    690.178     13.8557         84.7589          27.2571        204.195           87.931         0.45\n",
      "    58   395.565    989.531    -60.0249         82.3049          26.5363        203.317           86.4407        0.525\n",
      "    59   307.922    509.282    -39.538          80.2742          26.235         202.218           85             0.45\n",
      "    60   670.078    675.438     -0.79355        78.9452          25.9338        200.818           83.6066        0.4\n",
      "    61   181.046    103.2       75.4321         78.8885          26.235         199.193           83.871         0.425\n",
      "    62   556.815    405.017     37.4795         78.2313          26.5363        197.673           84.127         0.5\n",
      "    63   590.44     577.912      2.16775        77.0428          26.235         196.349           84.375         0.5\n",
      "    64  1173.27    1117.67       4.97414        75.934           25.9338        195.035           84.6154        0.45\n",
      "    65    85.664     87.7468    -2.37358        74.7475          24.6546        193.788           83.3333        0.4\n",
      "    66  -107.903   -178.716     39.6231         74.2233          25.9338        192.384           83.5821        0.4\n",
      "    67   338.344    339.553     -0.355998       73.1265          24.6546        191.175           82.3529        0.45\n",
      "    68   598.058    546.768      9.38059        72.2027          23.3755        189.937           82.6087        0.475\n",
      "    69   678.908    555.57      22.2002         71.4884          22.7879        188.669           82.8571        0.475\n",
      "    70   423.55     311.946     35.7769         70.9854          23.3755        187.383           83.0986        0.475\n",
      "    71   510.086    523.627     -2.58589        69.9636          22.7879        186.276           81.9444        0.5\n",
      "    72   189.455     81.5075   132.439          70.8194          23.3755        185.138           82.1918        0.425\n",
      "    73   650.341    641.104      1.44084        69.8818          22.7879        184.057           82.4324        0.475\n",
      "    74   264.355    110.938    138.291          70.794           23.3755        182.995           82.6667        0.475\n",
      "    75   539.104    528.315      2.04219        69.8893          22.7879        181.955           82.8947        0.45\n",
      "    76   -11.032     -2.2043  -400.474          63.7807          22.2002        188.451           81.8182        0.375\n",
      "    77   519.984    391.678     32.7579         63.383           22.7879        187.272           82.0513        0.45\n",
      "    78   358.94     534.81     -32.8846         62.1644          22.2002        186.393           81.0127        0.475\n",
      "    79   546.139    421.267     29.6419         61.7579          22.7879        185.26            81.25          0.45\n",
      "    80   518.664    414.949     24.9945         61.304           23.3755        184.158           81.4815        0.45\n",
      "    81   377.904    309.812     21.9787         60.8244          22.7879        183.082           81.7073        0.45\n",
      "    82   717.124    626.93      14.3867         60.2649          22.2002        182.046           81.9277        0.45\n",
      "    83   491.21     389.527     26.104          59.8583          22.7879        180.998           82.1429        0.45\n",
      "    84   307.016    311.075     -1.30469        59.1387          22.2002        180.051           81.1765        0.45\n",
      "    85   589.002    522.936     12.6337         58.598           22.0894        179.07            81.3953        0.475\n",
      "    86   616.248    551.279     11.7851         58.0599          21.9787        178.108           81.6092        0.425\n",
      "    87   662.425    655.895      0.99559        57.4114          21.4346        177.196           81.8182        0.475\n",
      "    88   757.816    742.222      2.10087        56.7899          20.8905        176.294           82.0225        0.45\n",
      "    89   655.836    728.718    -10.0015         56.0478          20.6256        175.452           81.1111        0.45\n",
      "    90   207.461     94.2301   120.164          56.7524          20.8905        174.613           81.3187        0.45\n",
      "    91   272.397    130.04     109.472          57.3254          21.4346        173.748           81.5217        0.45\n",
      "    92   227.043     41.1702   451.475          61.5636          21.9787        177.528           81.7204        0.45\n"
     ]
    }
   ],
   "source": [
    "from sklearn.metrics import f1_score\n",
    "import torch\n",
    "device = \"mps\"\n",
    "\n",
    "nitrers = 100\n",
    "test_split_size = 0.2\n",
    "calc_test = False\n",
    "id2tf = {v:k for k, v in tfdict.items()}\n",
    "\n",
    "pprofits, gprofits, metrics, table = np.zeros((3, nitrers)), np.zeros((3, nitrers)), np.zeros((2, nitrers)), []\n",
    "for i in range(nitrers):\n",
    "    if i >= 0:\n",
    "        np.random.seed(i)\n",
    "        X_train, X_test, y_train, y_test, profs_train, profs_test, tf_test = get_data(X, y, test_split_size)\n",
    "    X_train = torch.tensor(X_train).float().to(device)\n",
    "    X_test = torch.tensor(X_test).float().to(device)\n",
    "    model = train(X_train, y_train, X_test, y_test, batch_size=512, device=device, calc_test=calc_test)\n",
    "    model.eval()\n",
    "    p_test = model(X_test).detach().cpu().numpy().squeeze()[:, 0]\n",
    "    p_train = model(X_train).detach().cpu().numpy().squeeze()[:, 0]    \n",
    "    # for m in range(9):\n",
    "    #     np.random.seed(i+10)\n",
    "    #     model = train(X_train, y_train, X_test, smooth_prob_labels(y_test), batch_size=256, device=device, calc_test=False)\n",
    "    #     model.eval()\n",
    "    #     p_test_ = model(X_test).detach().cpu().numpy().squeeze()[:, 0]\n",
    "    #     p_train_ = model(X_train[:y_test.shape[0]]).detach().cpu().numpy().squeeze()[:, 0] \n",
    "    #     p_test = (p_test + p_test_)/2\n",
    "    #     p_train = (p_train + p_train_)/2\n",
    "        \n",
    "    profsum_best, threshold = -999999, np.percentile(p_train, 20)\n",
    "    for th in np.arange(0., 0.9, 0.025):\n",
    "        w_profs_train = calc_weights(p_train, th)\n",
    "        profsum = (profs_train*w_profs_train).sum()\n",
    "        if profsum > profsum_best:\n",
    "            profsum_best = profsum\n",
    "            threshold = th\n",
    "\n",
    "    w_profs_train = calc_weights(p_train, threshold)\n",
    "    # metrics[0, i] = f1_score(p_train>0.5, y_train[:, 0]>0.5)\n",
    "    # print(f\"{i:03} f1_train: {metrics[0, i]:5.3f}\", end=\" \")\n",
    "    \n",
    "    if test_split_size > 0:\n",
    "        # metrics[1, i] = f1_score(p_test>0.5, y_test[:, 0]>0.5)\n",
    "        # print(f\"f1_test: {metrics[1, i]:5.3f}\")\n",
    "        w_profs_test = calc_weights(p_test, threshold)\n",
    "        for j in range(3):\n",
    "            ids = tf_test == j\n",
    "            pprofits[j, i] = (profs_test[ids]*w_profs_test[ids]).sum()\n",
    "            gprofits[j, i] = profs_test[ids].sum()\n",
    "            # print(f\"{i:03} profit {id2tf[j]:3}:{gprofits[j, i]:+7.1f} -> {pprofits[j, i]:+7.1f} {'OK' if pprofits[j, i] > gprofits[j, i] else '--'}\")\n",
    "        \n",
    "        profs_ratio = (pprofits[:, :i+1] - gprofits[:, :i+1])/abs(gprofits[:, :i+1])*100\n",
    "        curprof_ratio = (pprofits[:, i] - gprofits[:, i])/abs(gprofits[:, i])*100\n",
    "        model_fails = np.nansum(profs_ratio < 0)/(i+1)\n",
    "        prof_boost_mean = np.nanmean(profs_ratio)\n",
    "        prof_boost_median = np.nanmedian(profs_ratio)\n",
    "        prof_boost_std = np.nanstd(profs_ratio)\n",
    "        clear_output(wait=True)\n",
    "        table.append([i, np.nanmean(pprofits[:, i]), np.nanmean(gprofits[:, i]), np.nanmean(curprof_ratio), \n",
    "                      prof_boost_mean, prof_boost_median, prof_boost_std, model_fails*100, threshold])\n",
    "        print(tabulate(table, headers=[\"iter\", \"prof\", \"gprof\", \"pboost\", \"pboost mean\", \"pboost median\", \"pboost std\", \"model_fails, %\", \"threshold\"]))\n",
    "        \n",
    "        # print(f\"profit boost mean: {prof_boost_mean}\")\n",
    "        # print(f\"profit boost median: {prof_boost_median}\")        \n",
    "        # print(f\"profit boost std: {prof_boost_std}\")\n",
    "        # metrics_mean, metrics_std = metrics.mean(1, where=metrics!=0), metrics.std(1, where=metrics!=0)\n",
    "        # print(f\"metrics train/val means: {metrics_mean}, std: {metrics_std}\")\n",
    "        # print(f\"overfitting mean: {metrics_mean[0]/metrics_mean[1]}, std: {metrics_std[0]/metrics_std[1]}\\n\")\n",
    "    else:\n",
    "        print()\n",
    "plt.figure(figsize=(20, 6))\n",
    "plt.subplot(2, 2, 1)\n",
    "plt.plot(p_train[:100], \".\")\n",
    "plt.bar(np.arange(100), y_train[:100, 0], width=[1]*100, alpha=0.4)\n",
    "plt.plot([0, 100], [threshold, threshold])\n",
    "if len(p_test):\n",
    "    plt.subplot(2, 2, 2)\n",
    "    plt.plot(p_test[:100], \".\")\n",
    "    plt.bar(np.arange(100), y_test[:100, 0], width=[1]*100, alpha=0.4)\n",
    "    # plt.bar(np.arange(100), profs_test[:100], width=[1]*100, alpha=0.2)\n",
    "    plt.plot([0, 100], [threshold, threshold])\n",
    "    plt.subplot(2, 2, 3)\n",
    "    plt.plot(w_profs_train[:100])\n",
    "    plt.subplot(2, 2, 4)\n",
    "    plt.plot(w_profs_test[:100])\n",
    "    # plt.plot(profs_test[:100]*w_profs_test[:100])\n",
    "    # plt.plot(profs_test[:100], linewidth=3, alpha=0.5)  \n",
    "    \n",
    "    \n",
    "model.set_threshold(threshold)\n",
    "torch.save(model.state_dict(), \"model.pth\")"
   ]
  },
  {
   "cell_type": "code",
   "execution_count": 26,
   "metadata": {},
   "outputs": [],
   "source": [
    "w_profs_train"
   ]
  },
  {
   "cell_type": "code",
   "execution_count": null,
   "metadata": {},
   "outputs": [],
   "source": [
    "import torch\n",
    "from ml import Net\n",
    "device = \"mps\"\n",
    "model = Net(7, 64)\n",
    "model.load_state_dict(torch.load(\"model.pth\"))\n",
    "# model.eval()\n",
    "model.to(device)"
   ]
  },
  {
   "cell_type": "code",
   "execution_count": null,
   "metadata": {},
   "outputs": [],
   "source": [
    "def stohastic_prediction(input_tensor):\n",
    "    pmeans, pstds, ymeans = np.zeros((3, input_tensor.shape[0]))\n",
    "    for i, x in enumerate(input_tensor):\n",
    "        p = model(torch.stack([x]*100)).detach().cpu().numpy()[:, 0]\n",
    "        pmeans[i] = np.median(p)\n",
    "        pstds[i] = p.std()\n",
    "        ymeans[i] = (pmeans[i] > 0.48) == y_test[i, 0]\n",
    "    return pmeans, pstds, ymeans\n",
    "\n",
    "pmeans, pstds, ymeans = stohastic_prediction(torch.tensor(X_test[:100]).float().to(device))\n",
    "plt.figure(figsize=(20, 3))\n",
    "plt.subplot(1, 3, 1)\n",
    "plt.plot(pmeans, \".\")\n",
    "plt.subplot(1, 3, 2)\n",
    "plt.plot(pstds, \".\")\n",
    "plt.subplot(1, 3, 3)\n",
    "plt.plot(ymeans, \".\")"
   ]
  },
  {
   "cell_type": "code",
   "execution_count": null,
   "metadata": {},
   "outputs": [],
   "source": [
    "pprofits[2]"
   ]
  },
  {
   "cell_type": "code",
   "execution_count": null,
   "metadata": {},
   "outputs": [
    {
     "data": {
      "text/plain": [
       "1.0719981933079055"
      ]
     },
     "execution_count": 221,
     "metadata": {},
     "output_type": "execute_result"
    }
   ],
   "source": [
    "np.nanmean(pprofits[:, :i+1]/gprofits[:, :i+1])"
   ]
  },
  {
   "cell_type": "code",
   "execution_count": null,
   "metadata": {},
   "outputs": [
    {
     "data": {
      "text/plain": [
       "array([       nan,        nan, 1.17894395])"
      ]
     },
     "execution_count": 196,
     "metadata": {},
     "output_type": "execute_result"
    }
   ],
   "source": [
    "np.median((pprofits[:, :i]/gprofits[:, :i]), axis=1)"
   ]
  },
  {
   "cell_type": "code",
   "execution_count": null,
   "metadata": {},
   "outputs": [
    {
     "data": {
      "text/plain": [
       "[<matplotlib.lines.Line2D at 0x3f1c0d960>]"
      ]
     },
     "execution_count": 251,
     "metadata": {},
     "output_type": "execute_result"
    },
    {
     "data": {
      "image/png": "[encoded data removed]",
      "text/plain": [
       "<Figure size 640x480 with 1 Axes>"
      ]
     },
     "metadata": {},
     "output_type": "display_data"
    }
   ],
   "source": [
    "plt.plot(pprofits[2]/gprofits[2])"
   ]
  },
  {
   "cell_type": "code",
   "execution_count": null,
   "metadata": {},
   "outputs": [],
   "source": [
    "p_train.mean(), threshold"
   ]
  },
  {
   "cell_type": "code",
   "execution_count": null,
   "metadata": {},
   "outputs": [],
   "source": [
    "import torch\n",
    "from ml import Net\n",
    "device = \"cuda\"\n",
    "model = Net(7, 32)\n",
    "model.load_state_dict(torch.load(\"model.pth\"))\n",
    "model.eval()\n",
    "# model.set_threshold(-6)\n",
    "model.to(device)\n",
    "X_train, X_test, y_train, y_test, profs_train, profs_test, tf_test = get_data(X, y, test_split=1)\n",
    "p_test = model(torch.tensor(X_test).float().to(device)).squeeze()\n",
    "# profs_test.sum(), (profs_test*p_test).sum()\n",
    "p_test"
   ]
  },
  {
   "cell_type": "code",
   "execution_count": null,
   "metadata": {},
   "outputs": [],
   "source": [
    "X_train.shape"
   ]
  },
  {
   "cell_type": "code",
   "execution_count": null,
   "metadata": {},
   "outputs": [],
   "source": [
    "list(model.named_parameters())[0]"
   ]
  },
  {
   "cell_type": "code",
   "execution_count": null,
   "metadata": {},
   "outputs": [],
   "source": [
    "plt.plot(model(torch.tensor(X_test).float().to(device)).squeeze().detach().cpu().numpy())"
   ]
  },
  {
   "cell_type": "code",
   "execution_count": null,
   "metadata": {},
   "outputs": [],
   "source": []
  },
  {
   "cell_type": "code",
   "execution_count": null,
   "metadata": {},
   "outputs": [],
   "source": [
    "threshold"
   ]
  },
  {
   "cell_type": "code",
   "execution_count": null,
   "metadata": {},
   "outputs": [],
   "source": [
    "y_test.sum(), (p_test>threshold).sum(), p_test.shape[0], y_test.shape[0]"
   ]
  },
  {
   "cell_type": "code",
   "execution_count": null,
   "metadata": {},
   "outputs": [],
   "source": [
    "import mplfinance as mpf\n",
    "\n",
    "ticker = \"BTCUSDT\"\n",
    "tf = \"H1\"\n",
    "hist_pd, hist = DataParser(\n",
    "    EasyDict(\n",
    "        date_start=\"2008-01-01\",\n",
    "        period=tf,\n",
    "        ticker=ticker,\n",
    "        data_type=\"bitfinex\"\n",
    "        )).load()\n",
    "\n",
    "for i in ids_test:\n",
    "    pos = poslist[i]\n",
    "    if pos.ticker == ticker:\n",
    "        prediction = model.predict_proba([X[i, :-1]])[0][1]\n",
    "        if prediction < threshold:\n",
    "            print(pos.ticker, pos.open_date, prediction)\n",
    "            d2 = pd.to_datetime(pos.close_date)\n",
    "            d1 = pd.to_datetime(pos.open_date)\n",
    "            d0 = d1 - pd.DateOffset(days=3)\n",
    "            hist2plot = hist_pd.loc[d0:d2]\n",
    "            fig = mpf.plot(hist2plot, \n",
    "                type='candle', \n",
    "                block=False)"
   ]
  },
  {
   "cell_type": "code",
   "execution_count": null,
   "metadata": {},
   "outputs": [],
   "source": [
    "prediction"
   ]
  }
 ],
 "metadata": {
  "kernelspec": {
   "display_name": "Python 3.10.11 ('base')",
   "language": "python",
   "name": "python3"
  },
  "language_info": {
   "codemirror_mode": {
    "name": "ipython",
    "version": 3
   },
   "file_extension": ".py",
   "mimetype": "text/x-python",
   "name": "python",
   "nbconvert_exporter": "python",
   "pygments_lexer": "ipython3",
   "version": "3.11.5"
  },
  "orig_nbformat": 4,
  "vscode": {
   "interpreter": {
    "hash": "fee188bb3a88b2f91c21b23bf544ec11647f6207f57c38bc925e29c2adb397fe"
   }
  }
 },
 "nbformat": 4,
 "nbformat_minor": 2
}
