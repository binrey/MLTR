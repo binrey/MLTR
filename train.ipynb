{
 "cells": [
  {
   "cell_type": "code",
   "execution_count": 3,
   "metadata": {},
   "outputs": [
    {
     "name": "stdout",
     "output_type": "stream",
     "text": [
      "The autoreload extension is already loaded. To reload it, use:\n",
      "  %reload_ext autoreload\n"
     ]
    }
   ],
   "source": [
    "import pickle\n",
    "from pathlib import Path\n",
    "from easydict import EasyDict\n",
    "import pandas as pd\n",
    "from matplotlib import pyplot as plt\n",
    "from ml import train\n",
    "from dataloading import get_data, build_features, DataParser, MovingWindow\n",
    "from tabulate import tabulate\n",
    "from IPython.display import clear_output\n",
    "import numpy as np\n",
    "from sklearn.metrics import roc_auc_score, f1_score\n",
    "\n",
    "%load_ext autoreload\n",
    "%autoreload 2\n",
    "import warnings\n",
    "warnings.filterwarnings('ignore')\n",
    "\n",
    "\n",
    "pd.set_option('display.max_rows', 500)\n",
    "pd.set_option('display.max_columns', 500)\n",
    "pd.set_option('display.width', 1000)"
   ]
  },
  {
   "cell_type": "code",
   "execution_count": 4,
   "metadata": {},
   "outputs": [
    {
     "name": "stdout",
     "output_type": "stream",
     "text": [
      "(74, 1, 5, 64) (74, 2)\n",
      "     119 ->      166\n"
     ]
    }
   ],
   "source": [
    "from utils import Position, Broker\n",
    "from experts import PyConfig\n",
    "\n",
    "\n",
    "cfg = cfg = PyConfig().test()\n",
    "X, y = [], []\n",
    "fsize=64\n",
    "lab = \"false\"\n",
    "def load(lab):\n",
    "    dir = Path(f\"data/231220-data/{lab}/\")\n",
    "    hist_pd, hist = DataParser(cfg).load()\n",
    "    mw = MovingWindow(hist, fsize) \n",
    "    for fname in dir.glob(\"*.xlsx\"):\n",
    "        df = pd.read_excel(fname).iloc[0]\n",
    "        f, _ = mw(df[\"Unnamed: 0\"])\n",
    "        x = build_features(f, 1, None, None, pd.to_datetime(df.Date), None)\n",
    "        X.append([x])\n",
    "        y.append({\"true\":[1, 0], \"false\":[0, 1]}[lab])\n",
    "\n",
    "load(\"false\")\n",
    "load(\"true\")\n",
    "X, y = np.array(X, dtype=np.float32), np.array(y, dtype=np.float32)\n",
    "# rand_ids = np.random.shuffle(np.arange(y.shape[0]))\n",
    "np.random.seed(0)\n",
    "np.random.shuffle(X)\n",
    "np.random.shuffle(y)\n",
    "print(X.shape, y.shape)\n",
    "print(f\"{X[0, 0, -2, 0]:8.0f} -> {X[-1, 0, -2, 0]:8.0f}\")"
   ]
  },
  {
   "cell_type": "code",
   "execution_count": 5,
   "metadata": {},
   "outputs": [],
   "source": [
    "X_train, X_test, y_train, y_test = X[:50], X[50:], y[:50], y[50:]"
   ]
  },
  {
   "cell_type": "code",
   "execution_count": 6,
   "metadata": {},
   "outputs": [
    {
     "name": "stdout",
     "output_type": "stream",
     "text": [
      "001 loss train: 2.7627 | test: 3.2788   ROC train: 0.4589 | test: 0.5035\n",
      "002 loss train: 2.6471 | test: 3.2992   ROC train: 0.7037 | test: 0.4895\n",
      "003 loss train: 2.5476 | test: 3.3030   ROC train: 0.7890 | test: 0.4895\n",
      "004 loss train: 2.5018 | test: 3.2939   ROC train: 0.7971 | test: 0.4965\n",
      "005 loss train: 2.4545 | test: 3.2761   ROC train: 0.7874 | test: 0.5175\n",
      "006 loss train: 2.4176 | test: 3.2635   ROC train: 0.7987 | test: 0.4965\n",
      "007 loss train: 2.3825 | test: 3.2588   ROC train: 0.8213 | test: 0.4895\n",
      "008 loss train: 2.3536 | test: 3.2550   ROC train: 0.8293 | test: 0.4965\n",
      "009 loss train: 2.3275 | test: 3.2495   ROC train: 0.8390 | test: 0.5105\n",
      "010 loss train: 2.2985 | test: 3.2458   ROC train: 0.8357 | test: 0.4825\n",
      "011 loss train: 2.2722 | test: 3.2471   ROC train: 0.8454 | test: 0.4755\n",
      "012 loss train: 2.2475 | test: 3.2547   ROC train: 0.8519 | test: 0.4615\n",
      "013 loss train: 2.2219 | test: 3.2685   ROC train: 0.8663 | test: 0.4476\n",
      "014 loss train: 2.1968 | test: 3.2836   ROC train: 0.8776 | test: 0.4266\n",
      "015 loss train: 2.1744 | test: 3.2973   ROC train: 0.8841 | test: 0.4406\n",
      "016 loss train: 2.1505 | test: 3.3127   ROC train: 0.8889 | test: 0.4406\n",
      "017 loss train: 2.1258 | test: 3.3298   ROC train: 0.8937 | test: 0.4476\n",
      "018 loss train: 2.1028 | test: 3.3431   ROC train: 0.9018 | test: 0.4476\n",
      "019 loss train: 2.0785 | test: 3.3530   ROC train: 0.9050 | test: 0.4476\n",
      "020 loss train: 2.0568 | test: 3.3594   ROC train: 0.9098 | test: 0.4476\n",
      "021 loss train: 2.0368 | test: 3.3660   ROC train: 0.9147 | test: 0.4406\n",
      "022 loss train: 2.0173 | test: 3.3789   ROC train: 0.9163 | test: 0.4336\n",
      "023 loss train: 1.9981 | test: 3.3908   ROC train: 0.9163 | test: 0.4336\n",
      "024 loss train: 1.9790 | test: 3.3976   ROC train: 0.9227 | test: 0.4336\n",
      "025 loss train: 1.9604 | test: 3.4058   ROC train: 0.9308 | test: 0.4196\n",
      "026 loss train: 1.9413 | test: 3.4137   ROC train: 0.9340 | test: 0.4196\n",
      "027 loss train: 1.9216 | test: 3.4200   ROC train: 0.9388 | test: 0.3986\n",
      "028 loss train: 1.9040 | test: 3.4203   ROC train: 0.9436 | test: 0.4056\n",
      "029 loss train: 1.8849 | test: 3.4251   ROC train: 0.9485 | test: 0.4126\n",
      "030 loss train: 1.8645 | test: 3.4391   ROC train: 0.9517 | test: 0.3986\n",
      "031 loss train: 1.8434 | test: 3.4385   ROC train: 0.9581 | test: 0.3986\n",
      "032 loss train: 1.8219 | test: 3.4424   ROC train: 0.9646 | test: 0.3846\n",
      "033 loss train: 1.8010 | test: 3.4564   ROC train: 0.9662 | test: 0.3776\n",
      "034 loss train: 1.7803 | test: 3.4705   ROC train: 0.9694 | test: 0.3916\n",
      "035 loss train: 1.7593 | test: 3.4795   ROC train: 0.9694 | test: 0.3776\n",
      "036 loss train: 1.7387 | test: 3.4902   ROC train: 0.9710 | test: 0.3706\n",
      "037 loss train: 1.7178 | test: 3.5151   ROC train: 0.9742 | test: 0.3636\n",
      "038 loss train: 1.6965 | test: 3.5386   ROC train: 0.9807 | test: 0.3497\n",
      "039 loss train: 1.6745 | test: 3.5586   ROC train: 0.9807 | test: 0.3427\n",
      "040 loss train: 1.6512 | test: 3.6086   ROC train: 0.9903 | test: 0.3427\n",
      "041 loss train: 1.6283 | test: 3.6125   ROC train: 0.9919 | test: 0.3147\n",
      "042 loss train: 1.6069 | test: 3.7482   ROC train: 0.9968 | test: 0.3217\n",
      "043 loss train: 1.6092 | test: 3.5690   ROC train: 0.9968 | test: 0.3007\n",
      "044 loss train: 1.6357 | test: 3.7311   ROC train: 1.0000 | test: 0.3147\n",
      "045 loss train: 1.5532 | test: 3.7799   ROC train: 1.0000 | test: 0.3077\n",
      "046 loss train: 1.5738 | test: 3.6354   ROC train: 1.0000 | test: 0.3007\n",
      "047 loss train: 1.5333 | test: 3.6189   ROC train: 1.0000 | test: 0.3147\n",
      "048 loss train: 1.5252 | test: 3.7677   ROC train: 1.0000 | test: 0.3077\n",
      "049 loss train: 1.5020 | test: 3.7834   ROC train: 1.0000 | test: 0.2937\n",
      "050 loss train: 1.4928 | test: 3.6821   ROC train: 1.0000 | test: 0.2937\n",
      "051 loss train: 1.4720 | test: 3.6834   ROC train: 1.0000 | test: 0.3007\n",
      "052 loss train: 1.4638 | test: 3.7936   ROC train: 1.0000 | test: 0.2937\n",
      "053 loss train: 1.4466 | test: 3.7981   ROC train: 1.0000 | test: 0.2937\n",
      "054 loss train: 1.4393 | test: 3.7186   ROC train: 1.0000 | test: 0.2867\n",
      "055 loss train: 1.4216 | test: 3.7000   ROC train: 1.0000 | test: 0.3077\n",
      "056 loss train: 1.4156 | test: 3.7806   ROC train: 1.0000 | test: 0.3007\n",
      "057 loss train: 1.4011 | test: 3.7904   ROC train: 1.0000 | test: 0.3007\n",
      "058 loss train: 1.3960 | test: 3.7400   ROC train: 1.0000 | test: 0.3007\n",
      "059 loss train: 1.3826 | test: 3.7413   ROC train: 1.0000 | test: 0.2937\n",
      "060 loss train: 1.3773 | test: 3.8039   ROC train: 1.0000 | test: 0.3007\n",
      "061 loss train: 1.3669 | test: 3.8175   ROC train: 1.0000 | test: 0.2727\n",
      "062 loss train: 1.3616 | test: 3.7736   ROC train: 1.0000 | test: 0.2797\n",
      "063 loss train: 1.3532 | test: 3.7538   ROC train: 1.0000 | test: 0.2867\n",
      "064 loss train: 1.3476 | test: 3.7896   ROC train: 1.0000 | test: 0.3007\n",
      "065 loss train: 1.3413 | test: 3.8070   ROC train: 1.0000 | test: 0.3007\n",
      "066 loss train: 1.3355 | test: 3.7730   ROC train: 1.0000 | test: 0.3077\n",
      "067 loss train: 1.3305 | test: 3.7543   ROC train: 1.0000 | test: 0.3007\n",
      "068 loss train: 1.3254 | test: 3.7755   ROC train: 1.0000 | test: 0.3007\n",
      "069 loss train: 1.3207 | test: 3.7996   ROC train: 1.0000 | test: 0.3007\n",
      "070 loss train: 1.3168 | test: 3.7916   ROC train: 1.0000 | test: 0.3007\n",
      "071 loss train: 1.3120 | test: 3.7766   ROC train: 1.0000 | test: 0.3077\n",
      "072 loss train: 1.3098 | test: 3.7828   ROC train: 1.0000 | test: 0.3007\n",
      "073 loss train: 1.3046 | test: 3.7968   ROC train: 1.0000 | test: 0.3007\n",
      "074 loss train: 1.3029 | test: 3.7980   ROC train: 1.0000 | test: 0.3007\n",
      "075 loss train: 1.2990 | test: 3.7906   ROC train: 1.0000 | test: 0.3007\n",
      "076 loss train: 1.2963 | test: 3.7957   ROC train: 1.0000 | test: 0.3077\n",
      "077 loss train: 1.2943 | test: 3.8122   ROC train: 1.0000 | test: 0.3007\n",
      "078 loss train: 1.2911 | test: 3.8170   ROC train: 1.0000 | test: 0.3007\n",
      "079 loss train: 1.2896 | test: 3.8059   ROC train: 1.0000 | test: 0.3007\n",
      "080 loss train: 1.2872 | test: 3.7966   ROC train: 1.0000 | test: 0.3007\n",
      "081 loss train: 1.2853 | test: 3.8023   ROC train: 1.0000 | test: 0.2937\n",
      "082 loss train: 1.2837 | test: 3.8156   ROC train: 1.0000 | test: 0.3007\n",
      "083 loss train: 1.2820 | test: 3.8167   ROC train: 1.0000 | test: 0.3007\n",
      "084 loss train: 1.2806 | test: 3.8026   ROC train: 1.0000 | test: 0.3007\n",
      "085 loss train: 1.2791 | test: 3.7923   ROC train: 1.0000 | test: 0.2937\n",
      "086 loss train: 1.2779 | test: 3.7983   ROC train: 1.0000 | test: 0.2937\n",
      "087 loss train: 1.2766 | test: 3.8137   ROC train: 1.0000 | test: 0.2937\n",
      "088 loss train: 1.2755 | test: 3.8217   ROC train: 1.0000 | test: 0.3007\n",
      "089 loss train: 1.2746 | test: 3.8149   ROC train: 1.0000 | test: 0.3147\n",
      "090 loss train: 1.2735 | test: 3.7993   ROC train: 1.0000 | test: 0.3147\n",
      "091 loss train: 1.2726 | test: 3.7906   ROC train: 1.0000 | test: 0.3147\n",
      "092 loss train: 1.2718 | test: 3.7926   ROC train: 1.0000 | test: 0.3077\n",
      "093 loss train: 1.2709 | test: 3.7977   ROC train: 1.0000 | test: 0.3077\n",
      "094 loss train: 1.2703 | test: 3.7983   ROC train: 1.0000 | test: 0.3077\n",
      "095 loss train: 1.2696 | test: 3.7935   ROC train: 1.0000 | test: 0.3077\n",
      "096 loss train: 1.2689 | test: 3.7880   ROC train: 1.0000 | test: 0.3077\n",
      "097 loss train: 1.2684 | test: 3.7878   ROC train: 1.0000 | test: 0.3147\n",
      "098 loss train: 1.2678 | test: 3.7917   ROC train: 1.0000 | test: 0.3077\n",
      "099 loss train: 1.2672 | test: 3.7945   ROC train: 1.0000 | test: 0.3077\n",
      "100 loss train: 1.2667 | test: 3.7926   ROC train: 1.0000 | test: 0.3077\n"
     ]
    },
    {
     "data": {
      "text/plain": [
       "<matplotlib.legend.Legend at 0x1795deb60>"
      ]
     },
     "execution_count": 6,
     "metadata": {},
     "output_type": "execute_result"
    },
    {
     "data": {
      "image/png": "[encoded data removed]",
      "text/plain": [
       "<Figure size 2000x600 with 2 Axes>"
      ]
     },
     "metadata": {},
     "output_type": "display_data"
    },
    {
     "data": {
      "image/png": "[encoded data removed]",
      "text/plain": [
       "<Figure size 2000x600 with 1 Axes>"
      ]
     },
     "metadata": {},
     "output_type": "display_data"
    }
   ],
   "source": [
    "import torch\n",
    "device = \"mps\"\n",
    "\n",
    "nitrers = 10\n",
    "test_split_size = 0.5\n",
    "calc_test = True\n",
    "\n",
    "pprofits, gprofits, metrics, table = np.zeros((3, nitrers)), np.zeros((3, nitrers)), np.zeros((2, nitrers)), []\n",
    "for i in range(1):#int(1/test_split_size)):\n",
    "    # X_train, X_test, y_train, y_test, profs_train, profs_test, tf_test, _ = get_data(X, y, 3, test_split_size, 0, 1)\n",
    "    X_train = torch.tensor(X_train).float().to(device)\n",
    "    X_test = torch.tensor(X_test).float().to(device)\n",
    "    model, loss_hist = train(X_train, y_train, X_test, y_test, batch_size=50, epochs=100, device=device, calc_test=calc_test)\n",
    "    model.eval()\n",
    "    p_test = model.predict(X_test)\n",
    "    p_train = model.predict(X_train)\n",
    "        \n",
    "plt.figure(figsize=(20, 6))\n",
    "plt.subplot(2, 2, 1)\n",
    "plt.plot(p_train, \".\")\n",
    "plt.bar(np.arange(p_train.shape[0]), y_train.argmax(1), width=[1]*p_train.shape[0], alpha=0.4)\n",
    "# plt.plot([0, 100], [threshold, threshold])\n",
    "if len(p_test):\n",
    "    plt.subplot(2, 2, 2)\n",
    "    plt.plot(p_test, \".\")\n",
    "    plt.bar(np.arange(p_test.shape[0]), y_test.argmax(1), width=[1]*p_test.shape[0], alpha=0.4)\n",
    "plt.figure(figsize=(20, 6))\n",
    "plt.plot(loss_hist)\n",
    "plt.legend([\"train\", \"test\"])\n",
    "# torch.save(model.state_dict(), \"model.pth\")"
   ]
  },
  {
   "cell_type": "code",
   "execution_count": null,
   "metadata": {},
   "outputs": [],
   "source": [
    "(np.eye(5)[p_train]*y_train).sum(), y_train.sum(0)"
   ]
  },
  {
   "cell_type": "code",
   "execution_count": null,
   "metadata": {},
   "outputs": [],
   "source": [
    "import sys\n",
    "from experts import ExpertFormation, PyConfig\n",
    "from backtest import backtest\n",
    "from pathlib import Path\n",
    "from dataloading import get_data, collect_train_data\n",
    "import numpy as np\n",
    "from loguru import logger\n",
    "from tqdm import tqdm\n",
    "import torch\n",
    "from ml import train\n",
    "import matplotlib.pyplot as plt\n",
    "logger.remove()\n",
    "logger.add(sys.stderr, level=\"INFO\")\n",
    "\n",
    "\n",
    "\n",
    "test_split_size = 0.2\n",
    "device = \"mps\"\n",
    "cfg = PyConfig().test()\n",
    "cfg.run_model_device = device\n",
    "\n",
    "for _ in range(5):\n",
    "    legend, last_prof = [], 0\n",
    "    for i in range(int(1/test_split_size)):\n",
    "        X_train, X_test, y_train, y_test, profs_train, profs_test, tf_test, test_dates = get_data(X, y, 1, test_split_size, i, i+1)\n",
    "        X_train = torch.tensor(X_train).float().to(device)\n",
    "        model, hist = train(X_train, y_train, None, None, batch_size=1024, epochs=10, device=device, calc_test=False)\n",
    "        model.eval()\n",
    "        # X_train = X_train.float().to(device)\n",
    "        # p_train = model(X_train).detach().cpu().numpy().squeeze()[:, 0]    \n",
    "        # profsum_best, threshold = -999999, np.percentile(p_train, 10)\n",
    "        # for th in np.arange(0., 0.9, 0.025):\n",
    "        #     profsum = f1_score(y_train[:, 0], p_train>th)\n",
    "        #     if profsum > profsum_best:\n",
    "        #         profsum_best = profsum\n",
    "        #         threshold = th\n",
    "        # model.set_threshold(threshold)\n",
    "        torch.save(model.state_dict(), \"model.pth\")\n",
    "        cfg.date_start=f\"{test_dates[0][:4]}-{test_dates[0][4:6]}-{test_dates[0][6:]}\"\n",
    "        cfg.date_end=f\"{test_dates[1][:4]}-{test_dates[1][4:6]}-{test_dates[1][6:]}\"\n",
    "        brok_results = backtest(cfg)\n",
    "        cumsum = brok_results.profits.cumsum()\n",
    "        print(brok_results.profits.sum())\n",
    "        plt.plot([pos.close_date for pos in brok_results.positions], cumsum + last_prof)\n",
    "        last_prof += cumsum[-1]\n",
    "        plt.grid(\"on\")\n",
    "        plt.tight_layout()\n",
    "        legend.append(f\"{test_dates[0]}-{test_dates[1]}\")\n",
    "\n",
    "cfg.run_model_device = None\n",
    "cfg.date_start=\"2004-01-01\"\n",
    "cfg.date_end=\"2024-01-01\"\n",
    "brok_results = backtest(cfg)\n",
    "print(brok_results.profits.sum())\n",
    "plt.plot([pos.close_date for pos in brok_results.positions], brok_results.profits.cumsum(), linewidth=3, alpha=0.6)\n",
    "legend.append(\"baseline\")\n",
    "# plt.legend(legend)\n",
    "plt.savefig(\"backtest.png\")\n",
    "# plt.show()"
   ]
  },
  {
   "cell_type": "code",
   "execution_count": null,
   "metadata": {},
   "outputs": [],
   "source": [
    "import torch\n",
    "from ml import Net\n",
    "device = \"cuda\"\n",
    "model = Net(7, 64)\n",
    "model.load_state_dict(torch.load(\"model.pth\"))\n",
    "model.eval()\n",
    "model.to(device)"
   ]
  },
  {
   "cell_type": "code",
   "execution_count": null,
   "metadata": {},
   "outputs": [],
   "source": [
    "p = model.forward_thresholded(X_test)[:, 0]\n",
    "w_profs_test = calc_weights(p_test[0], threshold)\n",
    "pprofs_test = (profs_test*w_profs_test).sum(0)\n",
    "pprofs_test, profs_test.sum()"
   ]
  },
  {
   "cell_type": "code",
   "execution_count": null,
   "metadata": {},
   "outputs": [],
   "source": [
    "pprofs_sum1 = np.nansum(pprofits, 1)\n",
    "gprofs_sum1 = np.nansum(gprofits, 1)\n",
    "pprofs_sum1, gprofs_sum1, (pprofs_sum1-gprofs_sum1)/abs(gprofs_sum1)"
   ]
  },
  {
   "cell_type": "code",
   "execution_count": null,
   "metadata": {},
   "outputs": [],
   "source": [
    "plt.plot(np.array(table)[:, 3], \".-\")"
   ]
  },
  {
   "cell_type": "code",
   "execution_count": null,
   "metadata": {},
   "outputs": [],
   "source": [
    "p_train.mean(), threshold"
   ]
  },
  {
   "cell_type": "code",
   "execution_count": null,
   "metadata": {},
   "outputs": [],
   "source": [
    "import torch\n",
    "from ml import Net\n",
    "device = \"cuda\"\n",
    "model = Net(7, 32)\n",
    "model.load_state_dict(torch.load(\"model.pth\"))\n",
    "model.eval()\n",
    "# model.set_threshold(-6)\n",
    "model.to(device)\n",
    "X_train, X_test, y_train, y_test, profs_train, profs_test, tf_test = get_data(X, y, test_split=1)\n",
    "p_test = model(torch.tensor(X_test).float().to(device)).squeeze()\n",
    "# profs_test.sum(), (profs_test*p_test).sum()\n",
    "p_test"
   ]
  },
  {
   "cell_type": "code",
   "execution_count": null,
   "metadata": {},
   "outputs": [],
   "source": [
    "X_train.shape"
   ]
  },
  {
   "cell_type": "code",
   "execution_count": null,
   "metadata": {},
   "outputs": [],
   "source": [
    "list(model.named_parameters())[0]"
   ]
  },
  {
   "cell_type": "code",
   "execution_count": null,
   "metadata": {},
   "outputs": [],
   "source": [
    "plt.plot(model(torch.tensor(X_test).float().to(device)).squeeze().detach().cpu().numpy())"
   ]
  },
  {
   "cell_type": "code",
   "execution_count": null,
   "metadata": {},
   "outputs": [],
   "source": []
  },
  {
   "cell_type": "code",
   "execution_count": null,
   "metadata": {},
   "outputs": [],
   "source": [
    "threshold"
   ]
  },
  {
   "cell_type": "code",
   "execution_count": null,
   "metadata": {},
   "outputs": [],
   "source": [
    "y_test.sum(), (p_test>threshold).sum(), p_test.shape[0], y_test.shape[0]"
   ]
  },
  {
   "cell_type": "code",
   "execution_count": null,
   "metadata": {},
   "outputs": [],
   "source": [
    "import mplfinance as mpf\n",
    "\n",
    "ticker = \"BTCUSDT\"\n",
    "tf = \"H1\"\n",
    "hist_pd, hist = DataParser(\n",
    "    EasyDict(\n",
    "        date_start=\"2008-01-01\",\n",
    "        period=tf,\n",
    "        ticker=ticker,\n",
    "        data_type=\"bitfinex\"\n",
    "        )).load()\n",
    "\n",
    "for i in ids_test:\n",
    "    pos = poslist[i]\n",
    "    if pos.ticker == ticker:\n",
    "        prediction = model.predict_proba([X[i, :-1]])[0][1]\n",
    "        if prediction < threshold:\n",
    "            print(pos.ticker, pos.open_date, prediction)\n",
    "            d2 = pd.to_datetime(pos.close_date)\n",
    "            d1 = pd.to_datetime(pos.open_date)\n",
    "            d0 = d1 - pd.DateOffset(days=3)\n",
    "            hist2plot = hist_pd.loc[d0:d2]\n",
    "            fig = mpf.plot(hist2plot, \n",
    "                type='candle', \n",
    "                block=False)"
   ]
  },
  {
   "cell_type": "code",
   "execution_count": null,
   "metadata": {},
   "outputs": [],
   "source": [
    "prediction"
   ]
  }
 ],
 "metadata": {
  "kernelspec": {
   "display_name": "Python 3.10.11 ('base')",
   "language": "python",
   "name": "python3"
  },
  "language_info": {
   "codemirror_mode": {
    "name": "ipython",
    "version": 3
   },
   "file_extension": ".py",
   "mimetype": "text/x-python",
   "name": "python",
   "nbconvert_exporter": "python",
   "pygments_lexer": "ipython3",
   "version": "3.10.11"
  },
  "orig_nbformat": 4,
  "vscode": {
   "interpreter": {
    "hash": "fee188bb3a88b2f91c21b23bf544ec11647f6207f57c38bc925e29c2adb397fe"
   }
  }
 },
 "nbformat": 4,
 "nbformat_minor": 2
}
