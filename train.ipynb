{
 "cells": [
  {
   "cell_type": "code",
   "execution_count": 1,
   "metadata": {},
   "outputs": [
    {
     "name": "stdout",
     "output_type": "stream",
     "text": [
      "optimization/btest000.pickle\n",
      "optimization/btest001.pickle\n"
     ]
    }
   ],
   "source": [
    "import pickle\n",
    "from pathlib import Path\n",
    "from easydict import EasyDict\n",
    "import pandas as pd\n",
    "from matplotlib import pyplot as plt\n",
    "from ml import train\n",
    "from dataloading import get_data, build_features\n",
    "\n",
    "\n",
    "pd.set_option('display.max_rows', 500)\n",
    "pd.set_option('display.max_columns', 500)\n",
    "pd.set_option('display.width', 1000)\n",
    "\n",
    "cfgs, btests = [], []\n",
    "for p in sorted(Path(\"optimization\").glob(\"*.pickle\")):\n",
    "    cfg, btest = pickle.load(open(p, \"rb\"))\n",
    "    cfgs.append(cfg)\n",
    "    btests.append(btest)\n",
    "    print(p)"
   ]
  },
  {
   "cell_type": "code",
   "execution_count": 2,
   "metadata": {},
   "outputs": [
    {
     "name": "stdout",
     "output_type": "stream",
     "text": [
      "BTCUSD 465\n",
      "ETHUSD 550\n",
      "(1011, 1, 9, 32) (1011,)\n",
      "20180522 -> 20231016\n"
     ]
    }
   ],
   "source": [
    "from backtest import DataParser, MovingWindow\n",
    "import numpy as np\n",
    "\n",
    "\n",
    "fsize = 32\n",
    "tfdict = {\"M5\":0, \"M15\":1, \"H1\":2}\n",
    "X, y, poslist = [], [], []\n",
    "for btest in btests:\n",
    "    print(btest.cfg.ticker, end=\" \")\n",
    "    hist_pd, hist = DataParser(btest.cfg).load()\n",
    "    mw = MovingWindow(hist, fsize+2)\n",
    "    print(len(btest.positions))\n",
    "    for pos in btest.positions[2:]:\n",
    "        f, _ = mw(pos.open_indx)\n",
    "        x = build_features(f, \n",
    "                           pos.dir, \n",
    "                           btest.cfg.stops_processor.func.cfg.sl, \n",
    "                           btest.cfg.trailing_stop_rate,\n",
    "                           pos.open_date, \n",
    "                           tfdict[btest.cfg.period])\n",
    "        X.append([x])\n",
    "        y.append(pos.profit)\n",
    "        poslist.append(pos)\n",
    "        \n",
    "X, y = np.array(X, dtype=np.float32), np.array(y, dtype=np.float32)\n",
    "print(X.shape, y.shape)\n",
    "print(f\"{X[0, 0, -2, 0]:8.0f} -> {X[-1, 0, -2, 0]:8.0f}\")"
   ]
  },
  {
   "cell_type": "code",
   "execution_count": 9,
   "metadata": {},
   "outputs": [
    {
     "name": "stdout",
     "output_type": "stream",
     "text": [
      "(758, 1, 7, 32) (253, 1, 7, 32) (253,)\n",
      "117.14505\n"
     ]
    },
    {
     "data": {
      "image/png": "[encoded data removed]",
      "text/plain": [
       "<Figure size 640x480 with 1 Axes>"
      ]
     },
     "metadata": {},
     "output_type": "display_data"
    }
   ],
   "source": [
    "def get_data(X, y, test_split=0.25):\n",
    "    ids = np.arange(X.shape[0])\n",
    "    # np.random.shuffle(ids)\n",
    "    test_size = int(X.shape[0]*test_split)\n",
    "    ids_test, odates_testset, odates = [], set(), X[:, 0, -2, 0]\n",
    "    while len(ids_test) < test_size:\n",
    "        ix = np.random.randint(0, X.shape[0])\n",
    "        d = odates[ix]\n",
    "        if d not in odates_testset:\n",
    "            ii = ids[odates == d]\n",
    "            ids_test += ii.tolist()\n",
    "            odates_testset.add(d)\n",
    "    ids_train = [ix for ix in ids if ix not in ids_test]   \n",
    "    np.random.shuffle(ids_train) \n",
    "    np.random.shuffle(ids_test) \n",
    "        \n",
    "    # ids_test, ids_train = ids[:test_size], ids[test_size:]\n",
    "    X_train, X_test, y_train, y_test, profs_test = X[ids_train], X[ids_test], y[ids_train], y[ids_test], y[ids_test].copy()\n",
    "    tf_test = X_test[:, 0, -1, 0]\n",
    "    X_train = X_train[:, :, :-2, :]\n",
    "    X_test = X_test[:, :, :-2, :]\n",
    "    \n",
    "    y_train = np.tanh(y_train)\n",
    "    y_test = np.tanh(y_test)\n",
    "    \n",
    "    return X_train, X_test, y_train, y_test, profs_test.copy(), tf_test\n",
    "X_train, X_test, y_train, y_test, profs_test, tf_test = get_data(X, y)\n",
    "print(X_train.shape, X_test.shape, tf_test.shape)\n",
    "plt.imshow(X_train[0][0][:])\n",
    "print(profs_test.sum())"
   ]
  },
  {
   "cell_type": "code",
   "execution_count": 18,
   "metadata": {},
   "outputs": [
    {
     "data": {
      "text/plain": [
       "-79.89423"
      ]
     },
     "execution_count": 18,
     "metadata": {},
     "output_type": "execute_result"
    }
   ],
   "source": [
    "np.random.seed(i)\n",
    "X_train, X_test, y_train, y_test, profs_test, tf_test = get_data(X, y, test_split_size)\n",
    "profs_test.sum()"
   ]
  },
  {
   "cell_type": "code",
   "execution_count": 29,
   "metadata": {},
   "outputs": [
    {
     "name": "stdout",
     "output_type": "stream",
     "text": [
      "0.0\n",
      "[001,    32] loss train: 0.8442 | test: nan\n",
      "[002,    32] loss train: 0.8221 | test: nan\n",
      "[003,    32] loss train: 0.8110 | test: nan\n",
      "[004,    32] loss train: 0.8009 | test: nan\n",
      "[005,    32] loss train: 0.8092 | test: nan\n"
     ]
    },
    {
     "name": "stderr",
     "output_type": "stream",
     "text": [
      "/home/andrybin/miniconda3/lib/python3.11/site-packages/torch/nn/modules/loss.py:535: UserWarning: Using a target size (torch.Size([0])) that is different to the input size (torch.Size([0, 1])). This will likely lead to incorrect results due to broadcasting. Please ensure they have the same size.\n",
      "  return F.mse_loss(input, target, reduction=self.reduction)\n"
     ]
    },
    {
     "name": "stdout",
     "output_type": "stream",
     "text": [
      "[006,    32] loss train: 0.8153 | test: nan\n",
      "[007,    32] loss train: 0.7987 | test: nan\n",
      "[008,    32] loss train: 0.8004 | test: nan\n",
      "[009,    32] loss train: 0.7946 | test: nan\n",
      "[010,    32] loss train: 0.7975 | test: nan\n",
      "[011,    32] loss train: 0.7911 | test: nan\n",
      "[012,    32] loss train: 0.7798 | test: nan\n",
      "[013,    32] loss train: 0.7978 | test: nan\n",
      "[014,    32] loss train: 0.7943 | test: nan\n",
      "[015,    32] loss train: 0.7935 | test: nan\n",
      "[016,    32] loss train: 0.7992 | test: nan\n",
      "[017,    32] loss train: 0.7943 | test: nan\n",
      "[018,    32] loss train: 0.7961 | test: nan\n",
      "[019,    32] loss train: 0.8034 | test: nan\n",
      "[020,    32] loss train: 0.7839 | test: nan\n",
      "[021,    32] loss train: 0.7985 | test: nan\n",
      "[022,    32] loss train: 0.7896 | test: nan\n",
      "[023,    32] loss train: 0.7790 | test: nan\n",
      "[024,    32] loss train: 0.7931 | test: nan\n",
      "[025,    32] loss train: 0.7786 | test: nan\n",
      "[026,    32] loss train: 0.7857 | test: nan\n",
      "[027,    32] loss train: 0.7852 | test: nan\n",
      "[028,    32] loss train: 0.7696 | test: nan\n",
      "[029,    32] loss train: 0.7752 | test: nan\n",
      "[030,    32] loss train: 0.7624 | test: nan\n",
      "000 mae_train: 0.83\n"
     ]
    },
    {
     "data": {
      "image/png": "[encoded data removed]",
      "text/plain": [
       "<Figure size 2000x300 with 1 Axes>"
      ]
     },
     "metadata": {},
     "output_type": "display_data"
    }
   ],
   "source": [
    "from sklearn.metrics import mean_absolute_error, f1_score\n",
    "import torch\n",
    "device = \"cuda\"\n",
    "\n",
    "nitrers = 1\n",
    "test_split_size = 0.\n",
    "id2tf = {v:k for k, v in tfdict.items()}\n",
    "\n",
    "pprofits, gprofits, metrics = np.zeros((3, nitrers)), np.zeros((3, nitrers)), np.zeros((2, nitrers))\n",
    "for i in range(nitrers):\n",
    "    # np.random.seed(i)\n",
    "    X_train, X_test, y_train, y_test, profs_test, tf_test = get_data(X, y, test_split_size)\n",
    "    print(profs_test.sum())\n",
    "    model = train(X_train, y_train, X_test, y_test, batch_size=32)\n",
    "    \n",
    "    p_train = model(torch.tensor(X_train).float().to(device)).detach().cpu().numpy().squeeze()\n",
    "    p_test = model(torch.tensor(X_test).float().to(device)).detach().cpu().numpy().squeeze()\n",
    "    metrics[0, i] = mean_absolute_error(p_train, y_train)\n",
    "    print(f\"{i:03} mae_train: {metrics[0, i]:4.2f}\")\n",
    "    if test_split_size > 0:\n",
    "        metrics[1, i] = mean_absolute_error(p_test, y_test)\n",
    "        threshold = np.percentile(p_train, 10)\n",
    "        for j in range(3):\n",
    "            ids = tf_test == j\n",
    "            pprofits[j, i] = (profs_test[ids]*(p_test[ids]>threshold)).sum()\n",
    "            gprofits[j, i] = profs_test[ids].sum()\n",
    "            print(f\"{i:03} profit {id2tf[j]:3}:{gprofits[j, i]:+7.1f} -> {pprofits[j, i]:+7.1f} {'OK' if pprofits[j, i] > gprofits[j, i] else '--'}\")\n",
    "        print(f\"{i:03} mae_test: {metrics[1, i]:4.2f}\")\n",
    "        \n",
    "        pprofs_mean = pprofits.mean(axis=1, where=pprofits!=0)\n",
    "        gprofs_mean = gprofits.mean(axis=1, where=gprofits!=0)\n",
    "        f1_mean = metrics.mean(axis=1, where=metrics!=0)\n",
    "        pprofs_mean_tot = np.nanmean(pprofs_mean)\n",
    "        gprofs_mean_tot = np.nanmean(gprofs_mean)\n",
    "        print(\"-------------------------------------------------\")\n",
    "        print(gprofs_mean, \" -> \", pprofs_mean)\n",
    "        print(f\"mae_train: {f1_mean[0]:4.2f} mae_test: {f1_mean[1]:4.2f} ratio: {f1_mean[1]/f1_mean[0]:4.2f}\")\n",
    "        print(f\"av. profit boost: {(pprofs_mean_tot - gprofs_mean_tot)/abs(gprofs_mean_tot)}\")\n",
    "\n",
    "plt.figure(figsize=(20, 3))\n",
    "plt.subplot(1, 2, 1)\n",
    "plt.plot(p_train[:100], \".\")\n",
    "plt.bar(np.arange(100), y_train[:100], width=[1]*100, alpha=0.4)\n",
    "plt.plot([0, 100], [threshold, threshold])\n",
    "if len(p_test):\n",
    "    plt.subplot(1, 2, 2)\n",
    "    plt.plot(p_test[:100], \".\")\n",
    "    plt.bar(np.arange(100), y_test[:100], width=[1]*100, alpha=0.4)\n",
    "    # plt.bar(np.arange(100), profs_test[:100], width=[1]*100, alpha=0.2)\n",
    "    plt.plot([0, 100], [threshold, threshold])"
   ]
  },
  {
   "cell_type": "code",
   "execution_count": 30,
   "metadata": {},
   "outputs": [],
   "source": [
    "model.eval()\n",
    "torch.save(model.state_dict(), \"model.pth\")"
   ]
  },
  {
   "cell_type": "code",
   "execution_count": null,
   "metadata": {},
   "outputs": [
    {
     "data": {
      "text/plain": [
       "-0.41722842454910275"
      ]
     },
     "execution_count": 7,
     "metadata": {},
     "output_type": "execute_result"
    }
   ],
   "source": [
    "threshold"
   ]
  },
  {
   "cell_type": "code",
   "execution_count": null,
   "metadata": {},
   "outputs": [
    {
     "data": {
      "text/plain": [
       "(-86.278366, 176, 202, 202)"
      ]
     },
     "execution_count": 8,
     "metadata": {},
     "output_type": "execute_result"
    }
   ],
   "source": [
    "y_test.sum(), (p_test>threshold).sum(), p_test.shape[0], y_test.shape[0]"
   ]
  },
  {
   "cell_type": "code",
   "execution_count": null,
   "metadata": {},
   "outputs": [
    {
     "ename": "FileNotFoundError",
     "evalue": "data/bitfinex/H1",
     "output_type": "error",
     "traceback": [
      "\u001b[0;31m---------------------------------------------------------------------------\u001b[0m",
      "\u001b[0;31mFileNotFoundError\u001b[0m                         Traceback (most recent call last)",
      "\u001b[1;32m/home/andrybin/Dev/MLTR/train.ipynb Cell 9\u001b[0m line \u001b[0;36m1\n\u001b[1;32m      <a href='vscode-notebook-cell:/home/andrybin/Dev/MLTR/train.ipynb#X15sZmlsZQ%3D%3D?line=2'>3</a>\u001b[0m ticker \u001b[39m=\u001b[39m \u001b[39m\"\u001b[39m\u001b[39mBTCUSDT\u001b[39m\u001b[39m\"\u001b[39m\n\u001b[1;32m      <a href='vscode-notebook-cell:/home/andrybin/Dev/MLTR/train.ipynb#X15sZmlsZQ%3D%3D?line=3'>4</a>\u001b[0m tf \u001b[39m=\u001b[39m \u001b[39m\"\u001b[39m\u001b[39mH1\u001b[39m\u001b[39m\"\u001b[39m\n\u001b[1;32m      <a href='vscode-notebook-cell:/home/andrybin/Dev/MLTR/train.ipynb#X15sZmlsZQ%3D%3D?line=4'>5</a>\u001b[0m hist_pd, hist \u001b[39m=\u001b[39m DataParser(\n\u001b[1;32m      <a href='vscode-notebook-cell:/home/andrybin/Dev/MLTR/train.ipynb#X15sZmlsZQ%3D%3D?line=5'>6</a>\u001b[0m     EasyDict(\n\u001b[1;32m      <a href='vscode-notebook-cell:/home/andrybin/Dev/MLTR/train.ipynb#X15sZmlsZQ%3D%3D?line=6'>7</a>\u001b[0m         date_start\u001b[39m=\u001b[39;49m\u001b[39m\"\u001b[39;49m\u001b[39m2008-01-01\u001b[39;49m\u001b[39m\"\u001b[39;49m,\n\u001b[1;32m      <a href='vscode-notebook-cell:/home/andrybin/Dev/MLTR/train.ipynb#X15sZmlsZQ%3D%3D?line=7'>8</a>\u001b[0m         period\u001b[39m=\u001b[39;49mtf,\n\u001b[1;32m      <a href='vscode-notebook-cell:/home/andrybin/Dev/MLTR/train.ipynb#X15sZmlsZQ%3D%3D?line=8'>9</a>\u001b[0m         ticker\u001b[39m=\u001b[39;49mticker,\n\u001b[1;32m     <a href='vscode-notebook-cell:/home/andrybin/Dev/MLTR/train.ipynb#X15sZmlsZQ%3D%3D?line=9'>10</a>\u001b[0m         data_type\u001b[39m=\u001b[39;49m\u001b[39m\"\u001b[39;49m\u001b[39mbitfinex\u001b[39;49m\u001b[39m\"\u001b[39;49m\n\u001b[0;32m---> <a href='vscode-notebook-cell:/home/andrybin/Dev/MLTR/train.ipynb#X15sZmlsZQ%3D%3D?line=10'>11</a>\u001b[0m         ))\u001b[39m.\u001b[39;49mload()\n\u001b[1;32m     <a href='vscode-notebook-cell:/home/andrybin/Dev/MLTR/train.ipynb#X15sZmlsZQ%3D%3D?line=12'>13</a>\u001b[0m \u001b[39mfor\u001b[39;00m i \u001b[39min\u001b[39;00m ids_test:\n\u001b[1;32m     <a href='vscode-notebook-cell:/home/andrybin/Dev/MLTR/train.ipynb#X15sZmlsZQ%3D%3D?line=13'>14</a>\u001b[0m     pos \u001b[39m=\u001b[39m poslist[i]\n",
      "File \u001b[0;32m~/Dev/MLTR/backtest.py:34\u001b[0m, in \u001b[0;36mDataParser.load\u001b[0;34m(self)\u001b[0m\n\u001b[1;32m     28\u001b[0m     \u001b[39mreturn\u001b[39;00m {\u001b[39m\"\u001b[39m\u001b[39mmetatrader\u001b[39m\u001b[39m\"\u001b[39m: \u001b[39mself\u001b[39m\u001b[39m.\u001b[39mmetatrader,\n\u001b[1;32m     29\u001b[0m             \u001b[39m\"\u001b[39m\u001b[39mFORTS\u001b[39m\u001b[39m\"\u001b[39m: \u001b[39mself\u001b[39m\u001b[39m.\u001b[39mmetatrader,\n\u001b[1;32m     30\u001b[0m             \u001b[39m\"\u001b[39m\u001b[39mbitfinex\u001b[39m\u001b[39m\"\u001b[39m: \u001b[39mself\u001b[39m\u001b[39m.\u001b[39mbitfinex,\n\u001b[1;32m     31\u001b[0m             \u001b[39m\"\u001b[39m\u001b[39myahoo\u001b[39m\u001b[39m\"\u001b[39m: \u001b[39mself\u001b[39m\u001b[39m.\u001b[39myahoo,\n\u001b[1;32m     32\u001b[0m             }\u001b[39m.\u001b[39mget(\u001b[39mself\u001b[39m\u001b[39m.\u001b[39mcfg\u001b[39m.\u001b[39mdata_type, \u001b[39mNone\u001b[39;00m)(flist[\u001b[39m0\u001b[39m])\n\u001b[1;32m     33\u001b[0m \u001b[39melse\u001b[39;00m:\n\u001b[0;32m---> 34\u001b[0m     \u001b[39mraise\u001b[39;00m \u001b[39mFileNotFoundError\u001b[39;00m(p)\n",
      "\u001b[0;31mFileNotFoundError\u001b[0m: data/bitfinex/H1"
     ]
    }
   ],
   "source": [
    "import mplfinance as mpf\n",
    "\n",
    "ticker = \"BTCUSDT\"\n",
    "tf = \"H1\"\n",
    "hist_pd, hist = DataParser(\n",
    "    EasyDict(\n",
    "        date_start=\"2008-01-01\",\n",
    "        period=tf,\n",
    "        ticker=ticker,\n",
    "        data_type=\"bitfinex\"\n",
    "        )).load()\n",
    "\n",
    "for i in ids_test:\n",
    "    pos = poslist[i]\n",
    "    if pos.ticker == ticker:\n",
    "        prediction = model.predict_proba([X[i, :-1]])[0][1]\n",
    "        if prediction < threshold:\n",
    "            print(pos.ticker, pos.open_date, prediction)\n",
    "            d2 = pd.to_datetime(pos.close_date)\n",
    "            d1 = pd.to_datetime(pos.open_date)\n",
    "            d0 = d1 - pd.DateOffset(days=3)\n",
    "            hist2plot = hist_pd.loc[d0:d2]\n",
    "            fig = mpf.plot(hist2plot, \n",
    "                type='candle', \n",
    "                block=False)"
   ]
  },
  {
   "cell_type": "code",
   "execution_count": null,
   "metadata": {},
   "outputs": [
    {
     "data": {
      "text/plain": [
       "array([[0.49287947, 0.50712053]])"
      ]
     },
     "execution_count": 47,
     "metadata": {},
     "output_type": "execute_result"
    }
   ],
   "source": [
    "prediction"
   ]
  }
 ],
 "metadata": {
  "kernelspec": {
   "display_name": "Python 3.10.11 ('base')",
   "language": "python",
   "name": "python3"
  },
  "language_info": {
   "codemirror_mode": {
    "name": "ipython",
    "version": 3
   },
   "file_extension": ".py",
   "mimetype": "text/x-python",
   "name": "python",
   "nbconvert_exporter": "python",
   "pygments_lexer": "ipython3",
   "version": "3.11.5"
  },
  "orig_nbformat": 4,
  "vscode": {
   "interpreter": {
    "hash": "fee188bb3a88b2f91c21b23bf544ec11647f6207f57c38bc925e29c2adb397fe"
   }
  }
 },
 "nbformat": 4,
 "nbformat_minor": 2
}
