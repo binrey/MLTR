{
 "cells": [
  {
   "cell_type": "code",
   "execution_count": 13,
   "metadata": {},
   "outputs": [
    {
     "name": "stdout",
     "output_type": "stream",
     "text": [
      "The autoreload extension is already loaded. To reload it, use:\n",
      "  %reload_ext autoreload\n",
      "optimization/btest000.pickle\n",
      "optimization/btest001.pickle\n",
      "optimization/btest002.pickle\n",
      "optimization/btest003.pickle\n",
      "optimization/btest004.pickle\n",
      "optimization/btest005.pickle\n",
      "optimization/btest006.pickle\n",
      "optimization/btest007.pickle\n",
      "optimization/btest008.pickle\n",
      "optimization/btest009.pickle\n",
      "optimization/btest010.pickle\n",
      "optimization/btest011.pickle\n",
      "optimization/btest012.pickle\n",
      "optimization/btest013.pickle\n",
      "optimization/btest014.pickle\n",
      "optimization/btest015.pickle\n",
      "optimization/btest016.pickle\n",
      "optimization/btest017.pickle\n",
      "optimization/btest018.pickle\n",
      "optimization/btest019.pickle\n",
      "optimization/btest020.pickle\n",
      "optimization/btest021.pickle\n",
      "optimization/btest022.pickle\n",
      "optimization/btest023.pickle\n",
      "optimization/btest024.pickle\n",
      "optimization/btest025.pickle\n",
      "optimization/btest026.pickle\n",
      "optimization/btest027.pickle\n",
      "optimization/btest028.pickle\n",
      "optimization/btest029.pickle\n",
      "optimization/btest030.pickle\n",
      "optimization/btest031.pickle\n"
     ]
    }
   ],
   "source": [
    "import pickle\n",
    "from pathlib import Path\n",
    "from easydict import EasyDict\n",
    "import pandas as pd\n",
    "from matplotlib import pyplot as plt\n",
    "from ml import train\n",
    "from dataloading import get_data, build_features\n",
    "\n",
    "%load_ext autoreload\n",
    "%autoreload 2\n",
    "import warnings\n",
    "warnings.filterwarnings('ignore')\n",
    "\n",
    "\n",
    "pd.set_option('display.max_rows', 500)\n",
    "pd.set_option('display.max_columns', 500)\n",
    "pd.set_option('display.width', 1000)\n",
    "\n",
    "cfgs, btests = [], []\n",
    "for p in sorted(Path(\"optimization\").glob(\"*.pickle\")):\n",
    "    cfg, btest = pickle.load(open(p, \"rb\"))\n",
    "    cfgs.append(cfg)\n",
    "    btests.append(btest)\n",
    "    print(p)"
   ]
  },
  {
   "cell_type": "code",
   "execution_count": 14,
   "metadata": {},
   "outputs": [
    {
     "name": "stdout",
     "output_type": "stream",
     "text": [
      "BTCUSD 314\n",
      "ETHUSD 354\n",
      "BTCUSD 219\n",
      "ETHUSD 295\n",
      "BTCUSD 180\n",
      "ETHUSD 241\n",
      "BTCUSD 151\n",
      "ETHUSD 216\n",
      "BTCUSD 392\n",
      "ETHUSD 433\n",
      "BTCUSD 287\n",
      "ETHUSD 337\n",
      "BTCUSD 254\n",
      "ETHUSD 304\n",
      "BTCUSD 213\n",
      "ETHUSD 268\n",
      "BTCUSD 427\n",
      "ETHUSD 472\n",
      "BTCUSD 347\n",
      "ETHUSD 377\n",
      "BTCUSD 292\n",
      "ETHUSD 346\n",
      "BTCUSD 272\n",
      "ETHUSD 312\n",
      "BTCUSD 453\n",
      "ETHUSD 515\n",
      "BTCUSD 389\n",
      "ETHUSD 418\n",
      "BTCUSD 338\n",
      "ETHUSD 387\n",
      "BTCUSD 314\n",
      "ETHUSD 354\n",
      "(10471, 1, 9, 32) (10471,)\n",
      "20180520 -> 20201230\n"
     ]
    }
   ],
   "source": [
    "from backtest import DataParser, MovingWindow\n",
    "import numpy as np\n",
    "\n",
    "\n",
    "fsize = 32\n",
    "tfdict = {\"M5\":0, \"M15\":1, \"H1\":2}\n",
    "X, y, poslist = [], [], []\n",
    "for btest in btests:\n",
    "    print(btest.cfg.ticker, end=\" \")\n",
    "    hist_pd, hist = DataParser(btest.cfg).load()\n",
    "    mw = MovingWindow(hist, fsize+2)\n",
    "    print(len(btest.positions))\n",
    "    for pos in btest.positions:\n",
    "        f, _ = mw(pos.open_indx)\n",
    "        x = build_features(f, \n",
    "                           pos.dir, \n",
    "                           btest.cfg.stops_processor.func.cfg.sl, \n",
    "                           btest.cfg.trailing_stop_rate,\n",
    "                           pos.open_date, \n",
    "                           tfdict[btest.cfg.period])\n",
    "        X.append([x])\n",
    "        y.append(pos.profit)\n",
    "        poslist.append(pos)\n",
    "        \n",
    "X, y = np.array(X, dtype=np.float32), np.array(y, dtype=np.float32)\n",
    "print(X.shape, y.shape)\n",
    "print(f\"{X[0, 0, -2, 0]:8.0f} -> {X[-1, 0, -2, 0]:8.0f}\")"
   ]
  },
  {
   "cell_type": "code",
   "execution_count": 27,
   "metadata": {},
   "outputs": [
    {
     "name": "stdout",
     "output_type": "stream",
     "text": [
      "[001,    39] loss train: 0.6605 | test: 0.0167\n",
      "[002,    39] loss train: 0.6581 | test: 0.0166\n",
      "[003,    39] loss train: 0.6559 | test: 0.0165\n",
      "[004,    39] loss train: 0.6536 | test: 0.0165\n",
      "[005,    39] loss train: 0.6507 | test: 0.0164\n",
      "[006,    39] loss train: 0.6486 | test: 0.0163\n",
      "[007,    39] loss train: 0.6457 | test: 0.0163\n",
      "[008,    39] loss train: 0.6425 | test: 0.0160\n",
      "[009,    39] loss train: 0.6401 | test: 0.0162\n",
      "[010,    39] loss train: 0.6384 | test: 0.0160\n",
      "000 mae_train: 0.46\n",
      "000 profit M5 :   +0.0 ->    +0.0 --\n",
      "000 profit M15:   +0.0 ->    +0.0 --\n",
      "000 profit H1 : +294.1 ->  +294.7 OK\n",
      "000 mae_test: 0.45\n",
      "-------------------------------------------------\n",
      "[         nan          nan 294.10852051]  ->  [         nan          nan 294.70794678]\n",
      "mae_train: 0.46 mae_test: 0.45 ratio: 0.98\n",
      "av. profit boost: 0.0020381125595962707\n"
     ]
    },
    {
     "data": {
      "image/png": "[encoded data removed]",
      "text/plain": [
       "<Figure size 2000x300 with 2 Axes>"
      ]
     },
     "metadata": {},
     "output_type": "display_data"
    }
   ],
   "source": [
    "from sklearn.metrics import mean_absolute_error, f1_score\n",
    "import torch\n",
    "device = \"mps\"\n",
    "\n",
    "nitrers = 1\n",
    "test_split_size = 0.05\n",
    "calc_test = True\n",
    "id2tf = {v:k for k, v in tfdict.items()}\n",
    "\n",
    "pprofits, gprofits, metrics = np.zeros((3, nitrers)), np.zeros((3, nitrers)), np.zeros((2, nitrers))\n",
    "for i in range(nitrers):\n",
    "    # np.random.seed(i)\n",
    "    X_train, X_test, y_train, y_test, profs_train, profs_test, tf_test = get_data(X, y, test_split_size)\n",
    "    model = train(X_train, y_train, X_test, y_test, batch_size=256, device=\"mps\", calc_test=calc_test)\n",
    "    model.eval()\n",
    "    \n",
    "    p_train = model(torch.tensor(X_train).float().to(device)).detach().cpu().numpy().squeeze()\n",
    "    p_test = model(torch.tensor(X_test).float().to(device)).detach().cpu().numpy().squeeze()\n",
    "    metrics[0, i] = mean_absolute_error(p_train, y_train)\n",
    "    print(f\"{i:03} mae_train: {metrics[0, i]:4.2f}\")\n",
    "    if test_split_size > 0:\n",
    "        metrics[1, i] = mean_absolute_error(p_test, y_test)\n",
    "        profsum_best, threshold = -999999, None\n",
    "        for th in np.arange(0.1, 1, 0.025):\n",
    "            profsum = (profs_train*(p_train>th)).sum()\n",
    "            if profsum > profsum_best:\n",
    "                profsum_best = profsum\n",
    "                threshold = th\n",
    "        # threshold = np.percentile(p_train, 10)\n",
    "        for j in range(3):\n",
    "            ids = tf_test == j\n",
    "            pprofits[j, i] = (profs_test[ids]*(p_test[ids]>threshold)).sum()\n",
    "            gprofits[j, i] = profs_test[ids].sum()\n",
    "            print(f\"{i:03} profit {id2tf[j]:3}:{gprofits[j, i]:+7.1f} -> {pprofits[j, i]:+7.1f} {'OK' if pprofits[j, i] > gprofits[j, i] else '--'}\")\n",
    "        print(f\"{i:03} mae_test: {metrics[1, i]:4.2f}\")\n",
    "        \n",
    "        pprofs_mean = pprofits.mean(axis=1, where=pprofits!=0)\n",
    "        gprofs_mean = gprofits.mean(axis=1, where=gprofits!=0)\n",
    "        f1_mean = metrics.mean(axis=1, where=metrics!=0)\n",
    "        pprofs_mean_tot = np.nanmean(pprofs_mean)\n",
    "        gprofs_mean_tot = np.nanmean(gprofs_mean)\n",
    "        print(\"-------------------------------------------------\")\n",
    "        print(gprofs_mean, \" -> \", pprofs_mean)\n",
    "        print(f\"mae_train: {f1_mean[0]:4.2f} mae_test: {f1_mean[1]:4.2f} ratio: {f1_mean[1]/f1_mean[0]:4.2f}\")\n",
    "        print(f\"av. profit boost: {(pprofs_mean_tot - gprofs_mean_tot)/abs(gprofs_mean_tot)}\")\n",
    "\n",
    "plt.figure(figsize=(20, 3))\n",
    "plt.subplot(1, 2, 1)\n",
    "plt.plot(p_train[:100], \".\")\n",
    "plt.bar(np.arange(100), y_train[:100, 0], width=[1]*100, alpha=0.4)\n",
    "plt.plot([0, 100], [threshold, threshold])\n",
    "if len(p_test):\n",
    "    plt.subplot(1, 2, 2)\n",
    "    plt.plot(p_test[:100], \".\")\n",
    "    plt.bar(np.arange(100), y_test[:100, 0], width=[1]*100, alpha=0.4)\n",
    "    # plt.bar(np.arange(100), profs_test[:100], width=[1]*100, alpha=0.2)\n",
    "    plt.plot([0, 100], [threshold, threshold])\n",
    "    \n",
    "model.set_threshold(threshold)\n",
    "torch.save(model.state_dict(), \"model.pth\")"
   ]
  },
  {
   "cell_type": "code",
   "execution_count": null,
   "metadata": {},
   "outputs": [
    {
     "data": {
      "text/plain": [
       "tensor([0.3388, 0.3116], device='mps:0', grad_fn=<SqueezeBackward0>)"
      ]
     },
     "execution_count": 74,
     "metadata": {},
     "output_type": "execute_result"
    }
   ],
   "source": [
    "import torch\n",
    "from ml import Net\n",
    "device = \"mps\"\n",
    "model = Net(7, 32)\n",
    "model.load_state_dict(torch.load(\"model.pth\"))\n",
    "model.eval()\n",
    "# model.set_threshold(-6)\n",
    "model.to(device)\n",
    "X_train, X_test, y_train, y_test, profs_test, tf_test = get_data(X, y, test_split=1)\n",
    "p_test = model(torch.tensor(X[:2, :, :-2]).float().to(device)).squeeze()\n",
    "# profs_test.sum(), (profs_test*p_test).sum()\n",
    "p_test"
   ]
  },
  {
   "cell_type": "code",
   "execution_count": null,
   "metadata": {},
   "outputs": [],
   "source": []
  },
  {
   "cell_type": "code",
   "execution_count": 25,
   "metadata": {},
   "outputs": [
    {
     "data": {
      "text/plain": [
       "('threshold',\n",
       " Parameter containing:\n",
       " tensor([0.3750]))"
      ]
     },
     "execution_count": 25,
     "metadata": {},
     "output_type": "execute_result"
    }
   ],
   "source": [
    "list(model.named_parameters())[0]"
   ]
  },
  {
   "cell_type": "code",
   "execution_count": null,
   "metadata": {},
   "outputs": [
    {
     "data": {
      "text/plain": [
       "[<matplotlib.lines.Line2D at 0x15f5420b0>]"
      ]
     },
     "execution_count": 48,
     "metadata": {},
     "output_type": "execute_result"
    },
    {
     "data": {
      "image/png": "[encoded data removed]",
      "text/plain": [
       "<Figure size 640x480 with 1 Axes>"
      ]
     },
     "metadata": {},
     "output_type": "display_data"
    }
   ],
   "source": [
    "plt.plot(model(torch.tensor(X_test).float().to(device)).squeeze().detach().cpu().numpy())"
   ]
  },
  {
   "cell_type": "code",
   "execution_count": null,
   "metadata": {},
   "outputs": [],
   "source": []
  },
  {
   "cell_type": "code",
   "execution_count": null,
   "metadata": {},
   "outputs": [
    {
     "data": {
      "text/plain": [
       "0.22376672327518463"
      ]
     },
     "execution_count": 9,
     "metadata": {},
     "output_type": "execute_result"
    }
   ],
   "source": [
    "threshold"
   ]
  },
  {
   "cell_type": "code",
   "execution_count": null,
   "metadata": {},
   "outputs": [
    {
     "data": {
      "text/plain": [
       "(776, 1876, 2091, 2091)"
      ]
     },
     "execution_count": 10,
     "metadata": {},
     "output_type": "execute_result"
    }
   ],
   "source": [
    "y_test.sum(), (p_test>threshold).sum(), p_test.shape[0], y_test.shape[0]"
   ]
  },
  {
   "cell_type": "code",
   "execution_count": null,
   "metadata": {},
   "outputs": [
    {
     "ename": "FileNotFoundError",
     "evalue": "data/bitfinex/H1",
     "output_type": "error",
     "traceback": [
      "\u001b[0;31m---------------------------------------------------------------------------\u001b[0m",
      "\u001b[0;31mFileNotFoundError\u001b[0m                         Traceback (most recent call last)",
      "\u001b[1;32m/home/andrybin/Dev/MLTR/train.ipynb Cell 12\u001b[0m line \u001b[0;36m1\n\u001b[1;32m      <a href='vscode-notebook-cell:/home/andrybin/Dev/MLTR/train.ipynb#X10sZmlsZQ%3D%3D?line=2'>3</a>\u001b[0m ticker \u001b[39m=\u001b[39m \u001b[39m\"\u001b[39m\u001b[39mBTCUSDT\u001b[39m\u001b[39m\"\u001b[39m\n\u001b[1;32m      <a href='vscode-notebook-cell:/home/andrybin/Dev/MLTR/train.ipynb#X10sZmlsZQ%3D%3D?line=3'>4</a>\u001b[0m tf \u001b[39m=\u001b[39m \u001b[39m\"\u001b[39m\u001b[39mH1\u001b[39m\u001b[39m\"\u001b[39m\n\u001b[1;32m      <a href='vscode-notebook-cell:/home/andrybin/Dev/MLTR/train.ipynb#X10sZmlsZQ%3D%3D?line=4'>5</a>\u001b[0m hist_pd, hist \u001b[39m=\u001b[39m DataParser(\n\u001b[1;32m      <a href='vscode-notebook-cell:/home/andrybin/Dev/MLTR/train.ipynb#X10sZmlsZQ%3D%3D?line=5'>6</a>\u001b[0m     EasyDict(\n\u001b[1;32m      <a href='vscode-notebook-cell:/home/andrybin/Dev/MLTR/train.ipynb#X10sZmlsZQ%3D%3D?line=6'>7</a>\u001b[0m         date_start\u001b[39m=\u001b[39;49m\u001b[39m\"\u001b[39;49m\u001b[39m2008-01-01\u001b[39;49m\u001b[39m\"\u001b[39;49m,\n\u001b[1;32m      <a href='vscode-notebook-cell:/home/andrybin/Dev/MLTR/train.ipynb#X10sZmlsZQ%3D%3D?line=7'>8</a>\u001b[0m         period\u001b[39m=\u001b[39;49mtf,\n\u001b[1;32m      <a href='vscode-notebook-cell:/home/andrybin/Dev/MLTR/train.ipynb#X10sZmlsZQ%3D%3D?line=8'>9</a>\u001b[0m         ticker\u001b[39m=\u001b[39;49mticker,\n\u001b[1;32m     <a href='vscode-notebook-cell:/home/andrybin/Dev/MLTR/train.ipynb#X10sZmlsZQ%3D%3D?line=9'>10</a>\u001b[0m         data_type\u001b[39m=\u001b[39;49m\u001b[39m\"\u001b[39;49m\u001b[39mbitfinex\u001b[39;49m\u001b[39m\"\u001b[39;49m\n\u001b[0;32m---> <a href='vscode-notebook-cell:/home/andrybin/Dev/MLTR/train.ipynb#X10sZmlsZQ%3D%3D?line=10'>11</a>\u001b[0m         ))\u001b[39m.\u001b[39;49mload()\n\u001b[1;32m     <a href='vscode-notebook-cell:/home/andrybin/Dev/MLTR/train.ipynb#X10sZmlsZQ%3D%3D?line=12'>13</a>\u001b[0m \u001b[39mfor\u001b[39;00m i \u001b[39min\u001b[39;00m ids_test:\n\u001b[1;32m     <a href='vscode-notebook-cell:/home/andrybin/Dev/MLTR/train.ipynb#X10sZmlsZQ%3D%3D?line=13'>14</a>\u001b[0m     pos \u001b[39m=\u001b[39m poslist[i]\n",
      "File \u001b[0;32m~/Dev/MLTR/backtest.py:34\u001b[0m, in \u001b[0;36mDataParser.load\u001b[0;34m(self)\u001b[0m\n\u001b[1;32m     28\u001b[0m     \u001b[39mreturn\u001b[39;00m {\u001b[39m\"\u001b[39m\u001b[39mmetatrader\u001b[39m\u001b[39m\"\u001b[39m: \u001b[39mself\u001b[39m\u001b[39m.\u001b[39mmetatrader,\n\u001b[1;32m     29\u001b[0m             \u001b[39m\"\u001b[39m\u001b[39mFORTS\u001b[39m\u001b[39m\"\u001b[39m: \u001b[39mself\u001b[39m\u001b[39m.\u001b[39mmetatrader,\n\u001b[1;32m     30\u001b[0m             \u001b[39m\"\u001b[39m\u001b[39mbitfinex\u001b[39m\u001b[39m\"\u001b[39m: \u001b[39mself\u001b[39m\u001b[39m.\u001b[39mbitfinex,\n\u001b[1;32m     31\u001b[0m             \u001b[39m\"\u001b[39m\u001b[39myahoo\u001b[39m\u001b[39m\"\u001b[39m: \u001b[39mself\u001b[39m\u001b[39m.\u001b[39myahoo,\n\u001b[1;32m     32\u001b[0m             }\u001b[39m.\u001b[39mget(\u001b[39mself\u001b[39m\u001b[39m.\u001b[39mcfg\u001b[39m.\u001b[39mdata_type, \u001b[39mNone\u001b[39;00m)(flist[\u001b[39m0\u001b[39m])\n\u001b[1;32m     33\u001b[0m \u001b[39melse\u001b[39;00m:\n\u001b[0;32m---> 34\u001b[0m     \u001b[39mraise\u001b[39;00m \u001b[39mFileNotFoundError\u001b[39;00m(p)\n",
      "\u001b[0;31mFileNotFoundError\u001b[0m: data/bitfinex/H1"
     ]
    }
   ],
   "source": [
    "import mplfinance as mpf\n",
    "\n",
    "ticker = \"BTCUSDT\"\n",
    "tf = \"H1\"\n",
    "hist_pd, hist = DataParser(\n",
    "    EasyDict(\n",
    "        date_start=\"2008-01-01\",\n",
    "        period=tf,\n",
    "        ticker=ticker,\n",
    "        data_type=\"bitfinex\"\n",
    "        )).load()\n",
    "\n",
    "for i in ids_test:\n",
    "    pos = poslist[i]\n",
    "    if pos.ticker == ticker:\n",
    "        prediction = model.predict_proba([X[i, :-1]])[0][1]\n",
    "        if prediction < threshold:\n",
    "            print(pos.ticker, pos.open_date, prediction)\n",
    "            d2 = pd.to_datetime(pos.close_date)\n",
    "            d1 = pd.to_datetime(pos.open_date)\n",
    "            d0 = d1 - pd.DateOffset(days=3)\n",
    "            hist2plot = hist_pd.loc[d0:d2]\n",
    "            fig = mpf.plot(hist2plot, \n",
    "                type='candle', \n",
    "                block=False)"
   ]
  },
  {
   "cell_type": "code",
   "execution_count": null,
   "metadata": {},
   "outputs": [
    {
     "data": {
      "text/plain": [
       "array([[0.49287947, 0.50712053]])"
      ]
     },
     "execution_count": 47,
     "metadata": {},
     "output_type": "execute_result"
    }
   ],
   "source": [
    "prediction"
   ]
  }
 ],
 "metadata": {
  "kernelspec": {
   "display_name": "Python 3.10.11 ('base')",
   "language": "python",
   "name": "python3"
  },
  "language_info": {
   "codemirror_mode": {
    "name": "ipython",
    "version": 3
   },
   "file_extension": ".py",
   "mimetype": "text/x-python",
   "name": "python",
   "nbconvert_exporter": "python",
   "pygments_lexer": "ipython3",
   "version": "3.11.5"
  },
  "orig_nbformat": 4,
  "vscode": {
   "interpreter": {
    "hash": "fee188bb3a88b2f91c21b23bf544ec11647f6207f57c38bc925e29c2adb397fe"
   }
  }
 },
 "nbformat": 4,
 "nbformat_minor": 2
}
