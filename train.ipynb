{
 "cells": [
  {
   "cell_type": "code",
   "execution_count": 11,
   "metadata": {},
   "outputs": [
    {
     "name": "stdout",
     "output_type": "stream",
     "text": [
      "optimization/btest000.pickle\n",
      "optimization/btest001.pickle\n",
      "optimization/btest002.pickle\n",
      "optimization/btest003.pickle\n",
      "optimization/btest004.pickle\n",
      "optimization/btest005.pickle\n",
      "optimization/btest006.pickle\n",
      "optimization/btest007.pickle\n",
      "optimization/btest008.pickle\n",
      "optimization/btest009.pickle\n",
      "optimization/btest010.pickle\n",
      "optimization/btest011.pickle\n",
      "optimization/btest012.pickle\n",
      "optimization/btest013.pickle\n",
      "optimization/btest014.pickle\n",
      "optimization/btest015.pickle\n",
      "optimization/btest016.pickle\n",
      "optimization/btest017.pickle\n",
      "optimization/btest018.pickle\n",
      "optimization/btest019.pickle\n",
      "optimization/btest020.pickle\n",
      "optimization/btest021.pickle\n",
      "optimization/btest022.pickle\n",
      "optimization/btest023.pickle\n",
      "optimization/btest024.pickle\n",
      "optimization/btest025.pickle\n",
      "optimization/btest026.pickle\n",
      "optimization/btest027.pickle\n",
      "optimization/btest028.pickle\n",
      "optimization/btest029.pickle\n",
      "optimization/btest030.pickle\n",
      "optimization/btest031.pickle\n",
      "optimization/btest032.pickle\n",
      "optimization/btest033.pickle\n",
      "optimization/btest034.pickle\n",
      "optimization/btest035.pickle\n",
      "optimization/btest036.pickle\n",
      "optimization/btest037.pickle\n",
      "optimization/btest038.pickle\n",
      "optimization/btest039.pickle\n",
      "optimization/btest040.pickle\n",
      "optimization/btest041.pickle\n",
      "optimization/btest042.pickle\n",
      "optimization/btest043.pickle\n",
      "optimization/btest044.pickle\n",
      "optimization/btest045.pickle\n",
      "optimization/btest046.pickle\n",
      "optimization/btest047.pickle\n",
      "optimization/btest048.pickle\n",
      "optimization/btest049.pickle\n",
      "optimization/btest050.pickle\n",
      "optimization/btest051.pickle\n",
      "optimization/btest052.pickle\n",
      "optimization/btest053.pickle\n",
      "optimization/btest054.pickle\n",
      "optimization/btest055.pickle\n",
      "optimization/btest056.pickle\n",
      "optimization/btest057.pickle\n",
      "optimization/btest058.pickle\n",
      "optimization/btest059.pickle\n",
      "optimization/btest060.pickle\n",
      "optimization/btest061.pickle\n",
      "optimization/btest062.pickle\n",
      "optimization/btest063.pickle\n",
      "optimization/btest064.pickle\n",
      "optimization/btest065.pickle\n",
      "optimization/btest066.pickle\n",
      "optimization/btest067.pickle\n",
      "optimization/btest068.pickle\n",
      "optimization/btest069.pickle\n",
      "optimization/btest070.pickle\n",
      "optimization/btest071.pickle\n",
      "optimization/btest072.pickle\n",
      "optimization/btest073.pickle\n",
      "optimization/btest074.pickle\n",
      "optimization/btest075.pickle\n",
      "optimization/btest076.pickle\n",
      "optimization/btest077.pickle\n",
      "optimization/btest078.pickle\n",
      "optimization/btest079.pickle\n",
      "optimization/btest080.pickle\n",
      "optimization/btest081.pickle\n",
      "optimization/btest082.pickle\n",
      "optimization/btest083.pickle\n",
      "optimization/btest084.pickle\n",
      "optimization/btest085.pickle\n",
      "optimization/btest086.pickle\n",
      "optimization/btest087.pickle\n",
      "optimization/btest088.pickle\n",
      "optimization/btest089.pickle\n"
     ]
    }
   ],
   "source": [
    "import pickle\n",
    "from pathlib import Path\n",
    "from easydict import EasyDict\n",
    "import pandas as pd\n",
    "from matplotlib import pyplot as plt\n",
    "\n",
    "pd.set_option('display.max_rows', 500)\n",
    "pd.set_option('display.max_columns', 500)\n",
    "pd.set_option('display.width', 1000)\n",
    "\n",
    "cfgs, btests = [], []\n",
    "for p in sorted(Path(\"optimization\").glob(\"*.pickle\")):\n",
    "    cfg, btest = pickle.load(open(p, \"rb\"))\n",
    "    cfgs.append(cfg)\n",
    "    btests.append(btest)\n",
    "    print(p)"
   ]
  },
  {
   "cell_type": "code",
   "execution_count": 20,
   "metadata": {},
   "outputs": [
    {
     "name": "stdout",
     "output_type": "stream",
     "text": [
      "SBER 695\n",
      "ROSN 476\n",
      "LKOH 502\n",
      "GMKN 465\n",
      "GAZP 454\n",
      "SBER 1584\n",
      "ROSN 1333\n",
      "LKOH 1283\n",
      "GMKN 1330\n",
      "GAZP 1282\n",
      "SBER 650\n",
      "ROSN 442\n",
      "LKOH 452\n",
      "GMKN 436\n",
      "GAZP 414\n",
      "SBER 1353\n",
      "ROSN 1125\n",
      "LKOH 1084\n",
      "GMKN 1086\n",
      "GAZP 1036\n",
      "SBER 623\n",
      "ROSN 421\n",
      "LKOH 421\n",
      "GMKN 414\n",
      "GAZP 390\n",
      "SBER 1190\n",
      "ROSN 994\n",
      "LKOH 931\n",
      "GMKN 924\n",
      "GAZP 897\n",
      "SBER 634\n",
      "ROSN 427\n",
      "LKOH 443\n",
      "GMKN 407\n",
      "GAZP 388\n",
      "SBER 1331\n",
      "ROSN 1056\n",
      "LKOH 1031\n",
      "GMKN 1079\n",
      "GAZP 1036\n",
      "SBER 578\n",
      "ROSN 385\n",
      "LKOH 379\n",
      "GMKN 367\n",
      "GAZP 329\n",
      "SBER 1064\n",
      "ROSN 826\n",
      "LKOH 793\n",
      "GMKN 833\n",
      "GAZP 774\n",
      "SBER 528\n",
      "ROSN 353\n",
      "LKOH 329\n",
      "GMKN 346\n",
      "GAZP 306\n",
      "SBER 903\n",
      "ROSN 693\n",
      "LKOH 651\n",
      "GMKN 680\n",
      "GAZP 622\n",
      "SBER 603\n",
      "ROSN 388\n",
      "LKOH 402\n",
      "GMKN 375\n",
      "GAZP 357\n",
      "SBER 1171\n",
      "ROSN 915\n",
      "LKOH 885\n",
      "GMKN 925\n",
      "GAZP 868\n",
      "SBER 520\n",
      "ROSN 337\n",
      "LKOH 332\n",
      "GMKN 329\n",
      "GAZP 289\n",
      "SBER 903\n",
      "ROSN 675\n",
      "LKOH 634\n",
      "GMKN 668\n",
      "GAZP 610\n",
      "SBER 479\n",
      "ROSN 302\n",
      "LKOH 287\n",
      "GMKN 291\n",
      "GAZP 260\n",
      "SBER 757\n",
      "ROSN 537\n",
      "LKOH 493\n",
      "GMKN 530\n",
      "GAZP 484\n",
      "(28018, 43) (32756, 43) (60774, 43) (28018,) (32756,) (60774,)\n"
     ]
    }
   ],
   "source": [
    "from backtest import DataParser, MovingWindow\n",
    "import numpy as np\n",
    "import lightgbm as lgb\n",
    "from lightgbm import log_evaluation\n",
    "from sklearn.metrics import mean_absolute_error, f1_score\n",
    "from sklearn.model_selection import train_test_split\n",
    "from sklearn.preprocessing import StandardScaler\n",
    "from sklearn.ensemble import RandomForestClassifier, RandomForestRegressor\n",
    "from indicators import ZigZag\n",
    "\n",
    "\n",
    "def lgb_f1_score(y_hat, data):\n",
    "    y_true = data.get_label()\n",
    "    y_hat = np.round(y_hat) # scikits f1 doesn't like probabilities\n",
    "    return 'f1', f1_score(y_true, y_hat), False\n",
    "\n",
    "fsize = 50\n",
    "tfdict = {\"M5\":0, \"M15\":1, \"H1\":2}\n",
    "zz = ZigZag()\n",
    "Xl, Xs, yl, ys, odates, poslist = [], [], [], [], [], []\n",
    "for btest in btests:\n",
    "    print(btest.cfg.ticker, end=\" \")\n",
    "    hist_pd, hist = DataParser(btest.cfg).load()\n",
    "    mw = MovingWindow(hist, fsize+2)\n",
    "    print(len(btest.positions))\n",
    "    for pos in btest.positions[1:]:\n",
    "        f, _ = mw(pos.open_indx)\n",
    "        fc = f.Close[-5:-2]/f.Close[-2]\n",
    "        fo = f.Open[-5:-2]/f.Open[-2]\n",
    "        fh = f.High[-5:-2]/f.High[-2]\n",
    "        fl = f.Low[-5:-2]/f.Low[-2]\n",
    "        fv = f.Volume[-5:-2]/f.Volume[-2] if f.Volume[-2] != 0 else f.Volume[-5:-2]*0\n",
    "        ids_, vals_, tps_ = zz.update(f)\n",
    "        vals, ids, tps = np.zeros((3, 8))\n",
    "        vals[:min(8, len(vals_))] = vals_[:8]/f.Close[-2]\n",
    "        ids[:min(8, len(vals_))] = f.Id[-1] - ids_[:8]\n",
    "        tps[:min(8, len(vals_))] = tps_[:8]\n",
    "        odate = pd.to_datetime(pos.open_date)\n",
    "        odate = odate.year*10000 + odate.month*100 + odate.day\n",
    "        if pos.dir == 1:\n",
    "            Xl.append(np.hstack([fc, fo, fl, fh, fv, ids, vals, tps, btest.cfg.stops_processor.func.cfg.sl, btest.cfg.stops_processor.func.cfg.tp, odate, tfdict[btest.cfg.period]]))\n",
    "            yl.append(pos.profit)\n",
    "        else:\n",
    "            Xs.append(np.hstack([2-fc, 2-fo, 2-fl, 2-fh, fv, ids, 2-vals, tps, btest.cfg.stops_processor.func.cfg.sl, btest.cfg.stops_processor.func.cfg.tp, odate, tfdict[btest.cfg.period]])) \n",
    "            ys.append(pos.profit) \n",
    "        poslist.append(pos)\n",
    "        \n",
    "Xs, Xl = np.array(Xs), np.array(Xl)\n",
    "ys, yl = np.array(ys), np.array(yl)\n",
    "odates = np.array(odates)\n",
    "\n",
    "# ids2add = np.random.choice(np.arange(Xs.shape[0]), size=Xl.shape[0] - Xs.shape[0])\n",
    "# Xs = np.vstack([Xs, Xs[ids2add]])\n",
    "# ys = np.hstack([ys, ys[ids2add]])\n",
    "X = np.vstack([Xs, Xl])\n",
    "y = np.hstack([ys, yl])\n",
    "print(Xs.shape, Xl.shape, X.shape, ys.shape, yl.shape, y.shape)"
   ]
  },
  {
   "cell_type": "code",
   "execution_count": 26,
   "metadata": {},
   "outputs": [
    {
     "name": "stdout",
     "output_type": "stream",
     "text": [
      "45561 15213\n",
      "000 profit M5 :   +0.0 ->    +0.0 --\n",
      "000 profit M15:+2070.7 -> +2028.1 --\n",
      "000 profit H1 : +608.0 ->  +455.2 --\n",
      "000 mae_train: 1.14 mae_test: 1.78\n",
      "[   0.         2070.67844542  607.97978158]  ->  [   0.         2028.05098912  455.18127015]\n",
      "[        nan -0.02058623 -0.2513217 ]\n",
      "mae_train: 1.14 mae_test: 1.78 ration: 1.55\n",
      "av. profit boost: -0.07295666380756845\n"
     ]
    },
    {
     "name": "stderr",
     "output_type": "stream",
     "text": [
      "/var/folders/kw/hd5pllps0vs0ln9s5xlr768w0000gn/T/ipykernel_10347/2418472640.py:82: RuntimeWarning: invalid value encountered in divide\n",
      "  print((pprofs_mean - gprofs_mean)/abs(gprofs_mean))\n"
     ]
    },
    {
     "data": {
      "text/plain": [
       "[<matplotlib.lines.Line2D at 0x2867f4550>]"
      ]
     },
     "execution_count": 26,
     "metadata": {},
     "output_type": "execute_result"
    },
    {
     "data": {
      "image/png": "[encoded data removed]",
      "text/plain": [
       "<Figure size 2000x300 with 2 Axes>"
      ]
     },
     "metadata": {},
     "output_type": "display_data"
    }
   ],
   "source": [
    "nitrers = 1\n",
    "test_split = 0.25\n",
    "id2tf = {v:k for k, v in tfdict.items()}\n",
    "\n",
    "pprofits, gprofits, metrics = np.zeros((3, nitrers)), np.zeros((3, nitrers)), np.zeros((2, nitrers))\n",
    "for i in range(nitrers):\n",
    "    ids = np.arange(X.shape[0])\n",
    "    # np.random.shuffle(ids)\n",
    "    test_size = int(X.shape[0]*test_split)\n",
    "    ids_test, odates_testset, odates = [], set(), X[:, -2]\n",
    "    while len(ids_test) < test_size:\n",
    "        ix = np.random.randint(0, X.shape[0])\n",
    "        d = odates[ix]\n",
    "        if d not in odates_testset:\n",
    "            ii = ids[odates == d]\n",
    "            ids_test += ii.tolist()\n",
    "            odates_testset.add(d)\n",
    "    ids_train = [ix for ix in ids if ix not in ids_test]   \n",
    "    np.random.shuffle(ids_train) \n",
    "    np.random.shuffle(ids_test) \n",
    "        \n",
    "    # ids_test, ids_train = ids[:test_size], ids[test_size:]\n",
    "    X_train, X_test, y_train, y_test = X[ids_train], X[ids_test], y[ids_train], y[ids_test]\n",
    "    tf_test = X_test[:, -1]\n",
    "    X_train = X_train[:, :-2]\n",
    "    X_test = X_test[:, :-2]\n",
    "    profs_test = y_test\n",
    "    profs_train = y_train\n",
    "    # y_train = (y_train > 0).astype(int)\n",
    "    # y_test = (y_test > 0).astype(int)\n",
    "\n",
    "    # scaler = StandardScaler() \n",
    "    # scaler.fit(X_train) \n",
    "    # X_train = scaler.transform(X_train) \n",
    "    # X_test = scaler.transform(X_test) \n",
    "    \n",
    "    # X_add = X_train + np.random.random(X_train.shape)*0.1\n",
    "    # X_train = np.vstack([X_train, X_add])\n",
    "    # y_train = np.hstack([y_train, y_train])\n",
    "    \n",
    "    print(X_train.shape[0], X_test.shape[0])\n",
    "    # evals_result = {}\n",
    "    # model = lgb.train(params=dict(objective=\"binary\", \n",
    "    #                             # metric=\"auc\",\n",
    "    #                             # num_leaves=2, \n",
    "    #                             max_depth=3,\n",
    "    #                             verbose=-1), \n",
    "    #                   train_set=lgb.Dataset(X_train, label=y_train),\n",
    "    #                   valid_sets=[lgb.Dataset(X_test, label=y_test)],\n",
    "    #                   num_boost_round=500,\n",
    "    #                   feval=lgb_f1_score,\n",
    "    #                   # evals_result=evals_result,\n",
    "    #                   # verbose_eval=False,\n",
    "    #                   callbacks=[log_evaluation(-1)]\n",
    "    #                   )\n",
    "    # lgb.plot_metric(evals_result, metric='f1')\n",
    "\n",
    "    model = RandomForestRegressor(max_depth=20, n_estimators=200, min_samples_leaf=2)\n",
    "    model.fit(X_train, y_train)\n",
    "    threshold = -0.25\n",
    "    if len(X_train):\n",
    "        # p_train = model.predict(X_train)\n",
    "        p_train = model.predict(X_train)\n",
    "        # threshold = np.percentile(p_train, 10)\n",
    "        metrics[0, i] = mean_absolute_error(p_train, y_train)\n",
    "    # p_test = model.predict(X_test)\n",
    "    p_test = model.predict(X_test)\n",
    "    metrics[1, i] = mean_absolute_error(p_test, y_test)\n",
    "\n",
    "    for j in range(3):\n",
    "        ids = tf_test == j\n",
    "        pprofits[j, i] = (profs_test[ids]*(p_test[ids]>threshold)).sum()\n",
    "        gprofits[j, i] = profs_test[ids].sum()\n",
    "        print(f\"{i:03} profit {id2tf[j]:3}:{gprofits[j, i]:+7.1f} -> {pprofits[j, i]:+7.1f} {'OK' if pprofits[j, i] > gprofits[j, i] else '--'}\")\n",
    "    print(f\"{i:03} mae_train: {metrics[0, i]:4.2f} mae_test: {metrics[1, i]:4.2f}\")\n",
    "    \n",
    "pprofs_mean = pprofits.mean(1)\n",
    "gprofs_mean = gprofits.mean(1)\n",
    "f1_mean = metrics.mean(1)\n",
    "\n",
    "print(gprofs_mean, \" -> \", pprofs_mean)\n",
    "print((pprofs_mean - gprofs_mean)/abs(gprofs_mean))\n",
    "print(f\"mae_train: {f1_mean[0]:4.2f} mae_test: {f1_mean[1]:4.2f} ration: {f1_mean[1]/f1_mean[0]:4.2f}\")\n",
    "print(f\"av. profit boost: {(pprofits.mean() - gprofits.mean())/gprofits.mean()}\")\n",
    "\n",
    "plt.figure(figsize=(20, 3))\n",
    "plt.subplot(1, 2, 1)\n",
    "plt.plot(p_train[:100], \".\")\n",
    "plt.bar(np.arange(100), y_train[:100], width=[1]*100, alpha=0.4)\n",
    "plt.plot([0, 100], [threshold, threshold])\n",
    "plt.subplot(1, 2, 2)\n",
    "plt.plot(p_test[:100], \".\")\n",
    "plt.bar(np.arange(100), y_test[:100], width=[1]*100, alpha=0.4)\n",
    "plt.plot([0, 100], [threshold, threshold])"
   ]
  },
  {
   "cell_type": "code",
   "execution_count": 28,
   "metadata": {},
   "outputs": [
    {
     "name": "stdout",
     "output_type": "stream",
     "text": [
      "000 profit M5 :   +0.0 ->    +0.0 --\n",
      "000 profit M15:+2070.7 -> +2105.7 OK\n",
      "000 profit H1 : +608.0 ->  +544.9 --\n",
      "[   0.         2070.67844542  607.97978158]  ->  [   0.         2105.68035757  544.90159049]\n",
      "[        nan  0.0169036  -0.10375047]\n",
      "av. profit boost: -0.010481471149101678\n"
     ]
    },
    {
     "name": "stderr",
     "output_type": "stream",
     "text": [
      "/var/folders/kw/hd5pllps0vs0ln9s5xlr768w0000gn/T/ipykernel_10347/4162104487.py:12: RuntimeWarning: invalid value encountered in divide\n",
      "  print((pprofs_mean - gprofs_mean)/abs(gprofs_mean))\n"
     ]
    },
    {
     "data": {
      "text/plain": [
       "[<matplotlib.lines.Line2D at 0x168ac5750>]"
      ]
     },
     "execution_count": 28,
     "metadata": {},
     "output_type": "execute_result"
    },
    {
     "data": {
      "image/png": "[encoded data removed]",
      "text/plain": [
       "<Figure size 2000x300 with 2 Axes>"
      ]
     },
     "metadata": {},
     "output_type": "display_data"
    }
   ],
   "source": [
    "threshold = -0.5\n",
    "for j in range(3):\n",
    "    ids = tf_test == j\n",
    "    pprofits[j, i] = (profs_test[ids]*(p_test[ids]>threshold)).sum()\n",
    "    gprofits[j, i] = profs_test[ids].sum()\n",
    "    print(f\"{i:03} profit {id2tf[j]:3}:{gprofits[j, i]:+7.1f} -> {pprofits[j, i]:+7.1f} {'OK' if pprofits[j, i] > gprofits[j, i] else '--'}\")\n",
    "    \n",
    "pprofs_mean = pprofits.mean(1)\n",
    "gprofs_mean = gprofits.mean(1)\n",
    "\n",
    "print(gprofs_mean, \" -> \", pprofs_mean)\n",
    "print((pprofs_mean - gprofs_mean)/abs(gprofs_mean))\n",
    "print(f\"av. profit boost: {(pprofits.mean() - gprofits.mean())/gprofits.mean()}\")\n",
    "\n",
    "plt.figure(figsize=(20, 3))\n",
    "plt.subplot(1, 2, 1)\n",
    "plt.plot(p_train[:100], \".\")\n",
    "plt.bar(np.arange(100), y_train[:100], width=[1]*100, alpha=0.4)\n",
    "plt.plot([0, 100], [threshold, threshold])\n",
    "plt.subplot(1, 2, 2)\n",
    "plt.plot(p_test[:100], \".\")\n",
    "plt.bar(np.arange(100), y_test[:100], width=[1]*100, alpha=0.4)\n",
    "plt.plot([0, 100], [threshold, threshold])"
   ]
  },
  {
   "cell_type": "code",
   "execution_count": 26,
   "metadata": {},
   "outputs": [
    {
     "data": {
      "text/plain": [
       "{1, 2, 3}"
      ]
     },
     "execution_count": 26,
     "metadata": {},
     "output_type": "execute_result"
    }
   ],
   "source": [
    "set(X_train[:, -1].astype(int)).intersection(set(X_test[:, -1].astype(int)))"
   ]
  },
  {
   "cell_type": "code",
   "execution_count": 114,
   "metadata": {},
   "outputs": [
    {
     "name": "stdout",
     "output_type": "stream",
     "text": [
      "0.0464 0.0397 0.0337 0.0634 0.0785 0.0459 0.0605 0.0414 0.0536 0.0481 0.0664 0.0818 0.0548 0.0591 0.0520 0.0000 0.0010 0.0000 0.0000 0.0000 0.0000 0.0000 0.0000 0.0650 0.0530 0.0200 0.0062 0.0002 0.0001 0.0001 0.0005 0.0016 0.0009 0.0008 0.0002 0.0000 0.0000 0.0000 0.0000 0.0076 0.0173\n"
     ]
    }
   ],
   "source": [
    "print(\" \".join(map(\"{:6.4f}\".format, model.feature_importances_)))"
   ]
  },
  {
   "cell_type": "code",
   "execution_count": 391,
   "metadata": {},
   "outputs": [
    {
     "data": {
      "text/plain": [
       "(1112, 3653, 3682, 3682)"
      ]
     },
     "execution_count": 391,
     "metadata": {},
     "output_type": "execute_result"
    }
   ],
   "source": [
    "y_test.sum(), (p_test>threshold).sum(), p_test.shape[0], y_test.shape[0]"
   ]
  },
  {
   "cell_type": "code",
   "execution_count": null,
   "metadata": {},
   "outputs": [],
   "source": [
    "import mplfinance as mpf\n",
    "\n",
    "ticker = \"GAZP\"\n",
    "tf = \"H1\"\n",
    "hist_pd, hist = DataParser(\n",
    "    EasyDict(\n",
    "        date_start=\"2008-01-01\",\n",
    "        period=tf,\n",
    "        ticker=ticker,\n",
    "        data_type=\"metatrader\"\n",
    "        )).load()\n",
    "\n",
    "for i in ids_test:\n",
    "    pos = poslist[i]\n",
    "    if pos.ticker == ticker:\n",
    "        prediction = model.predict_proba([X[i, :-1]])[0][1]\n",
    "        if prediction < threshold:\n",
    "            print(pos.ticker, pos.open_date, prediction)\n",
    "            d2 = pd.to_datetime(pos.close_date)\n",
    "            d1 = pd.to_datetime(pos.open_date)\n",
    "            d0 = d1 - pd.DateOffset(days=3)\n",
    "            hist2plot = hist_pd.loc[d0:d2]\n",
    "            fig = mpf.plot(hist2plot, \n",
    "                type='candle', \n",
    "                block=False)"
   ]
  },
  {
   "cell_type": "code",
   "execution_count": 47,
   "metadata": {},
   "outputs": [
    {
     "data": {
      "text/plain": [
       "array([[0.49287947, 0.50712053]])"
      ]
     },
     "execution_count": 47,
     "metadata": {},
     "output_type": "execute_result"
    }
   ],
   "source": [
    "prediction"
   ]
  }
 ],
 "metadata": {
  "kernelspec": {
   "display_name": "Python 3.10.11 ('base')",
   "language": "python",
   "name": "python3"
  },
  "language_info": {
   "codemirror_mode": {
    "name": "ipython",
    "version": 3
   },
   "file_extension": ".py",
   "mimetype": "text/x-python",
   "name": "python",
   "nbconvert_exporter": "python",
   "pygments_lexer": "ipython3",
   "version": "3.10.11"
  },
  "orig_nbformat": 4,
  "vscode": {
   "interpreter": {
    "hash": "fee188bb3a88b2f91c21b23bf544ec11647f6207f57c38bc925e29c2adb397fe"
   }
  }
 },
 "nbformat": 4,
 "nbformat_minor": 2
}
