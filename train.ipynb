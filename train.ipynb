{
 "cells": [
  {
   "cell_type": "code",
   "execution_count": 209,
   "metadata": {},
   "outputs": [
    {
     "name": "stdout",
     "output_type": "stream",
     "text": [
      "optimization/btest000.pickle\n",
      "optimization/btest001.pickle\n",
      "optimization/btest002.pickle\n",
      "optimization/btest003.pickle\n",
      "optimization/btest004.pickle\n",
      "optimization/btest005.pickle\n",
      "optimization/btest006.pickle\n",
      "optimization/btest007.pickle\n",
      "optimization/btest008.pickle\n",
      "optimization/btest009.pickle\n"
     ]
    }
   ],
   "source": [
    "import pickle\n",
    "from pathlib import Path\n",
    "from easydict import EasyDict\n",
    "import pandas as pd\n",
    "from matplotlib import pyplot as plt\n",
    "\n",
    "pd.set_option('display.max_rows', 500)\n",
    "pd.set_option('display.max_columns', 500)\n",
    "pd.set_option('display.width', 1000)\n",
    "\n",
    "cfgs, btests = [], []\n",
    "for p in sorted(Path(\"optimization\").glob(\"*.pickle\")):\n",
    "    cfg, btest = pickle.load(open(p, \"rb\"))\n",
    "    cfgs.append(cfg)\n",
    "    btests.append(btest)\n",
    "    print(p)"
   ]
  },
  {
   "cell_type": "code",
   "execution_count": 247,
   "metadata": {},
   "outputs": [
    {
     "name": "stdout",
     "output_type": "stream",
     "text": [
      "SBER 355\n",
      "ROSN 234\n",
      "LKOH 240\n",
      "GMKN 244\n",
      "GAZP 215\n",
      "SBER 780\n",
      "ROSN 645\n",
      "LKOH 635\n",
      "GMKN 661\n",
      "GAZP 634\n",
      "(2218, 104) (2415, 104) (4633, 104) (2218,) (2415,) (4633,)\n"
     ]
    }
   ],
   "source": [
    "from backtest import DataParser, MovingWindow\n",
    "import numpy as np\n",
    "import lightgbm as lgb\n",
    "from lightgbm import log_evaluation\n",
    "from sklearn.metrics import mean_absolute_error, f1_score\n",
    "from sklearn.model_selection import train_test_split\n",
    "from sklearn.preprocessing import StandardScaler\n",
    "from sklearn.ensemble import RandomForestClassifier, RandomForestRegressor\n",
    "from indicators import ZigZag\n",
    "\n",
    "\n",
    "def lgb_f1_score(y_hat, data):\n",
    "    y_true = data.get_label()\n",
    "    y_hat = np.round(y_hat) # scikits f1 doesn't like probabilities\n",
    "    return 'f1', f1_score(y_true, y_hat), False\n",
    "\n",
    "fsize = 20\n",
    "tfdict = {\"M5\":0, \"M15\":1, \"H1\":2}\n",
    "zz = ZigZag()\n",
    "Xl, Xs, yl, ys, odates, poslist, targets = [], [], [], [], [], [], []\n",
    "for btest in btests:\n",
    "    print(btest.cfg.ticker, end=\" \")\n",
    "    hist_pd, hist = DataParser(btest.cfg).load()\n",
    "    mw = MovingWindow(hist, fsize+2)\n",
    "    print(len(btest.positions))\n",
    "    for pos in btest.positions[1:]:\n",
    "        f, _ = mw(pos.open_indx)\n",
    "        fo = f.Open[:-2]/f.Open[-2]\n",
    "        fc = f.Close[:-2]/f.Open[:-2]\n",
    "        fh = f.High[:-2]/f.Open[:-2]\n",
    "        fl = f.Low[:-2]/f.Open[:-2]\n",
    "        fv = f.Volume[:-2]\n",
    "        odate = pd.to_datetime(pos.open_date)\n",
    "        odate = odate.year*10000 + odate.month*100 + odate.day\n",
    "        if pos.dir == 1:\n",
    "            Xl.append(np.hstack([fc, fo, fl, fh, fv, btest.cfg.stops_processor.func.cfg.sl, btest.cfg.stops_processor.func.cfg.tp, odate, tfdict[btest.cfg.period]]))\n",
    "            yl.append(pos.profit)\n",
    "        else:\n",
    "            Xs.append(np.hstack([2-fc, 2-fo, 2-fl, 2-fh, fv, btest.cfg.stops_processor.func.cfg.sl, btest.cfg.stops_processor.func.cfg.tp, odate, tfdict[btest.cfg.period]])) \n",
    "            ys.append(pos.profit) \n",
    "        poslist.append(pos)\n",
    "        targets.append(pos.dir*(hist.Close[pos.open_indx:pos.open_indx+fsize].mean() - hist.Open[pos.open_indx])/hist.Open[pos.open_indx]*100)\n",
    "        \n",
    "Xs, Xl = np.array(Xs), np.array(Xl)\n",
    "ys, yl = np.array(ys), np.array(yl)\n",
    "odates = np.array(odates)\n",
    "targets = np.clip(np.array(targets), -3, 3)\n",
    "\n",
    "\n",
    "# ids2add = np.random.choice(np.arange(Xs.shape[0]), size=Xl.shape[0] - Xs.shape[0])\n",
    "# Xs = np.vstack([Xs, Xs[ids2add]])\n",
    "# ys = np.hstack([ys, ys[ids2add]])\n",
    "X = np.vstack([Xs, Xl])\n",
    "y = np.hstack([ys, yl])\n",
    "print(Xs.shape, Xl.shape, X.shape, ys.shape, yl.shape, y.shape)"
   ]
  },
  {
   "cell_type": "code",
   "execution_count": 248,
   "metadata": {},
   "outputs": [
    {
     "name": "stdout",
     "output_type": "stream",
     "text": [
      "1.0034 0.9996 1.0021 1.0021 0.9998 0.9983 1.0002 0.9974 1.0004 1.0006 0.9991 1.0011 1.0000 1.0002 1.0009 1.0032 0.9983 1.0015 1.0002 0.9998 0.9914 0.9951 0.9946 0.9968 0.9989 0.9987 0.9972 0.9974 0.9948 0.9955 0.9961 0.9948 0.9957 0.9957 0.9963 0.9972 1.0002 0.9985 1.0000 1.0002 1.0043 1.0002 1.0036 1.0024 1.0019 1.0011 1.0024 1.0002 1.0015 1.0006 1.0000 1.0011 1.0024 1.0017 1.0009 1.0034 1.0002 1.0021 1.0006 1.0002 0.9998 0.9989 0.9991 0.9991 0.9994 0.9976 0.9991 0.9970 0.9996 0.9994 0.9987 0.9998 0.9996 0.9996 0.9981 1.0000 0.9976 0.9998 0.9998 0.9991 26326.0000 15390.0000 29410.0000 22526.0000 15903.0000 33828.0000 11675.0000 1726.0000 2049.0000 2072.0000 886.0000 2536.0000 3599.0000 2099.0000 3132.0000 15034.0000 27315.0000 12141.0000 9480.0000 3448.0000 2.0000 100.0000 20140929.0000 1.0000\n"
     ]
    }
   ],
   "source": [
    "print(\" \".join(map(\"{:6.4f}\".format, X[1000])))"
   ]
  },
  {
   "cell_type": "code",
   "execution_count": 239,
   "metadata": {},
   "outputs": [
    {
     "name": "stdout",
     "output_type": "stream",
     "text": [
      "1.1157 -0.7316 -0.4996 0.4355 0.3155 -0.6548 1.2582 -1.2008 0.1169 3.0000\n"
     ]
    }
   ],
   "source": [
    "print(\" \".join(map(\"{:6.4f}\".format, targets[:10])))"
   ]
  },
  {
   "cell_type": "code",
   "execution_count": 240,
   "metadata": {},
   "outputs": [
    {
     "name": "stdout",
     "output_type": "stream",
     "text": [
      "-1.4962 -1.9382 -1.8373 -1.8239 -0.2936 -0.5090 0.0904 -1.4245 -2.0000 -2.0000\n"
     ]
    }
   ],
   "source": [
    "print(\" \".join(map(\"{:6.4f}\".format, y[:10])))"
   ]
  },
  {
   "cell_type": "code",
   "execution_count": 249,
   "metadata": {},
   "outputs": [
    {
     "name": "stdout",
     "output_type": "stream",
     "text": [
      "3473 1160\n",
      "000 profit M5 :   +0.0 ->    +0.0 --\n",
      "000 profit M15: +284.8 ->  +290.2 OK\n",
      "000 profit H1 : +223.6 ->  +224.6 OK\n",
      "000 mae_train: 0.69 mae_test: 0.70\n",
      "3473 1160\n",
      "001 profit M5 :   +0.0 ->    +0.0 --\n",
      "001 profit M15: +211.6 ->  +220.3 OK\n",
      "001 profit H1 : +138.2 ->   +87.3 --\n",
      "001 mae_train: 0.69 mae_test: 0.71\n",
      "3473 1160\n",
      "002 profit M5 :   +0.0 ->    +0.0 --\n",
      "002 profit M15: +393.0 ->  +404.2 OK\n",
      "002 profit H1 : +236.3 ->  +193.0 --\n",
      "002 mae_train: 0.70 mae_test: 0.68\n",
      "3474 1159\n",
      "003 profit M5 :   +0.0 ->    +0.0 --\n",
      "003 profit M15: +253.0 ->  +259.7 OK\n",
      "003 profit H1 : +100.8 ->   +60.3 --\n",
      "003 mae_train: 0.69 mae_test: 0.70\n",
      "3474 1159\n",
      "004 profit M5 :   +0.0 ->    +0.0 --\n",
      "004 profit M15: +302.3 ->  +305.8 OK\n",
      "004 profit H1 : +112.2 ->   +66.7 --\n",
      "004 mae_train: 0.69 mae_test: 0.70\n",
      "[  0.         288.93035425 162.24403074]  ->  [  0.         296.02761263 126.37527434]\n",
      "[        nan  0.02456391 -0.22107905]\n",
      "mae_train: 0.69 mae_test: 0.70 ration: 1.01\n",
      "av. profit boost: -0.06377023823538587\n"
     ]
    },
    {
     "name": "stderr",
     "output_type": "stream",
     "text": [
      "/var/folders/kw/hd5pllps0vs0ln9s5xlr768w0000gn/T/ipykernel_10347/2397490907.py:82: RuntimeWarning: invalid value encountered in divide\n",
      "  print((pprofs_mean - gprofs_mean)/abs(gprofs_mean))\n"
     ]
    },
    {
     "data": {
      "text/plain": [
       "[<matplotlib.lines.Line2D at 0x28fa08a60>]"
      ]
     },
     "execution_count": 249,
     "metadata": {},
     "output_type": "execute_result"
    },
    {
     "data": {
      "image/png": "[encoded data removed]",
      "text/plain": [
       "<Figure size 2000x300 with 2 Axes>"
      ]
     },
     "metadata": {},
     "output_type": "display_data"
    }
   ],
   "source": [
    "nitrers = 5\n",
    "test_split = 0.25\n",
    "id2tf = {v:k for k, v in tfdict.items()}\n",
    "\n",
    "pprofits, gprofits, metrics = np.zeros((3, nitrers)), np.zeros((3, nitrers)), np.zeros((2, nitrers))\n",
    "for i in range(nitrers):\n",
    "    ids = np.arange(X.shape[0])\n",
    "    # np.random.shuffle(ids)\n",
    "    test_size = int(X.shape[0]*test_split)\n",
    "    ids_test, odates_testset, odates = [], set(), X[:, -2]\n",
    "    while len(ids_test) < test_size:\n",
    "        ix = np.random.randint(0, X.shape[0])\n",
    "        d = odates[ix]\n",
    "        if d not in odates_testset:\n",
    "            ii = ids[odates == d]\n",
    "            ids_test += ii.tolist()\n",
    "            odates_testset.add(d)\n",
    "    ids_train = [ix for ix in ids if ix not in ids_test]   \n",
    "    np.random.shuffle(ids_train) \n",
    "    np.random.shuffle(ids_test) \n",
    "        \n",
    "    # ids_test, ids_train = ids[:test_size], ids[test_size:]\n",
    "    X_train, X_test, y_train, y_test, profs_test = X[ids_train], X[ids_test], targets[ids_train], targets[ids_test], y[ids_test]\n",
    "    tf_test = X_test[:, -1]\n",
    "    X_train = X_train[:, :-2]\n",
    "    X_test = X_test[:, :-2]\n",
    "    # profs_test = y_test\n",
    "    # profs_train = y_train\n",
    "    # y_train = (y_train > 0).astype(int)\n",
    "    # y_test = (y_test > 0).astype(int)\n",
    "\n",
    "    # scaler = StandardScaler() \n",
    "    # scaler.fit(X_train) \n",
    "    # X_train = scaler.transform(X_train) \n",
    "    # X_test = scaler.transform(X_test) \n",
    "    \n",
    "    # X_add = X_train + np.random.random(X_train.shape)*0.1\n",
    "    # X_train = np.vstack([X_train, X_add])\n",
    "    # y_train = np.hstack([y_train, y_train])\n",
    "    \n",
    "    print(X_train.shape[0], X_test.shape[0])\n",
    "    # evals_result = {}\n",
    "    # model = lgb.train(params=dict(objective=\"binary\", \n",
    "    #                             # metric=\"auc\",\n",
    "    #                             # num_leaves=2, \n",
    "    #                             max_depth=3,\n",
    "    #                             verbose=-1), \n",
    "    #                   train_set=lgb.Dataset(X_train, label=y_train),\n",
    "    #                   valid_sets=[lgb.Dataset(X_test, label=y_test)],\n",
    "    #                   num_boost_round=500,\n",
    "    #                   feval=lgb_f1_score,\n",
    "    #                   # evals_result=evals_result,\n",
    "    #                   # verbose_eval=False,\n",
    "    #                   callbacks=[log_evaluation(-1)]\n",
    "    #                   )\n",
    "    # lgb.plot_metric(evals_result, metric='f1')\n",
    "\n",
    "    model = RandomForestRegressor(max_depth=4, n_estimators=100, min_samples_leaf=3)\n",
    "    model.fit(X_train, y_train)\n",
    "    threshold = -0.1\n",
    "    if len(X_train):\n",
    "        # p_train = model.predict(X_train)\n",
    "        p_train = model.predict(X_train)\n",
    "        # threshold = np.percentile(p_train, 10)\n",
    "        metrics[0, i] = mean_absolute_error(p_train, y_train)\n",
    "    # p_test = model.predict(X_test)\n",
    "    p_test = model.predict(X_test)\n",
    "    metrics[1, i] = mean_absolute_error(p_test, y_test)\n",
    "\n",
    "    for j in range(3):\n",
    "        ids = tf_test == j\n",
    "        pprofits[j, i] = (profs_test[ids]*(p_test[ids]>threshold)).sum()\n",
    "        gprofits[j, i] = profs_test[ids].sum()\n",
    "        print(f\"{i:03} profit {id2tf[j]:3}:{gprofits[j, i]:+7.1f} -> {pprofits[j, i]:+7.1f} {'OK' if pprofits[j, i] > gprofits[j, i] else '--'}\")\n",
    "    print(f\"{i:03} mae_train: {metrics[0, i]:4.2f} mae_test: {metrics[1, i]:4.2f}\")\n",
    "    \n",
    "pprofs_mean = pprofits.mean(1)\n",
    "gprofs_mean = gprofits.mean(1)\n",
    "f1_mean = metrics.mean(1)\n",
    "\n",
    "print(gprofs_mean, \" -> \", pprofs_mean)\n",
    "print((pprofs_mean - gprofs_mean)/abs(gprofs_mean))\n",
    "print(f\"mae_train: {f1_mean[0]:4.2f} mae_test: {f1_mean[1]:4.2f} ration: {f1_mean[1]/f1_mean[0]:4.2f}\")\n",
    "print(f\"av. profit boost: {(pprofits.mean() - gprofits.mean())/gprofits.mean()}\")\n",
    "\n",
    "plt.figure(figsize=(20, 3))\n",
    "plt.subplot(1, 2, 1)\n",
    "plt.plot(p_train[:100], \".\")\n",
    "plt.bar(np.arange(100), y_train[:100], width=[1]*100, alpha=0.4)\n",
    "plt.plot([0, 100], [threshold, threshold])\n",
    "plt.subplot(1, 2, 2)\n",
    "plt.plot(p_test[:100], \".\")\n",
    "plt.bar(np.arange(100), y_test[:100], width=[1]*100, alpha=0.4)\n",
    "plt.plot([0, 100], [threshold, threshold])"
   ]
  },
  {
   "cell_type": "code",
   "execution_count": 244,
   "metadata": {},
   "outputs": [
    {
     "name": "stdout",
     "output_type": "stream",
     "text": [
      "004 profit M5 :   +0.0 ->    +0.0 --\n",
      "004 profit M15: +188.0 ->  +177.7 --\n",
      "004 profit H1 :  +47.0 ->   +53.8 OK\n",
      "[  0.         160.75986433  68.13854079]  ->  [  0.         162.53486771  72.02219314]\n",
      "[       nan 0.01104133 0.05699641]\n",
      "av. profit boost: 0.024721254472595735\n"
     ]
    },
    {
     "name": "stderr",
     "output_type": "stream",
     "text": [
      "/var/folders/kw/hd5pllps0vs0ln9s5xlr768w0000gn/T/ipykernel_10347/4191841669.py:12: RuntimeWarning: invalid value encountered in divide\n",
      "  print((pprofs_mean - gprofs_mean)/abs(gprofs_mean))\n"
     ]
    },
    {
     "data": {
      "text/plain": [
       "[<matplotlib.lines.Line2D at 0x292d70e80>]"
      ]
     },
     "execution_count": 244,
     "metadata": {},
     "output_type": "execute_result"
    },
    {
     "data": {
      "image/png": "[encoded data removed]",
      "text/plain": [
       "<Figure size 2000x300 with 2 Axes>"
      ]
     },
     "metadata": {},
     "output_type": "display_data"
    }
   ],
   "source": [
    "threshold = -0.3\n",
    "for j in range(3):\n",
    "    ids = tf_test == j\n",
    "    pprofits[j, i] = (profs_test[ids]*(p_test[ids]>threshold)).sum()\n",
    "    gprofits[j, i] = profs_test[ids].sum()\n",
    "    print(f\"{i:03} profit {id2tf[j]:3}:{gprofits[j, i]:+7.1f} -> {pprofits[j, i]:+7.1f} {'OK' if pprofits[j, i] > gprofits[j, i] else '--'}\")\n",
    "    \n",
    "pprofs_mean = pprofits.mean(1)\n",
    "gprofs_mean = gprofits.mean(1)\n",
    "\n",
    "print(gprofs_mean, \" -> \", pprofs_mean)\n",
    "print((pprofs_mean - gprofs_mean)/abs(gprofs_mean))\n",
    "print(f\"av. profit boost: {(pprofits.mean() - gprofits.mean())/gprofits.mean()}\")\n",
    "\n",
    "plt.figure(figsize=(20, 3))\n",
    "plt.subplot(1, 2, 1)\n",
    "plt.plot(p_train[:100], \".\")\n",
    "plt.bar(np.arange(100), y_train[:100], width=[1]*100, alpha=0.4)\n",
    "plt.plot([0, 100], [threshold, threshold])\n",
    "plt.subplot(1, 2, 2)\n",
    "plt.plot(p_test[:100], \".\")\n",
    "plt.bar(np.arange(100), y_test[:100], width=[1]*100, alpha=0.4)\n",
    "plt.plot([0, 100], [threshold, threshold])"
   ]
  },
  {
   "cell_type": "code",
   "execution_count": 33,
   "metadata": {},
   "outputs": [
    {
     "data": {
      "text/plain": [
       "{1, 2, 4}"
      ]
     },
     "execution_count": 33,
     "metadata": {},
     "output_type": "execute_result"
    }
   ],
   "source": [
    "set(X_train[:, -1].astype(int)).intersection(set(X_test[:, -1].astype(int)))"
   ]
  },
  {
   "cell_type": "code",
   "execution_count": 34,
   "metadata": {},
   "outputs": [
    {
     "name": "stdout",
     "output_type": "stream",
     "text": [
      "0.0167 0.0175 0.0179 0.1210 0.1090 0.1112 0.0173 0.0162 0.0163 0.0172 0.0164 0.0164 0.0884 0.0872 0.0938 0.1235 0.1140\n"
     ]
    }
   ],
   "source": [
    "print(\" \".join(map(\"{:6.4f}\".format, model.feature_importances_)))"
   ]
  },
  {
   "cell_type": "code",
   "execution_count": 391,
   "metadata": {},
   "outputs": [
    {
     "data": {
      "text/plain": [
       "(1112, 3653, 3682, 3682)"
      ]
     },
     "execution_count": 391,
     "metadata": {},
     "output_type": "execute_result"
    }
   ],
   "source": [
    "y_test.sum(), (p_test>threshold).sum(), p_test.shape[0], y_test.shape[0]"
   ]
  },
  {
   "cell_type": "code",
   "execution_count": null,
   "metadata": {},
   "outputs": [],
   "source": [
    "import mplfinance as mpf\n",
    "\n",
    "ticker = \"GAZP\"\n",
    "tf = \"H1\"\n",
    "hist_pd, hist = DataParser(\n",
    "    EasyDict(\n",
    "        date_start=\"2008-01-01\",\n",
    "        period=tf,\n",
    "        ticker=ticker,\n",
    "        data_type=\"metatrader\"\n",
    "        )).load()\n",
    "\n",
    "for i in ids_test:\n",
    "    pos = poslist[i]\n",
    "    if pos.ticker == ticker:\n",
    "        prediction = model.predict_proba([X[i, :-1]])[0][1]\n",
    "        if prediction < threshold:\n",
    "            print(pos.ticker, pos.open_date, prediction)\n",
    "            d2 = pd.to_datetime(pos.close_date)\n",
    "            d1 = pd.to_datetime(pos.open_date)\n",
    "            d0 = d1 - pd.DateOffset(days=3)\n",
    "            hist2plot = hist_pd.loc[d0:d2]\n",
    "            fig = mpf.plot(hist2plot, \n",
    "                type='candle', \n",
    "                block=False)"
   ]
  },
  {
   "cell_type": "code",
   "execution_count": 47,
   "metadata": {},
   "outputs": [
    {
     "data": {
      "text/plain": [
       "array([[0.49287947, 0.50712053]])"
      ]
     },
     "execution_count": 47,
     "metadata": {},
     "output_type": "execute_result"
    }
   ],
   "source": [
    "prediction"
   ]
  }
 ],
 "metadata": {
  "kernelspec": {
   "display_name": "Python 3.10.11 ('base')",
   "language": "python",
   "name": "python3"
  },
  "language_info": {
   "codemirror_mode": {
    "name": "ipython",
    "version": 3
   },
   "file_extension": ".py",
   "mimetype": "text/x-python",
   "name": "python",
   "nbconvert_exporter": "python",
   "pygments_lexer": "ipython3",
   "version": "3.10.11"
  },
  "orig_nbformat": 4,
  "vscode": {
   "interpreter": {
    "hash": "fee188bb3a88b2f91c21b23bf544ec11647f6207f57c38bc925e29c2adb397fe"
   }
  }
 },
 "nbformat": 4,
 "nbformat_minor": 2
}
