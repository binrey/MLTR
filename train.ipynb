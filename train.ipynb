{
 "cells": [
  {
   "cell_type": "code",
   "execution_count": 2,
   "metadata": {},
   "outputs": [
    {
     "name": "stdout",
     "output_type": "stream",
     "text": [
      "----------------------------------------------------------------\n",
      "        Layer (type)               Output Shape         Param #\n",
      "================================================================\n",
      "            Conv2d-1             [-1, 4, 7, 32]             116\n",
      "         MaxPool2d-2             [-1, 4, 7, 16]               0\n",
      "            Conv2d-3             [-1, 8, 7, 16]             904\n",
      "         MaxPool2d-4              [-1, 8, 7, 8]               0\n",
      "            Conv2d-5             [-1, 16, 7, 8]           3,600\n",
      "         MaxPool2d-6             [-1, 16, 7, 4]               0\n",
      "            Conv2d-7             [-1, 32, 1, 1]          14,368\n",
      "            Linear-8                    [-1, 1]              33\n",
      "================================================================\n",
      "Total params: 19,021\n",
      "Trainable params: 19,021\n",
      "Non-trainable params: 0\n",
      "----------------------------------------------------------------\n",
      "Input size (MB): 0.00\n",
      "Forward/backward pass size (MB): 0.03\n",
      "Params size (MB): 0.07\n",
      "Estimated Total Size (MB): 0.10\n",
      "----------------------------------------------------------------\n",
      "None\n"
     ]
    }
   ],
   "source": [
    "# import timm\n",
    "import torch.optim as optim\n",
    "import torch.nn as nn\n",
    "# model = timm.create_model('resnet18', in_chans=1, num_classes=1).float().to(\"mps\")\n",
    "import torch\n",
    "import torch.nn as nn\n",
    "import torch.nn.functional as F\n",
    "from torchsummary import summary\n",
    "\n",
    "class Net(nn.Module):\n",
    "    def __init__(self, nf):\n",
    "        super().__init__()\n",
    "        self.conv1 = nn.Conv2d(1, 4, (nf, 4), padding=\"same\")\n",
    "        self.conv2 = nn.Conv2d(4, 8, (nf, 4), padding=\"same\")\n",
    "        self.conv3 = nn.Conv2d(8, 16, (nf, 4), padding=\"same\")\n",
    "        self.conv4 = nn.Conv2d(16, 32, (nf, 4), padding=\"valid\")\n",
    "        \n",
    "        self.pool = nn.MaxPool2d((1, 2), (1, 2))\n",
    "        self.fc1 = nn.Linear(32, 1)\n",
    "        self.bn1 = nn.BatchNorm2d(4)\n",
    "        self.bn2 = nn.BatchNorm2d(8)\n",
    "\n",
    "    def forward(self, x):\n",
    "        x = self.pool(F.relu((self.conv1(x))))\n",
    "        x = self.pool(F.relu((self.conv2(x))))\n",
    "        x = self.pool(F.relu((self.conv3(x))))\n",
    "        x = F.relu((self.conv4(x)))\n",
    "        x = torch.flatten(x, 1) # flatten all dimensions except batch\n",
    "        x = self.fc1(x)\n",
    "        return x\n",
    "model = Net(7).to(\"cuda\")\n",
    "print(summary(model, (1, 7, 32)))"
   ]
  },
  {
   "cell_type": "code",
   "execution_count": 3,
   "metadata": {},
   "outputs": [],
   "source": [
    "def get_data(test_split=0.25):\n",
    "    ids = np.arange(X.shape[0])\n",
    "    # np.random.shuffle(ids)\n",
    "    test_size = int(X.shape[0]*test_split)\n",
    "    ids_test, odates_testset, odates = [], set(), X[:, 0, -2, 0]\n",
    "    while len(ids_test) < test_size:\n",
    "        ix = np.random.randint(0, X.shape[0])\n",
    "        d = odates[ix]\n",
    "        if d not in odates_testset:\n",
    "            ii = ids[odates == d]\n",
    "            ids_test += ii.tolist()\n",
    "            odates_testset.add(d)\n",
    "    ids_train = [ix for ix in ids if ix not in ids_test]   \n",
    "    np.random.shuffle(ids_train) \n",
    "    np.random.shuffle(ids_test) \n",
    "        \n",
    "    # ids_test, ids_train = ids[:test_size], ids[test_size:]\n",
    "    X_train, X_test, y_train, y_test, profs_test = X[ids_train], X[ids_test], y[ids_train], y[ids_test], y[ids_test]\n",
    "    tf_test = X_test[:, 0, -1, 0]\n",
    "    X_train = X_train[:, :, :-2, :]\n",
    "    X_test = X_test[:, :, :-2, :]\n",
    "    \n",
    "    y_train = np.clip(y_train, -5, 0)\n",
    "    y_test = np.clip(y_test, -5, 0)\n",
    "    \n",
    "    return X_train, X_test, y_train, y_test, profs_test, tf_test\n",
    "\n",
    "class CustomImageDataset(torch.utils.data.Dataset):\n",
    "    def __init__(self, X, y):\n",
    "        self.img_labels = y\n",
    "        self.imgs = X\n",
    "\n",
    "    def __len__(self):\n",
    "        return len(self.img_labels)\n",
    "\n",
    "    def __getitem__(self, idx):\n",
    "        image = self.imgs[idx]\n",
    "        label = self.img_labels[idx]\n",
    "        return image, label"
   ]
  },
  {
   "cell_type": "code",
   "execution_count": 4,
   "metadata": {},
   "outputs": [
    {
     "name": "stdout",
     "output_type": "stream",
     "text": [
      "optimization/btest000.pickle\n",
      "optimization/btest001.pickle\n",
      "optimization/btest002.pickle\n",
      "optimization/btest003.pickle\n",
      "optimization/btest004.pickle\n",
      "optimization/btest005.pickle\n",
      "optimization/btest006.pickle\n",
      "optimization/btest007.pickle\n",
      "optimization/btest008.pickle\n",
      "optimization/btest009.pickle\n",
      "optimization/btest010.pickle\n",
      "optimization/btest011.pickle\n",
      "optimization/btest012.pickle\n",
      "optimization/btest013.pickle\n",
      "optimization/btest014.pickle\n",
      "optimization/btest015.pickle\n",
      "optimization/btest016.pickle\n",
      "optimization/btest017.pickle\n"
     ]
    }
   ],
   "source": [
    "import pickle\n",
    "from pathlib import Path\n",
    "from easydict import EasyDict\n",
    "import pandas as pd\n",
    "from matplotlib import pyplot as plt\n",
    "\n",
    "pd.set_option('display.max_rows', 500)\n",
    "pd.set_option('display.max_columns', 500)\n",
    "pd.set_option('display.width', 1000)\n",
    "\n",
    "cfgs, btests = [], []\n",
    "for p in sorted(Path(\"optimization\").glob(\"*.pickle\")):\n",
    "    cfg, btest = pickle.load(open(p, \"rb\"))\n",
    "    cfgs.append(cfg)\n",
    "    btests.append(btest)\n",
    "    print(p)"
   ]
  },
  {
   "cell_type": "code",
   "execution_count": 9,
   "metadata": {},
   "outputs": [
    {
     "name": "stdout",
     "output_type": "stream",
     "text": [
      "BTCUSD 497\n",
      "ETHUSD 607\n",
      "BTCUSD 355\n",
      "ETHUSD 433\n",
      "BTCUSD 297\n",
      "ETHUSD 359\n",
      "BTCUSD 649\n",
      "ETHUSD 740\n",
      "BTCUSD 479\n",
      "ETHUSD 568\n",
      "BTCUSD 424\n",
      "ETHUSD 501\n",
      "BTCUSD 843\n",
      "ETHUSD 903\n",
      "BTCUSD 697\n",
      "ETHUSD 757\n",
      "BTCUSD 629\n",
      "ETHUSD 677\n",
      "(10379, 1, 8, 32) (10379,)\n"
     ]
    }
   ],
   "source": [
    "from backtest import DataParser, MovingWindow\n",
    "import numpy as np\n",
    "import lightgbm as lgb\n",
    "from lightgbm import log_evaluation\n",
    "from sklearn.metrics import mean_absolute_error, mean_squared_error, f1_score\n",
    "from sklearn.model_selection import train_test_split\n",
    "from sklearn.preprocessing import StandardScaler\n",
    "from indicators import ZigZag\n",
    "\n",
    "\n",
    "def lgb_f1_score(y_hat, data):\n",
    "    y_true = data.get_label()\n",
    "    y_hat = np.round(y_hat) # scikits f1 doesn't like probabilities\n",
    "    return 'f1', f1_score(y_true, y_hat), False\n",
    "\n",
    "fsize = 32\n",
    "tfdict = {\"M5\":0, \"M15\":1, \"H1\":2}\n",
    "zz = ZigZag()\n",
    "X, y, poslist = [], [], []\n",
    "for btest in btests:\n",
    "    print(btest.cfg.ticker, end=\" \")\n",
    "    hist_pd, hist = DataParser(btest.cfg).load()\n",
    "    mw = MovingWindow(hist, fsize+2)\n",
    "    print(len(btest.positions))\n",
    "    for pos in btest.positions[2:]:\n",
    "        f, _ = mw(pos.open_indx)\n",
    "        fo = f.Open[:-2]/f.Open[-2]\n",
    "        fc = f.Close[:-2]/f.Open[:-2]\n",
    "        fh = f.High[:-2]/f.Open[:-2]\n",
    "        fl = f.Low[:-2]/f.Open[:-2]\n",
    "        fv = f.Volume[:-2]/f.Volume[:-2].mean()/10\n",
    "        odate = pd.to_datetime(pos.open_date)\n",
    "        odate = odate.year*10000 + odate.month*100 + odate.day\n",
    "        if pos.dir > 0:\n",
    "            x = np.vstack([fc, fo, fl, fh])\n",
    "        else:\n",
    "            x = np.vstack([2-fc, 2-fo, 2-fl, 2-fh])\n",
    "        x = x*100 - 100\n",
    "        # print(x.flatten())\n",
    "        x = np.vstack([x, np.ones(x.shape[1])*btest.cfg.stops_processor.func.cfg.sl/6+1])\n",
    "        x = np.vstack([x, np.ones(x.shape[1])*btest.cfg.trailing_stop_rate/0.04+1])\n",
    "        x = np.vstack([x, np.ones(x.shape[1])*odate])\n",
    "        x = np.vstack([x, np.ones(x.shape[1])*tfdict[btest.cfg.period]])\n",
    "        X.append([x])\n",
    "        y.append(pos.profit)\n",
    "        poslist.append(pos)\n",
    "        \n",
    "X, y = np.array(X, dtype=np.float32), np.array(y, dtype=np.float32)\n",
    "print(X.shape, y.shape)"
   ]
  },
  {
   "cell_type": "code",
   "execution_count": 10,
   "metadata": {},
   "outputs": [
    {
     "name": "stdout",
     "output_type": "stream",
     "text": [
      "(7774, 1, 6, 32) (2605, 1, 6, 32) (2605,)\n"
     ]
    },
    {
     "data": {
      "text/plain": [
       "<matplotlib.image.AxesImage at 0x7f1db4f48d90>"
      ]
     },
     "execution_count": 10,
     "metadata": {},
     "output_type": "execute_result"
    },
    {
     "data": {
      "image/png": "[encoded data removed]",
      "text/plain": [
       "<Figure size 640x480 with 1 Axes>"
      ]
     },
     "metadata": {},
     "output_type": "display_data"
    }
   ],
   "source": [
    "np.random.seed(1000)\n",
    "X_train, X_test, y_train, y_test, profs_test, tf_test = get_data()\n",
    "print(X_train.shape, X_test.shape, tf_test.shape)\n",
    "plt.imshow(X_train[0][0][:])"
   ]
  },
  {
   "cell_type": "code",
   "execution_count": 12,
   "metadata": {},
   "outputs": [],
   "source": [
    "def train(model_builder, batch_size):\n",
    "    trainloader = torch.utils.data.DataLoader(CustomImageDataset(X_train, y_train), \n",
    "                                              batch_size=batch_size, \n",
    "                                              shuffle=True)\n",
    "    model = model_builder(6).to(\"cuda\")\n",
    "    # print(summary(model, (1, 6, 32)))\n",
    "    criterion = nn.MSELoss()\n",
    "    optimizer = optim.Adam(model.parameters(), lr=0.0001)\n",
    "    for epoch in range(30):  # loop over the dataset multiple times\n",
    "        running_loss = 0.0\n",
    "        for i, data in enumerate(trainloader, 0):\n",
    "            # get the inputs; data is a list of [inputs, labels]\n",
    "            inputs, labels = data\n",
    "\n",
    "            # zero the parameter gradients\n",
    "            optimizer.zero_grad()\n",
    "\n",
    "            # forward + backward + optimize\n",
    "            outputs = model(inputs.float().to(\"cuda\"))\n",
    "            loss = criterion(outputs[:, 0], labels.float().to(\"cuda\"))\n",
    "            loss.backward()\n",
    "            optimizer.step()\n",
    "\n",
    "            # print statistics\n",
    "            running_loss += loss.item()\n",
    "        # loss_test = criterion(model(torch.tensor(X_test).float().to(\"cuda\")), \n",
    "        #                     torch.tensor(y_test).float().to(\"cuda\"))\n",
    "        # print(f\"[{epoch + 1:03d}, {i + 1:5d}] loss train: {running_loss / (i + 1):.3f} | test: {loss_test / (i + 1):.3f}\")\n",
    "        running_loss = 0.0\n",
    "    return model"
   ]
  },
  {
   "cell_type": "code",
   "execution_count": 13,
   "metadata": {},
   "outputs": [
    {
     "name": "stdout",
     "output_type": "stream",
     "text": [
      "000 profit M5 :   +0.0 ->    +0.0 --\n",
      "000 profit M15:   +0.0 ->    +0.0 --\n",
      "000 profit H1 : +576.9 ->  +949.6 OK\n",
      "000 mae_train: 1.08 mae_test: 1.08\n",
      "-------------------------------------------------\n",
      "[         nan          nan 576.91174316]  ->  [        nan         nan 949.5958252]\n",
      "mae_train: 1.08 mae_test: 1.08 ratio: 1.00\n",
      "av. profit boost: 0.6459984329444753\n"
     ]
    },
    {
     "name": "stderr",
     "output_type": "stream",
     "text": [
      "/tmp/ipykernel_17878/3589544198.py:28: RuntimeWarning: Mean of empty slice.\n",
      "  pprofs_mean = pprofits.mean(axis=1, where=pprofits!=0)\n",
      "/home/andrybin/miniconda3/lib/python3.11/site-packages/numpy/core/_methods.py:121: RuntimeWarning: invalid value encountered in divide\n",
      "  ret = um.true_divide(\n",
      "/tmp/ipykernel_17878/3589544198.py:29: RuntimeWarning: Mean of empty slice.\n",
      "  gprofs_mean = gprofits.mean(axis=1, where=gprofits!=0)\n"
     ]
    },
    {
     "name": "stdout",
     "output_type": "stream",
     "text": [
      "001 profit M5 :   +0.0 ->    +0.0 --\n",
      "001 profit M15:   +0.0 ->    +0.0 --\n",
      "001 profit H1 : +989.7 -> +1427.1 OK\n",
      "001 mae_train: 1.07 mae_test: 1.10\n",
      "-------------------------------------------------\n",
      "[         nan          nan 783.32177734]  ->  [          nan           nan 1188.36126709]\n",
      "mae_train: 1.08 mae_test: 1.09 ratio: 1.01\n",
      "av. profit boost: 0.5170793171608042\n"
     ]
    },
    {
     "name": "stderr",
     "output_type": "stream",
     "text": [
      "/tmp/ipykernel_17878/3589544198.py:28: RuntimeWarning: Mean of empty slice.\n",
      "  pprofs_mean = pprofits.mean(axis=1, where=pprofits!=0)\n",
      "/home/andrybin/miniconda3/lib/python3.11/site-packages/numpy/core/_methods.py:121: RuntimeWarning: invalid value encountered in divide\n",
      "  ret = um.true_divide(\n",
      "/tmp/ipykernel_17878/3589544198.py:29: RuntimeWarning: Mean of empty slice.\n",
      "  gprofs_mean = gprofits.mean(axis=1, where=gprofits!=0)\n"
     ]
    },
    {
     "name": "stdout",
     "output_type": "stream",
     "text": [
      "002 profit M5 :   +0.0 ->    +0.0 --\n",
      "002 profit M15:   +0.0 ->    +0.0 --\n",
      "002 profit H1 :+1604.0 -> +1695.4 OK\n",
      "002 mae_train: 1.10 mae_test: 1.07\n",
      "-------------------------------------------------\n",
      "[          nan           nan 1056.87736003]  ->  [         nan          nan 1357.3861084]\n",
      "mae_train: 1.08 mae_test: 1.08 ratio: 1.00\n",
      "av. profit boost: 0.28433644218189247\n"
     ]
    },
    {
     "name": "stderr",
     "output_type": "stream",
     "text": [
      "/tmp/ipykernel_17878/3589544198.py:28: RuntimeWarning: Mean of empty slice.\n",
      "  pprofs_mean = pprofits.mean(axis=1, where=pprofits!=0)\n",
      "/home/andrybin/miniconda3/lib/python3.11/site-packages/numpy/core/_methods.py:121: RuntimeWarning: invalid value encountered in divide\n",
      "  ret = um.true_divide(\n",
      "/tmp/ipykernel_17878/3589544198.py:29: RuntimeWarning: Mean of empty slice.\n",
      "  gprofs_mean = gprofits.mean(axis=1, where=gprofits!=0)\n"
     ]
    },
    {
     "name": "stdout",
     "output_type": "stream",
     "text": [
      "003 profit M5 :   +0.0 ->    +0.0 --\n",
      "003 profit M15:   +0.0 ->    +0.0 --\n",
      "003 profit H1 : +602.4 -> +1067.5 OK\n",
      "003 mae_train: 1.08 mae_test: 1.10\n",
      "-------------------------------------------------\n",
      "[         nan          nan 943.25245667]  ->  [          nan           nan 1284.91531372]\n",
      "mae_train: 1.08 mae_test: 1.09 ratio: 1.00\n",
      "av. profit boost: 0.3622178290037498\n"
     ]
    },
    {
     "name": "stderr",
     "output_type": "stream",
     "text": [
      "/tmp/ipykernel_17878/3589544198.py:28: RuntimeWarning: Mean of empty slice.\n",
      "  pprofs_mean = pprofits.mean(axis=1, where=pprofits!=0)\n",
      "/home/andrybin/miniconda3/lib/python3.11/site-packages/numpy/core/_methods.py:121: RuntimeWarning: invalid value encountered in divide\n",
      "  ret = um.true_divide(\n",
      "/tmp/ipykernel_17878/3589544198.py:29: RuntimeWarning: Mean of empty slice.\n",
      "  gprofs_mean = gprofits.mean(axis=1, where=gprofits!=0)\n"
     ]
    },
    {
     "name": "stdout",
     "output_type": "stream",
     "text": [
      "004 profit M5 :   +0.0 ->    +0.0 --\n",
      "004 profit M15:   +0.0 ->    +0.0 --\n",
      "004 profit H1 :+1533.1 -> +1920.1 OK\n",
      "004 mae_train: 1.09 mae_test: 1.08\n",
      "-------------------------------------------------\n",
      "[          nan           nan 1061.22061768]  ->  [          nan           nan 1411.95725098]\n",
      "mae_train: 1.08 mae_test: 1.08 ratio: 1.00\n",
      "av. profit boost: 0.33050303344929594\n"
     ]
    },
    {
     "name": "stderr",
     "output_type": "stream",
     "text": [
      "/tmp/ipykernel_17878/3589544198.py:28: RuntimeWarning: Mean of empty slice.\n",
      "  pprofs_mean = pprofits.mean(axis=1, where=pprofits!=0)\n",
      "/home/andrybin/miniconda3/lib/python3.11/site-packages/numpy/core/_methods.py:121: RuntimeWarning: invalid value encountered in divide\n",
      "  ret = um.true_divide(\n",
      "/tmp/ipykernel_17878/3589544198.py:29: RuntimeWarning: Mean of empty slice.\n",
      "  gprofs_mean = gprofits.mean(axis=1, where=gprofits!=0)\n"
     ]
    },
    {
     "name": "stdout",
     "output_type": "stream",
     "text": [
      "005 profit M5 :   +0.0 ->    +0.0 --\n",
      "005 profit M15:   +0.0 ->    +0.0 --\n",
      "005 profit H1 :+1211.6 -> +1491.8 OK\n",
      "005 mae_train: 1.08 mae_test: 1.10\n",
      "-------------------------------------------------\n",
      "[          nan           nan 1086.28675334]  ->  [          nan           nan 1425.26912435]\n",
      "mae_train: 1.08 mae_test: 1.09 ratio: 1.00\n",
      "av. profit boost: 0.3120560662009059\n"
     ]
    },
    {
     "name": "stderr",
     "output_type": "stream",
     "text": [
      "/tmp/ipykernel_17878/3589544198.py:28: RuntimeWarning: Mean of empty slice.\n",
      "  pprofs_mean = pprofits.mean(axis=1, where=pprofits!=0)\n",
      "/home/andrybin/miniconda3/lib/python3.11/site-packages/numpy/core/_methods.py:121: RuntimeWarning: invalid value encountered in divide\n",
      "  ret = um.true_divide(\n",
      "/tmp/ipykernel_17878/3589544198.py:29: RuntimeWarning: Mean of empty slice.\n",
      "  gprofs_mean = gprofits.mean(axis=1, where=gprofits!=0)\n"
     ]
    },
    {
     "name": "stdout",
     "output_type": "stream",
     "text": [
      "006 profit M5 :   +0.0 ->    +0.0 --\n",
      "006 profit M15:   +0.0 ->    +0.0 --\n",
      "006 profit H1 : +673.3 ->  +944.3 OK\n",
      "006 mae_train: 1.07 mae_test: 1.12\n",
      "-------------------------------------------------\n",
      "[          nan           nan 1027.28782436]  ->  [         nan          nan 1356.5594308]\n",
      "mae_train: 1.08 mae_test: 1.09 ratio: 1.01\n",
      "av. profit boost: 0.3205251718533768\n"
     ]
    },
    {
     "name": "stderr",
     "output_type": "stream",
     "text": [
      "/tmp/ipykernel_17878/3589544198.py:28: RuntimeWarning: Mean of empty slice.\n",
      "  pprofs_mean = pprofits.mean(axis=1, where=pprofits!=0)\n",
      "/home/andrybin/miniconda3/lib/python3.11/site-packages/numpy/core/_methods.py:121: RuntimeWarning: invalid value encountered in divide\n",
      "  ret = um.true_divide(\n",
      "/tmp/ipykernel_17878/3589544198.py:29: RuntimeWarning: Mean of empty slice.\n",
      "  gprofs_mean = gprofits.mean(axis=1, where=gprofits!=0)\n"
     ]
    },
    {
     "name": "stdout",
     "output_type": "stream",
     "text": [
      "007 profit M5 :   +0.0 ->    +0.0 --\n",
      "007 profit M15:   +0.0 ->    +0.0 --\n",
      "007 profit H1 :+1511.7 -> +1902.6 OK\n",
      "007 mae_train: 1.09 mae_test: 1.09\n",
      "-------------------------------------------------\n",
      "[          nan           nan 1087.83772278]  ->  [          nan           nan 1424.81262207]\n",
      "mae_train: 1.08 mae_test: 1.09 ratio: 1.01\n",
      "av. profit boost: 0.3097657786966273\n"
     ]
    },
    {
     "name": "stderr",
     "output_type": "stream",
     "text": [
      "/tmp/ipykernel_17878/3589544198.py:28: RuntimeWarning: Mean of empty slice.\n",
      "  pprofs_mean = pprofits.mean(axis=1, where=pprofits!=0)\n",
      "/home/andrybin/miniconda3/lib/python3.11/site-packages/numpy/core/_methods.py:121: RuntimeWarning: invalid value encountered in divide\n",
      "  ret = um.true_divide(\n",
      "/tmp/ipykernel_17878/3589544198.py:29: RuntimeWarning: Mean of empty slice.\n",
      "  gprofs_mean = gprofits.mean(axis=1, where=gprofits!=0)\n"
     ]
    },
    {
     "name": "stdout",
     "output_type": "stream",
     "text": [
      "008 profit M5 :   +0.0 ->    +0.0 --\n",
      "008 profit M15:   +0.0 ->    +0.0 --\n",
      "008 profit H1 :+2067.0 -> +2280.0 OK\n",
      "008 mae_train: 1.06 mae_test: 1.17\n",
      "-------------------------------------------------\n",
      "[          nan           nan 1196.63906521]  ->  [          nan           nan 1519.82845052]\n",
      "mae_train: 1.08 mae_test: 1.10 ratio: 1.02\n",
      "av. profit boost: 0.2700809247362492\n"
     ]
    },
    {
     "name": "stderr",
     "output_type": "stream",
     "text": [
      "/tmp/ipykernel_17878/3589544198.py:28: RuntimeWarning: Mean of empty slice.\n",
      "  pprofs_mean = pprofits.mean(axis=1, where=pprofits!=0)\n",
      "/home/andrybin/miniconda3/lib/python3.11/site-packages/numpy/core/_methods.py:121: RuntimeWarning: invalid value encountered in divide\n",
      "  ret = um.true_divide(\n",
      "/tmp/ipykernel_17878/3589544198.py:29: RuntimeWarning: Mean of empty slice.\n",
      "  gprofs_mean = gprofits.mean(axis=1, where=gprofits!=0)\n"
     ]
    },
    {
     "ename": "KeyboardInterrupt",
     "evalue": "",
     "output_type": "error",
     "traceback": [
      "\u001b[0;31m---------------------------------------------------------------------------\u001b[0m",
      "\u001b[0;31mKeyboardInterrupt\u001b[0m                         Traceback (most recent call last)",
      "\u001b[1;32m/home/andrybin/Dev/MLTR/train.ipynb Cell 7\u001b[0m line \u001b[0;36m9\n\u001b[1;32m      <a href='vscode-notebook-cell:/home/andrybin/Dev/MLTR/train.ipynb#X30sZmlsZQ%3D%3D?line=6'>7</a>\u001b[0m np\u001b[39m.\u001b[39mrandom\u001b[39m.\u001b[39mseed(i)\n\u001b[1;32m      <a href='vscode-notebook-cell:/home/andrybin/Dev/MLTR/train.ipynb#X30sZmlsZQ%3D%3D?line=7'>8</a>\u001b[0m X_train, X_test, y_train, y_test, profs_test, tf_test \u001b[39m=\u001b[39m get_data()\n\u001b[0;32m----> <a href='vscode-notebook-cell:/home/andrybin/Dev/MLTR/train.ipynb#X30sZmlsZQ%3D%3D?line=8'>9</a>\u001b[0m model \u001b[39m=\u001b[39m train(Net, \u001b[39m256\u001b[39;49m)\n\u001b[1;32m     <a href='vscode-notebook-cell:/home/andrybin/Dev/MLTR/train.ipynb#X30sZmlsZQ%3D%3D?line=10'>11</a>\u001b[0m \u001b[39mif\u001b[39;00m \u001b[39mlen\u001b[39m(X_train):\n\u001b[1;32m     <a href='vscode-notebook-cell:/home/andrybin/Dev/MLTR/train.ipynb#X30sZmlsZQ%3D%3D?line=11'>12</a>\u001b[0m     \u001b[39m# p_train = model.predict(X_train)\u001b[39;00m\n\u001b[1;32m     <a href='vscode-notebook-cell:/home/andrybin/Dev/MLTR/train.ipynb#X30sZmlsZQ%3D%3D?line=12'>13</a>\u001b[0m     p_train \u001b[39m=\u001b[39m model(torch\u001b[39m.\u001b[39mtensor(X_train)\u001b[39m.\u001b[39mfloat()\u001b[39m.\u001b[39mto(device))\u001b[39m.\u001b[39mdetach()\u001b[39m.\u001b[39mcpu()\u001b[39m.\u001b[39mnumpy()\u001b[39m.\u001b[39msqueeze()\n",
      "\u001b[1;32m/home/andrybin/Dev/MLTR/train.ipynb Cell 7\u001b[0m line \u001b[0;36m1\n\u001b[1;32m     <a href='vscode-notebook-cell:/home/andrybin/Dev/MLTR/train.ipynb#X30sZmlsZQ%3D%3D?line=15'>16</a>\u001b[0m optimizer\u001b[39m.\u001b[39mzero_grad()\n\u001b[1;32m     <a href='vscode-notebook-cell:/home/andrybin/Dev/MLTR/train.ipynb#X30sZmlsZQ%3D%3D?line=17'>18</a>\u001b[0m \u001b[39m# forward + backward + optimize\u001b[39;00m\n\u001b[0;32m---> <a href='vscode-notebook-cell:/home/andrybin/Dev/MLTR/train.ipynb#X30sZmlsZQ%3D%3D?line=18'>19</a>\u001b[0m outputs \u001b[39m=\u001b[39m model(inputs\u001b[39m.\u001b[39;49mfloat()\u001b[39m.\u001b[39;49mto(\u001b[39m\"\u001b[39;49m\u001b[39mcuda\u001b[39;49m\u001b[39m\"\u001b[39;49m))\n\u001b[1;32m     <a href='vscode-notebook-cell:/home/andrybin/Dev/MLTR/train.ipynb#X30sZmlsZQ%3D%3D?line=19'>20</a>\u001b[0m loss \u001b[39m=\u001b[39m criterion(outputs[:, \u001b[39m0\u001b[39m], labels\u001b[39m.\u001b[39mfloat()\u001b[39m.\u001b[39mto(\u001b[39m\"\u001b[39m\u001b[39mcuda\u001b[39m\u001b[39m\"\u001b[39m))\n\u001b[1;32m     <a href='vscode-notebook-cell:/home/andrybin/Dev/MLTR/train.ipynb#X30sZmlsZQ%3D%3D?line=20'>21</a>\u001b[0m loss\u001b[39m.\u001b[39mbackward()\n",
      "File \u001b[0;32m~/miniconda3/lib/python3.11/site-packages/torch/nn/modules/module.py:1518\u001b[0m, in \u001b[0;36mModule._wrapped_call_impl\u001b[0;34m(self, *args, **kwargs)\u001b[0m\n\u001b[1;32m   1516\u001b[0m     \u001b[39mreturn\u001b[39;00m \u001b[39mself\u001b[39m\u001b[39m.\u001b[39m_compiled_call_impl(\u001b[39m*\u001b[39margs, \u001b[39m*\u001b[39m\u001b[39m*\u001b[39mkwargs)  \u001b[39m# type: ignore[misc]\u001b[39;00m\n\u001b[1;32m   1517\u001b[0m \u001b[39melse\u001b[39;00m:\n\u001b[0;32m-> 1518\u001b[0m     \u001b[39mreturn\u001b[39;00m \u001b[39mself\u001b[39;49m\u001b[39m.\u001b[39;49m_call_impl(\u001b[39m*\u001b[39;49margs, \u001b[39m*\u001b[39;49m\u001b[39m*\u001b[39;49mkwargs)\n",
      "File \u001b[0;32m~/miniconda3/lib/python3.11/site-packages/torch/nn/modules/module.py:1527\u001b[0m, in \u001b[0;36mModule._call_impl\u001b[0;34m(self, *args, **kwargs)\u001b[0m\n\u001b[1;32m   1522\u001b[0m \u001b[39m# If we don't have any hooks, we want to skip the rest of the logic in\u001b[39;00m\n\u001b[1;32m   1523\u001b[0m \u001b[39m# this function, and just call forward.\u001b[39;00m\n\u001b[1;32m   1524\u001b[0m \u001b[39mif\u001b[39;00m \u001b[39mnot\u001b[39;00m (\u001b[39mself\u001b[39m\u001b[39m.\u001b[39m_backward_hooks \u001b[39mor\u001b[39;00m \u001b[39mself\u001b[39m\u001b[39m.\u001b[39m_backward_pre_hooks \u001b[39mor\u001b[39;00m \u001b[39mself\u001b[39m\u001b[39m.\u001b[39m_forward_hooks \u001b[39mor\u001b[39;00m \u001b[39mself\u001b[39m\u001b[39m.\u001b[39m_forward_pre_hooks\n\u001b[1;32m   1525\u001b[0m         \u001b[39mor\u001b[39;00m _global_backward_pre_hooks \u001b[39mor\u001b[39;00m _global_backward_hooks\n\u001b[1;32m   1526\u001b[0m         \u001b[39mor\u001b[39;00m _global_forward_hooks \u001b[39mor\u001b[39;00m _global_forward_pre_hooks):\n\u001b[0;32m-> 1527\u001b[0m     \u001b[39mreturn\u001b[39;00m forward_call(\u001b[39m*\u001b[39;49margs, \u001b[39m*\u001b[39;49m\u001b[39m*\u001b[39;49mkwargs)\n\u001b[1;32m   1529\u001b[0m \u001b[39mtry\u001b[39;00m:\n\u001b[1;32m   1530\u001b[0m     result \u001b[39m=\u001b[39m \u001b[39mNone\u001b[39;00m\n",
      "\u001b[1;32m/home/andrybin/Dev/MLTR/train.ipynb Cell 7\u001b[0m line \u001b[0;36m2\n\u001b[1;32m     <a href='vscode-notebook-cell:/home/andrybin/Dev/MLTR/train.ipynb#X30sZmlsZQ%3D%3D?line=22'>23</a>\u001b[0m \u001b[39mdef\u001b[39;00m \u001b[39mforward\u001b[39m(\u001b[39mself\u001b[39m, x):\n\u001b[0;32m---> <a href='vscode-notebook-cell:/home/andrybin/Dev/MLTR/train.ipynb#X30sZmlsZQ%3D%3D?line=23'>24</a>\u001b[0m     x \u001b[39m=\u001b[39m \u001b[39mself\u001b[39m\u001b[39m.\u001b[39mpool(F\u001b[39m.\u001b[39mrelu((\u001b[39mself\u001b[39;49m\u001b[39m.\u001b[39;49mconv1(x))))\n\u001b[1;32m     <a href='vscode-notebook-cell:/home/andrybin/Dev/MLTR/train.ipynb#X30sZmlsZQ%3D%3D?line=24'>25</a>\u001b[0m     x \u001b[39m=\u001b[39m \u001b[39mself\u001b[39m\u001b[39m.\u001b[39mpool(F\u001b[39m.\u001b[39mrelu((\u001b[39mself\u001b[39m\u001b[39m.\u001b[39mconv2(x))))\n\u001b[1;32m     <a href='vscode-notebook-cell:/home/andrybin/Dev/MLTR/train.ipynb#X30sZmlsZQ%3D%3D?line=25'>26</a>\u001b[0m     x \u001b[39m=\u001b[39m \u001b[39mself\u001b[39m\u001b[39m.\u001b[39mpool(F\u001b[39m.\u001b[39mrelu((\u001b[39mself\u001b[39m\u001b[39m.\u001b[39mconv3(x))))\n",
      "File \u001b[0;32m~/miniconda3/lib/python3.11/site-packages/torch/nn/modules/module.py:1518\u001b[0m, in \u001b[0;36mModule._wrapped_call_impl\u001b[0;34m(self, *args, **kwargs)\u001b[0m\n\u001b[1;32m   1516\u001b[0m     \u001b[39mreturn\u001b[39;00m \u001b[39mself\u001b[39m\u001b[39m.\u001b[39m_compiled_call_impl(\u001b[39m*\u001b[39margs, \u001b[39m*\u001b[39m\u001b[39m*\u001b[39mkwargs)  \u001b[39m# type: ignore[misc]\u001b[39;00m\n\u001b[1;32m   1517\u001b[0m \u001b[39melse\u001b[39;00m:\n\u001b[0;32m-> 1518\u001b[0m     \u001b[39mreturn\u001b[39;00m \u001b[39mself\u001b[39;49m\u001b[39m.\u001b[39;49m_call_impl(\u001b[39m*\u001b[39;49margs, \u001b[39m*\u001b[39;49m\u001b[39m*\u001b[39;49mkwargs)\n",
      "File \u001b[0;32m~/miniconda3/lib/python3.11/site-packages/torch/nn/modules/module.py:1527\u001b[0m, in \u001b[0;36mModule._call_impl\u001b[0;34m(self, *args, **kwargs)\u001b[0m\n\u001b[1;32m   1522\u001b[0m \u001b[39m# If we don't have any hooks, we want to skip the rest of the logic in\u001b[39;00m\n\u001b[1;32m   1523\u001b[0m \u001b[39m# this function, and just call forward.\u001b[39;00m\n\u001b[1;32m   1524\u001b[0m \u001b[39mif\u001b[39;00m \u001b[39mnot\u001b[39;00m (\u001b[39mself\u001b[39m\u001b[39m.\u001b[39m_backward_hooks \u001b[39mor\u001b[39;00m \u001b[39mself\u001b[39m\u001b[39m.\u001b[39m_backward_pre_hooks \u001b[39mor\u001b[39;00m \u001b[39mself\u001b[39m\u001b[39m.\u001b[39m_forward_hooks \u001b[39mor\u001b[39;00m \u001b[39mself\u001b[39m\u001b[39m.\u001b[39m_forward_pre_hooks\n\u001b[1;32m   1525\u001b[0m         \u001b[39mor\u001b[39;00m _global_backward_pre_hooks \u001b[39mor\u001b[39;00m _global_backward_hooks\n\u001b[1;32m   1526\u001b[0m         \u001b[39mor\u001b[39;00m _global_forward_hooks \u001b[39mor\u001b[39;00m _global_forward_pre_hooks):\n\u001b[0;32m-> 1527\u001b[0m     \u001b[39mreturn\u001b[39;00m forward_call(\u001b[39m*\u001b[39;49margs, \u001b[39m*\u001b[39;49m\u001b[39m*\u001b[39;49mkwargs)\n\u001b[1;32m   1529\u001b[0m \u001b[39mtry\u001b[39;00m:\n\u001b[1;32m   1530\u001b[0m     result \u001b[39m=\u001b[39m \u001b[39mNone\u001b[39;00m\n",
      "File \u001b[0;32m~/miniconda3/lib/python3.11/site-packages/torch/nn/modules/conv.py:460\u001b[0m, in \u001b[0;36mConv2d.forward\u001b[0;34m(self, input)\u001b[0m\n\u001b[1;32m    459\u001b[0m \u001b[39mdef\u001b[39;00m \u001b[39mforward\u001b[39m(\u001b[39mself\u001b[39m, \u001b[39minput\u001b[39m: Tensor) \u001b[39m-\u001b[39m\u001b[39m>\u001b[39m Tensor:\n\u001b[0;32m--> 460\u001b[0m     \u001b[39mreturn\u001b[39;00m \u001b[39mself\u001b[39;49m\u001b[39m.\u001b[39;49m_conv_forward(\u001b[39minput\u001b[39;49m, \u001b[39mself\u001b[39;49m\u001b[39m.\u001b[39;49mweight, \u001b[39mself\u001b[39;49m\u001b[39m.\u001b[39;49mbias)\n",
      "File \u001b[0;32m~/miniconda3/lib/python3.11/site-packages/torch/nn/modules/conv.py:456\u001b[0m, in \u001b[0;36mConv2d._conv_forward\u001b[0;34m(self, input, weight, bias)\u001b[0m\n\u001b[1;32m    452\u001b[0m \u001b[39mif\u001b[39;00m \u001b[39mself\u001b[39m\u001b[39m.\u001b[39mpadding_mode \u001b[39m!=\u001b[39m \u001b[39m'\u001b[39m\u001b[39mzeros\u001b[39m\u001b[39m'\u001b[39m:\n\u001b[1;32m    453\u001b[0m     \u001b[39mreturn\u001b[39;00m F\u001b[39m.\u001b[39mconv2d(F\u001b[39m.\u001b[39mpad(\u001b[39minput\u001b[39m, \u001b[39mself\u001b[39m\u001b[39m.\u001b[39m_reversed_padding_repeated_twice, mode\u001b[39m=\u001b[39m\u001b[39mself\u001b[39m\u001b[39m.\u001b[39mpadding_mode),\n\u001b[1;32m    454\u001b[0m                     weight, bias, \u001b[39mself\u001b[39m\u001b[39m.\u001b[39mstride,\n\u001b[1;32m    455\u001b[0m                     _pair(\u001b[39m0\u001b[39m), \u001b[39mself\u001b[39m\u001b[39m.\u001b[39mdilation, \u001b[39mself\u001b[39m\u001b[39m.\u001b[39mgroups)\n\u001b[0;32m--> 456\u001b[0m \u001b[39mreturn\u001b[39;00m F\u001b[39m.\u001b[39;49mconv2d(\u001b[39minput\u001b[39;49m, weight, bias, \u001b[39mself\u001b[39;49m\u001b[39m.\u001b[39;49mstride,\n\u001b[1;32m    457\u001b[0m                 \u001b[39mself\u001b[39;49m\u001b[39m.\u001b[39;49mpadding, \u001b[39mself\u001b[39;49m\u001b[39m.\u001b[39;49mdilation, \u001b[39mself\u001b[39;49m\u001b[39m.\u001b[39;49mgroups)\n",
      "\u001b[0;31mKeyboardInterrupt\u001b[0m: "
     ]
    }
   ],
   "source": [
    "device = \"cuda\"\n",
    "nitrers = 40\n",
    "id2tf = {v:k for k, v in tfdict.items()}\n",
    "\n",
    "pprofits, gprofits, metrics = np.zeros((3, nitrers)), np.zeros((3, nitrers)), np.zeros((2, nitrers))\n",
    "for i in range(nitrers):\n",
    "    np.random.seed(i)\n",
    "    X_train, X_test, y_train, y_test, profs_test, tf_test = get_data()\n",
    "    model = train(Net, 256)\n",
    "    \n",
    "    if len(X_train):\n",
    "        # p_train = model.predict(X_train)\n",
    "        p_train = model(torch.tensor(X_train).float().to(device)).detach().cpu().numpy().squeeze()\n",
    "        # threshold = np.percentile(p_train, 10)\n",
    "        metrics[0, i] = mean_absolute_error(p_train, y_train)\n",
    "    # p_test = model.predict(X_test)\n",
    "    p_test = model(torch.tensor(X_test).float().to(device)).detach().cpu().numpy().squeeze()\n",
    "    metrics[1, i] = mean_absolute_error(p_test, y_test)\n",
    "    \n",
    "    threshold = np.percentile(p_train, 10)\n",
    "    for j in range(3):\n",
    "        ids = tf_test == j\n",
    "        pprofits[j, i] = (profs_test[ids]*(p_test[ids]>threshold)).sum()\n",
    "        gprofits[j, i] = profs_test[ids].sum()\n",
    "        print(f\"{i:03} profit {id2tf[j]:3}:{gprofits[j, i]:+7.1f} -> {pprofits[j, i]:+7.1f} {'OK' if pprofits[j, i] > gprofits[j, i] else '--'}\")\n",
    "    print(f\"{i:03} mae_train: {metrics[0, i]:4.2f} mae_test: {metrics[1, i]:4.2f}\")\n",
    "    \n",
    "    pprofs_mean = pprofits.mean(axis=1, where=pprofits!=0)\n",
    "    gprofs_mean = gprofits.mean(axis=1, where=gprofits!=0)\n",
    "    f1_mean = metrics.mean(axis=1, where=metrics!=0)\n",
    "    pprofs_mean_tot = np.nanmean(pprofs_mean)\n",
    "    gprofs_mean_tot = np.nanmean(gprofs_mean)\n",
    "    print(\"-------------------------------------------------\")\n",
    "    print(gprofs_mean, \" -> \", pprofs_mean)\n",
    "    print(f\"mae_train: {f1_mean[0]:4.2f} mae_test: {f1_mean[1]:4.2f} ratio: {f1_mean[1]/f1_mean[0]:4.2f}\")\n",
    "    print(f\"av. profit boost: {(pprofs_mean_tot - gprofs_mean_tot)/abs(gprofs_mean_tot)}\")\n",
    "\n",
    "plt.figure(figsize=(20, 3))\n",
    "plt.subplot(1, 2, 1)\n",
    "plt.plot(p_train[:100], \".\")\n",
    "plt.bar(np.arange(100), y_train[:100], width=[1]*100, alpha=0.4)\n",
    "plt.plot([0, 100], [threshold, threshold])\n",
    "plt.subplot(1, 2, 2)\n",
    "plt.plot(p_test[:100], \".\")\n",
    "plt.bar(np.arange(100), y_test[:100], width=[1]*100, alpha=0.4)\n",
    "# plt.bar(np.arange(100), profs_test[:100], width=[1]*100, alpha=0.2)\n",
    "plt.plot([0, 100], [threshold, threshold])"
   ]
  },
  {
   "cell_type": "code",
   "execution_count": 209,
   "metadata": {},
   "outputs": [
    {
     "data": {
      "text/plain": [
       "array([          nan,           nan, 1262.55725861])"
      ]
     },
     "execution_count": 209,
     "metadata": {},
     "output_type": "execute_result"
    }
   ],
   "source": [
    "pprofs_mean"
   ]
  },
  {
   "cell_type": "code",
   "execution_count": 157,
   "metadata": {},
   "outputs": [
    {
     "data": {
      "text/plain": [
       "-439.66187"
      ]
     },
     "execution_count": 157,
     "metadata": {},
     "output_type": "execute_result"
    }
   ],
   "source": [
    "profs_test[p_test<threshold].sum()"
   ]
  },
  {
   "cell_type": "code",
   "execution_count": 15,
   "metadata": {},
   "outputs": [
    {
     "ename": "TypeError",
     "evalue": "unhashable type: 'numpy.ndarray'",
     "output_type": "error",
     "traceback": [
      "\u001b[0;31m---------------------------------------------------------------------------\u001b[0m",
      "\u001b[0;31mTypeError\u001b[0m                                 Traceback (most recent call last)",
      "Cell \u001b[0;32mIn[15], line 1\u001b[0m\n\u001b[0;32m----> 1\u001b[0m \u001b[38;5;28;43mset\u001b[39;49m\u001b[43m(\u001b[49m\u001b[43mX_train\u001b[49m\u001b[43m[\u001b[49m\u001b[43m:\u001b[49m\u001b[43m,\u001b[49m\u001b[43m \u001b[49m\u001b[38;5;241;43m-\u001b[39;49m\u001b[38;5;241;43m1\u001b[39;49m\u001b[43m]\u001b[49m\u001b[38;5;241;43m.\u001b[39;49m\u001b[43mastype\u001b[49m\u001b[43m(\u001b[49m\u001b[38;5;28;43mint\u001b[39;49m\u001b[43m)\u001b[49m\u001b[43m)\u001b[49m\u001b[38;5;241m.\u001b[39mintersection(\u001b[38;5;28mset\u001b[39m(X_test[:, \u001b[38;5;241m-\u001b[39m\u001b[38;5;241m1\u001b[39m]\u001b[38;5;241m.\u001b[39mastype(\u001b[38;5;28mint\u001b[39m)))\n",
      "\u001b[0;31mTypeError\u001b[0m: unhashable type: 'numpy.ndarray'"
     ]
    }
   ],
   "source": [
    "set(X_train[:, -1].astype(int)).intersection(set(X_test[:, -1].astype(int)))"
   ]
  },
  {
   "cell_type": "code",
   "execution_count": null,
   "metadata": {},
   "outputs": [
    {
     "name": "stdout",
     "output_type": "stream",
     "text": [
      "0.0074 0.0004 0.0014 0.0009 0.0022 0.0258 0.0007 0.0042 0.0000 0.0000 0.0006 0.0051 0.0244 0.0123 0.0029 0.0005 0.0009 0.0000 0.0019 0.0038 0.0001 0.0000 0.0027 0.0003 0.0008 0.0059 0.0047 0.0146 0.0227 0.0058 0.0061 0.0192 0.0102 0.0252 0.0218 0.1189 0.0129 0.0390 0.0000 0.0092 0.0094 0.1496 0.0610 0.0001 0.0300 0.0015 0.0039 0.0096 0.0095 0.0869 0.0426 0.0008 0.0080 0.0287 0.0008 0.0006 0.0173 0.0058 0.0686 0.0197 0.0011 0.0028 0.0016 0.0018 0.0010 0.0024 0.0009 0.0016 0.0014 0.0017 0.0011 0.0079 0.0011 0.0000 0.0024 0.0010 0.0000\n"
     ]
    }
   ],
   "source": [
    "print(\" \".join(map(\"{:6.4f}\".format, model.feature_importances_)))"
   ]
  },
  {
   "cell_type": "code",
   "execution_count": null,
   "metadata": {},
   "outputs": [
    {
     "data": {
      "text/plain": [
       "(1112, 3653, 3682, 3682)"
      ]
     },
     "execution_count": 391,
     "metadata": {},
     "output_type": "execute_result"
    }
   ],
   "source": [
    "y_test.sum(), (p_test>threshold).sum(), p_test.shape[0], y_test.shape[0]"
   ]
  },
  {
   "cell_type": "code",
   "execution_count": null,
   "metadata": {},
   "outputs": [],
   "source": [
    "import mplfinance as mpf\n",
    "\n",
    "ticker = \"GAZP\"\n",
    "tf = \"H1\"\n",
    "hist_pd, hist = DataParser(\n",
    "    EasyDict(\n",
    "        date_start=\"2008-01-01\",\n",
    "        period=tf,\n",
    "        ticker=ticker,\n",
    "        data_type=\"metatrader\"\n",
    "        )).load()\n",
    "\n",
    "for i in ids_test:\n",
    "    pos = poslist[i]\n",
    "    if pos.ticker == ticker:\n",
    "        prediction = model.predict_proba([X[i, :-1]])[0][1]\n",
    "        if prediction < threshold:\n",
    "            print(pos.ticker, pos.open_date, prediction)\n",
    "            d2 = pd.to_datetime(pos.close_date)\n",
    "            d1 = pd.to_datetime(pos.open_date)\n",
    "            d0 = d1 - pd.DateOffset(days=3)\n",
    "            hist2plot = hist_pd.loc[d0:d2]\n",
    "            fig = mpf.plot(hist2plot, \n",
    "                type='candle', \n",
    "                block=False)"
   ]
  },
  {
   "cell_type": "code",
   "execution_count": null,
   "metadata": {},
   "outputs": [
    {
     "data": {
      "text/plain": [
       "array([[0.49287947, 0.50712053]])"
      ]
     },
     "execution_count": 47,
     "metadata": {},
     "output_type": "execute_result"
    }
   ],
   "source": [
    "prediction"
   ]
  }
 ],
 "metadata": {
  "kernelspec": {
   "display_name": "Python 3.10.11 ('base')",
   "language": "python",
   "name": "python3"
  },
  "language_info": {
   "codemirror_mode": {
    "name": "ipython",
    "version": 3
   },
   "file_extension": ".py",
   "mimetype": "text/x-python",
   "name": "python",
   "nbconvert_exporter": "python",
   "pygments_lexer": "ipython3",
   "version": "3.11.5"
  },
  "orig_nbformat": 4,
  "vscode": {
   "interpreter": {
    "hash": "fee188bb3a88b2f91c21b23bf544ec11647f6207f57c38bc925e29c2adb397fe"
   }
  }
 },
 "nbformat": 4,
 "nbformat_minor": 2
}
