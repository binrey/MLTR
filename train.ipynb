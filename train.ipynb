{
 "cells": [
  {
   "cell_type": "code",
   "execution_count": 414,
   "metadata": {},
   "outputs": [
    {
     "name": "stdout",
     "output_type": "stream",
     "text": [
      "optimization/btest000.pickle\n",
      "optimization/btest001.pickle\n",
      "optimization/btest002.pickle\n",
      "optimization/btest003.pickle\n",
      "optimization/btest004.pickle\n",
      "optimization/btest005.pickle\n",
      "optimization/btest006.pickle\n",
      "optimization/btest007.pickle\n",
      "optimization/btest008.pickle\n",
      "optimization/btest009.pickle\n",
      "optimization/btest010.pickle\n",
      "optimization/btest011.pickle\n",
      "optimization/btest012.pickle\n",
      "optimization/btest013.pickle\n",
      "optimization/btest014.pickle\n",
      "optimization/btest015.pickle\n",
      "optimization/btest016.pickle\n",
      "optimization/btest017.pickle\n",
      "optimization/btest018.pickle\n",
      "optimization/btest019.pickle\n",
      "optimization/btest020.pickle\n",
      "optimization/btest021.pickle\n",
      "optimization/btest022.pickle\n",
      "optimization/btest023.pickle\n",
      "optimization/btest024.pickle\n",
      "optimization/btest025.pickle\n",
      "optimization/btest026.pickle\n",
      "optimization/btest027.pickle\n",
      "optimization/btest028.pickle\n",
      "optimization/btest029.pickle\n",
      "optimization/btest030.pickle\n",
      "optimization/btest031.pickle\n",
      "optimization/btest032.pickle\n",
      "optimization/btest033.pickle\n",
      "optimization/btest034.pickle\n",
      "optimization/btest035.pickle\n",
      "optimization/btest036.pickle\n",
      "optimization/btest037.pickle\n",
      "optimization/btest038.pickle\n",
      "optimization/btest039.pickle\n",
      "optimization/btest040.pickle\n",
      "optimization/btest041.pickle\n",
      "optimization/btest042.pickle\n",
      "optimization/btest043.pickle\n",
      "optimization/btest044.pickle\n"
     ]
    }
   ],
   "source": [
    "import pickle\n",
    "from pathlib import Path\n",
    "from easydict import EasyDict\n",
    "import pandas as pd\n",
    "from matplotlib import pyplot as plt\n",
    "\n",
    "pd.set_option('display.max_rows', 500)\n",
    "pd.set_option('display.max_columns', 500)\n",
    "pd.set_option('display.width', 1000)\n",
    "\n",
    "cfgs, btests = [], []\n",
    "for p in sorted(Path(\"optimization\").glob(\"*.pickle\")):\n",
    "    cfg, btest = pickle.load(open(p, \"rb\"))\n",
    "    cfgs.append(cfg)\n",
    "    btests.append(btest)\n",
    "    print(p)"
   ]
  },
  {
   "cell_type": "code",
   "execution_count": 425,
   "metadata": {},
   "outputs": [
    {
     "name": "stdout",
     "output_type": "stream",
     "text": [
      "SBER 629\n",
      "ROSN 529\n",
      "LKOH 532\n",
      "GMKN 549\n",
      "GAZP 577\n",
      "SBER 240\n",
      "ROSN 135\n",
      "LKOH 145\n",
      "GMKN 150\n",
      "GAZP 152\n",
      "SBER 1327\n",
      "ROSN 1151\n",
      "LKOH 1169\n",
      "GMKN 1254\n",
      "GAZP 1296\n",
      "SBER 537\n",
      "ROSN 435\n",
      "LKOH 461\n",
      "GMKN 444\n",
      "GAZP 470\n",
      "SBER 198\n",
      "ROSN 125\n",
      "LKOH 124\n",
      "GMKN 132\n",
      "GAZP 130\n",
      "SBER 1124\n",
      "ROSN 999\n",
      "LKOH 981\n",
      "GMKN 1031\n",
      "GAZP 1080\n",
      "SBER 477\n",
      "ROSN 394\n",
      "LKOH 403\n",
      "GMKN 408\n",
      "GAZP 415\n",
      "SBER 179\n",
      "ROSN 115\n",
      "LKOH 113\n",
      "GMKN 122\n",
      "GAZP 117\n",
      "SBER 1016\n",
      "ROSN 906\n",
      "LKOH 894\n",
      "GMKN 929\n",
      "GAZP 982\n",
      "(12590, 28) (12941, 28) (25531, 28) (12590,) (12941,) (25531,)\n"
     ]
    }
   ],
   "source": [
    "from backtest import DataParser, MovingWindow\n",
    "import numpy as np\n",
    "import lightgbm as lgb\n",
    "from lightgbm import log_evaluation\n",
    "from sklearn.metrics import accuracy_score, f1_score\n",
    "from sklearn.model_selection import train_test_split\n",
    "from sklearn.preprocessing import StandardScaler\n",
    "from sklearn.ensemble import RandomForestClassifier\n",
    "\n",
    "\n",
    "\n",
    "def lgb_f1_score(y_hat, data):\n",
    "    y_true = data.get_label()\n",
    "    y_hat = np.round(y_hat) # scikits f1 doesn't like probabilities\n",
    "    return 'f1', f1_score(y_true, y_hat), False\n",
    "\n",
    "fsize = 5\n",
    "tfdict = {\"M5\":0, \"M15\":1, \"H1\":2}\n",
    "Xl, Xs, yl, ys, odates, poslist = [], [], [], [], [], []\n",
    "for btest in btests:\n",
    "    print(btest.cfg.ticker, end=\" \")\n",
    "    hist_pd, hist = DataParser(btest.cfg).load()\n",
    "    mw = MovingWindow(hist, fsize+2)\n",
    "    print(len(btest.positions))\n",
    "    for pos in btest.positions[1:]:\n",
    "        f, _ = mw(pos.open_indx)\n",
    "        fc = f.Close[:-2]/f.Close[-2]\n",
    "        fo = f.Open[:-2]/f.Open[-2]\n",
    "        fh = f.High[:-2]/f.High[-2]\n",
    "        fl = f.Low[:-2]/f.Low[-2]\n",
    "        fv = f.Volume[:-2]/f.Volume[-2] if f.Volume[-2] != 0 else f.Volume[:-2]*0\n",
    "        odate = pd.to_datetime(pos.open_date)\n",
    "        odate = odate.year*10000 + odate.month*100 + odate.day\n",
    "        if pos.dir == 1:\n",
    "            Xl.append(np.hstack([fc, fo, fl, fh, fv, btest.cfg.stops_processor.func.cfg.sl, odate, tfdict[btest.cfg.period]]))\n",
    "            yl.append(pos.profit)\n",
    "        else:\n",
    "            Xs.append(np.hstack([2-fc, 2-fo, 2-fl, 2-fh, fv, btest.cfg.stops_processor.func.cfg.sl, odate, tfdict[btest.cfg.period]])) \n",
    "            ys.append(pos.profit) \n",
    "        poslist.append(pos)\n",
    "        \n",
    "Xs, Xl = np.array(Xs), np.array(Xl)\n",
    "ys, yl = np.array(ys), np.array(yl)\n",
    "odates = np.array(odates)\n",
    "\n",
    "# ids2add = np.random.choice(np.arange(Xs.shape[0]), size=Xl.shape[0] - Xs.shape[0])\n",
    "# Xs = np.vstack([Xs, Xs[ids2add]])\n",
    "# ys = np.hstack([ys, ys[ids2add]])\n",
    "X = np.vstack([Xs, Xl])\n",
    "y = np.hstack([ys, yl])\n",
    "print(Xs.shape, Xl.shape, X.shape, ys.shape, yl.shape, y.shape)"
   ]
  },
  {
   "cell_type": "code",
   "execution_count": 430,
   "metadata": {},
   "outputs": [
    {
     "name": "stdout",
     "output_type": "stream",
     "text": [
      "19134 6397\n",
      "000 profit M5 : +329.3 ->  +324.6 --\n",
      "000 profit M15: +320.9 ->  +303.2 --\n",
      "000 profit H1 : +268.9 ->  +286.7 OK\n",
      "000 f1_train: 0.50 f1_test: 0.50\n",
      "[329.26997044 320.8583787  268.86755492]  ->  [324.59131282 303.18497843 286.74892094]\n",
      "[-0.01420918 -0.05508162  0.06650622]\n",
      "f1_train: 0.50 f1_test: 0.50 ration: 1.00\n",
      "av. profit boost: -0.004864757139290981\n"
     ]
    },
    {
     "data": {
      "text/plain": [
       "[<matplotlib.lines.Line2D at 0x7fb849ba2510>]"
      ]
     },
     "execution_count": 430,
     "metadata": {},
     "output_type": "execute_result"
    },
    {
     "data": {
      "image/png": "[encoded data removed]",
      "text/plain": [
       "<Figure size 2000x300 with 2 Axes>"
      ]
     },
     "metadata": {},
     "output_type": "display_data"
    }
   ],
   "source": [
    "nitrers = 1\n",
    "test_split = 0.25\n",
    "id2tf = {v:k for k, v in tfdict.items()}\n",
    "\n",
    "pprofits, gprofits, metrics = np.zeros((3, nitrers)), np.zeros((3, nitrers)), np.zeros((2, nitrers))\n",
    "for i in range(nitrers):\n",
    "    ids = np.arange(X.shape[0])\n",
    "    # np.random.shuffle(ids)\n",
    "    test_size = int(X.shape[0]*test_split)\n",
    "    ids_test, odates_testset, odates = [], set(), X[:, -2]\n",
    "    while len(ids_test) < test_size:\n",
    "        ix = np.random.randint(0, X.shape[0])\n",
    "        d = odates[ix]\n",
    "        if d not in odates_testset:\n",
    "            ii = ids[odates == d]\n",
    "            ids_test += ii.tolist()\n",
    "            odates_testset.add(d)\n",
    "    ids_train = [ix for ix in ids if ix not in ids_test]    \n",
    "        \n",
    "    # ids_test, ids_train = ids[:test_size], ids[test_size:]\n",
    "    X_train, X_test, y_train, y_test = X[ids_train], X[ids_test], y[ids_train], y[ids_test]\n",
    "    tf_test = X_test[:, -1]\n",
    "    X_train = X_train[:, :-2]\n",
    "    X_test = X_test[:, :-2]\n",
    "    profs_test = y_test\n",
    "    profs_train = y_train\n",
    "    y_train = (y_train > 0).astype(int)\n",
    "    y_test = (y_test > 0).astype(int)\n",
    "    print(X_train.shape[0], X_test.shape[0])\n",
    "\n",
    "    # scaler = StandardScaler() \n",
    "    # scaler.fit(X_train) \n",
    "    # X_train = scaler.transform(X_train) \n",
    "    # X_test = scaler.transform(X_test) \n",
    "    \n",
    "    # X_add = X_train + np.random.random(X_train.shape)*0.1\n",
    "    # X_train = np.vstack([X_train, X_add])\n",
    "    # y_train = np.hstack([y_train, y_train])\n",
    "\n",
    "    # evals_result = {}\n",
    "    # model = lgb.train(params=dict(objective=\"binary\", \n",
    "    #                             # metric=\"auc\",\n",
    "    #                             # num_leaves=2, \n",
    "    #                             max_depth=3,\n",
    "    #                             verbose=-1), \n",
    "    #                   train_set=lgb.Dataset(X_train, label=y_train),\n",
    "    #                   valid_sets=[lgb.Dataset(X_test, label=y_test)],\n",
    "    #                   num_boost_round=500,\n",
    "    #                   feval=lgb_f1_score,\n",
    "    #                   # evals_result=evals_result,\n",
    "    #                   # verbose_eval=False,\n",
    "    #                   callbacks=[log_evaluation(-1)]\n",
    "    #                   )\n",
    "    # lgb.plot_metric(evals_result, metric='f1')\n",
    "\n",
    "    model = RandomForestClassifier(max_depth=16, n_estimators=400, min_samples_leaf=50, class_weight=\"balanced\",)\n",
    "    model.fit(X_train, y_train)\n",
    "    \n",
    "    if len(X_train):\n",
    "        # p_train = model.predict(X_train)\n",
    "        p_train = model.predict_proba(X_train)[:, 1]\n",
    "        threshold = 0.3#np.percentile(p_train, 10)\n",
    "        metrics[0, i] = f1_score(p_train > threshold, y_train)\n",
    "    # p_test = model.predict(X_test)\n",
    "    p_test = model.predict_proba(X_test)[:, 1]\n",
    "    metrics[1, i] = f1_score(p_test > threshold, y_test)\n",
    "\n",
    "    for j in range(3):\n",
    "        ids = tf_test == j\n",
    "        pprofits[j, i] = (profs_test[ids]*(p_test[ids]>=threshold)).sum()\n",
    "        gprofits[j, i] = profs_test[ids].sum()\n",
    "        print(f\"{i:03} profit {id2tf[j]:3}:{gprofits[j, i]:+7.1f} -> {pprofits[j, i]:+7.1f} {'OK' if pprofits[j, i] > gprofits[j, i] else '--'}\")\n",
    "    print(f\"{i:03} f1_train: {metrics[0, i]:4.2f} f1_test: {metrics[1, i]:4.2f}\")\n",
    "    \n",
    "pprofs_mean = pprofits.mean(1)\n",
    "gprofs_mean = gprofits.mean(1)\n",
    "f1_mean = metrics.mean(1)\n",
    "\n",
    "print(gprofs_mean, \" -> \", pprofs_mean)\n",
    "print((pprofs_mean - gprofs_mean)/abs(gprofs_mean))\n",
    "print(f\"f1_train: {f1_mean[0]:4.2f} f1_test: {f1_mean[1]:4.2f} ration: {f1_mean[1]/f1_mean[0]:4.2f}\")\n",
    "print(f\"av. profit boost: {(pprofits.mean() - gprofits.mean())/gprofits.mean()}\")\n",
    "\n",
    "plt.figure(figsize=(20, 3))\n",
    "plt.subplot(1, 2, 1)\n",
    "plt.plot(p_train[:100])\n",
    "plt.bar(np.arange(100), y_train[:100], width=[1]*100, alpha=0.4)\n",
    "plt.plot([0, 100], [threshold, threshold])\n",
    "plt.subplot(1, 2, 2)\n",
    "plt.plot(p_test[:100])\n",
    "plt.bar(np.arange(100), y_test[:100], width=[1]*100, alpha=0.4)\n",
    "plt.plot([0, 100], [threshold, threshold])"
   ]
  },
  {
   "cell_type": "code",
   "execution_count": 394,
   "metadata": {},
   "outputs": [
    {
     "data": {
      "text/plain": [
       "{1, 2, 3}"
      ]
     },
     "execution_count": 394,
     "metadata": {},
     "output_type": "execute_result"
    }
   ],
   "source": [
    "set(X_train[:, -1].astype(int)).intersection(set(X_test[:, -1].astype(int)))"
   ]
  },
  {
   "cell_type": "code",
   "execution_count": 396,
   "metadata": {},
   "outputs": [
    {
     "name": "stdout",
     "output_type": "stream",
     "text": [
      "0.2068 0.1769 0.2054 0.1632 0.1462 0.1016\n"
     ]
    }
   ],
   "source": [
    "print(\" \".join(map(\"{:6.4f}\".format, model.feature_importances_)))"
   ]
  },
  {
   "cell_type": "code",
   "execution_count": 391,
   "metadata": {},
   "outputs": [
    {
     "data": {
      "text/plain": [
       "(1112, 3653, 3682, 3682)"
      ]
     },
     "execution_count": 391,
     "metadata": {},
     "output_type": "execute_result"
    }
   ],
   "source": [
    "y_test.sum(), (p_test>threshold).sum(), p_test.shape[0], y_test.shape[0]"
   ]
  },
  {
   "cell_type": "code",
   "execution_count": null,
   "metadata": {},
   "outputs": [],
   "source": [
    "import mplfinance as mpf\n",
    "\n",
    "ticker = \"GAZP\"\n",
    "tf = \"H1\"\n",
    "hist_pd, hist = DataParser(\n",
    "    EasyDict(\n",
    "        date_start=\"2008-01-01\",\n",
    "        period=tf,\n",
    "        ticker=ticker,\n",
    "        data_type=\"metatrader\"\n",
    "        )).load()\n",
    "\n",
    "for i in ids_test:\n",
    "    pos = poslist[i]\n",
    "    if pos.ticker == ticker:\n",
    "        prediction = model.predict_proba([X[i, :-1]])[0][1]\n",
    "        if prediction < threshold:\n",
    "            print(pos.ticker, pos.open_date, prediction)\n",
    "            d2 = pd.to_datetime(pos.close_date)\n",
    "            d1 = pd.to_datetime(pos.open_date)\n",
    "            d0 = d1 - pd.DateOffset(days=3)\n",
    "            hist2plot = hist_pd.loc[d0:d2]\n",
    "            fig = mpf.plot(hist2plot, \n",
    "                type='candle', \n",
    "                block=False)"
   ]
  },
  {
   "cell_type": "code",
   "execution_count": 47,
   "metadata": {},
   "outputs": [
    {
     "data": {
      "text/plain": [
       "array([[0.49287947, 0.50712053]])"
      ]
     },
     "execution_count": 47,
     "metadata": {},
     "output_type": "execute_result"
    }
   ],
   "source": [
    "prediction"
   ]
  }
 ],
 "metadata": {
  "kernelspec": {
   "display_name": "Python 3.10.11 ('base')",
   "language": "python",
   "name": "python3"
  },
  "language_info": {
   "codemirror_mode": {
    "name": "ipython",
    "version": 3
   },
   "file_extension": ".py",
   "mimetype": "text/x-python",
   "name": "python",
   "nbconvert_exporter": "python",
   "pygments_lexer": "ipython3",
   "version": "3.10.11"
  },
  "orig_nbformat": 4,
  "vscode": {
   "interpreter": {
    "hash": "fee188bb3a88b2f91c21b23bf544ec11647f6207f57c38bc925e29c2adb397fe"
   }
  }
 },
 "nbformat": 4,
 "nbformat_minor": 2
}
